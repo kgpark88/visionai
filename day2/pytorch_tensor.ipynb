{
  "nbformat": 4,
  "nbformat_minor": 0,
  "metadata": {
    "colab": {
      "name": "pytorch_tensor.ipynb",
      "provenance": [],
      "collapsed_sections": [],
      "include_colab_link": true
    },
    "kernelspec": {
      "name": "python3",
      "display_name": "Python 3"
    },
    "language_info": {
      "name": "python"
    },
    "accelerator": "GPU"
  },
  "cells": [
    {
      "cell_type": "markdown",
      "metadata": {
        "id": "view-in-github",
        "colab_type": "text"
      },
      "source": [
        "<a href=\"https://colab.research.google.com/github/kgpark88/visionai/blob/main/day2/pytorch_tensor.ipynb\" target=\"_parent\"><img src=\"https://colab.research.google.com/assets/colab-badge.svg\" alt=\"Open In Colab\"/></a>"
      ]
    },
    {
      "cell_type": "markdown",
      "metadata": {
        "id": "-tXHGxYWNebT"
      },
      "source": [
        "# PyTorch Tensor\n",
        "https://www.programmersought.com/article/40345471852/"
      ]
    },
    {
      "cell_type": "markdown",
      "metadata": {
        "id": "eN9Fh2fkNq74"
      },
      "source": [
        "## CreateTensor"
      ]
    },
    {
      "cell_type": "code",
      "metadata": {
        "id": "KbfGgq61NaPl"
      },
      "source": [
        "import torch"
      ],
      "execution_count": null,
      "outputs": []
    },
    {
      "cell_type": "markdown",
      "metadata": {
        "id": "jB2K2sySN0CB"
      },
      "source": [
        "Create a 5x3 uninitialized Tensor"
      ]
    },
    {
      "cell_type": "code",
      "metadata": {
        "colab": {
          "base_uri": "https://localhost:8080/"
        },
        "id": "33n0Nea9Nnco",
        "outputId": "422d7cee-c366-46ff-ab04-4dc4ba9d5b1f"
      },
      "source": [
        "x = torch.empty(5, 3)\n",
        "print(x)"
      ],
      "execution_count": null,
      "outputs": [
        {
          "output_type": "stream",
          "name": "stdout",
          "text": [
            "tensor([[-3.9982e+03,  3.0901e-41,  3.3631e-44],\n",
            "        [ 0.0000e+00,         nan,  3.0901e-41],\n",
            "        [ 1.1578e+27,  1.1362e+30,  7.1547e+22],\n",
            "        [ 4.5828e+30,  1.2121e+04,  7.1846e+22],\n",
            "        [ 9.2198e-39,  7.0374e+22, -1.0967e+03]])\n"
          ]
        }
      ]
    },
    {
      "cell_type": "markdown",
      "metadata": {
        "id": "ebdT9QxEN4Yh"
      },
      "source": [
        "Create a 5x3 randomly initializedTensor:"
      ]
    },
    {
      "cell_type": "code",
      "metadata": {
        "colab": {
          "base_uri": "https://localhost:8080/"
        },
        "id": "-PBG7zRvNuol",
        "outputId": "dea83a63-bba5-4a9a-e159-72e44cc4aa28"
      },
      "source": [
        "x = torch.rand(5, 3)\n",
        "print(x)"
      ],
      "execution_count": null,
      "outputs": [
        {
          "output_type": "stream",
          "name": "stdout",
          "text": [
            "tensor([[0.4356, 0.9035, 0.5251],\n",
            "        [0.7648, 0.6115, 0.8882],\n",
            "        [0.4277, 0.8772, 0.9042],\n",
            "        [0.0222, 0.1505, 0.1248],\n",
            "        [0.5621, 0.6175, 0.3954]])\n"
          ]
        }
      ]
    },
    {
      "cell_type": "markdown",
      "metadata": {
        "id": "CPQOi9GXOAq5"
      },
      "source": [
        "Create a 5x3 long type with all 0s Tensor"
      ]
    },
    {
      "cell_type": "code",
      "metadata": {
        "colab": {
          "base_uri": "https://localhost:8080/"
        },
        "id": "8RDrocLyNwFE",
        "outputId": "a6fe62f8-2e88-4627-8d68-eb03ba51647a"
      },
      "source": [
        "x = torch.zeros(5, 3, dtype=torch.long)\n",
        "print(x)"
      ],
      "execution_count": null,
      "outputs": [
        {
          "output_type": "stream",
          "name": "stdout",
          "text": [
            "tensor([[0, 0, 0],\n",
            "        [0, 0, 0],\n",
            "        [0, 0, 0],\n",
            "        [0, 0, 0],\n",
            "        [0, 0, 0]])\n"
          ]
        }
      ]
    },
    {
      "cell_type": "markdown",
      "metadata": {
        "id": "eFfDpT6fOE8J"
      },
      "source": [
        "Create directly based on data"
      ]
    },
    {
      "cell_type": "code",
      "metadata": {
        "colab": {
          "base_uri": "https://localhost:8080/"
        },
        "id": "T-SHOUkGNwIO",
        "outputId": "18440719-f532-4367-a19e-e8a47902ca45"
      },
      "source": [
        "x = torch.tensor([5.5, 3])\n",
        "print(x)"
      ],
      "execution_count": null,
      "outputs": [
        {
          "output_type": "stream",
          "name": "stdout",
          "text": [
            "tensor([5.5000, 3.0000])\n"
          ]
        }
      ]
    },
    {
      "cell_type": "markdown",
      "metadata": {
        "id": "O-pFTJfzOatB"
      },
      "source": [
        "You can also use existingTensor To create,   \n",
        "this method will reuse the input by default Tensor Some attributes,   \n",
        "such as data type, unless custom data type."
      ]
    },
    {
      "cell_type": "code",
      "metadata": {
        "colab": {
          "base_uri": "https://localhost:8080/"
        },
        "id": "xSTklDgINwKr",
        "outputId": "e576ea65-fae9-44b9-b928-05fb0303c856"
      },
      "source": [
        "x = x.new_ones(5, 3, dtype=torch.float64)  # The returned tensor has the same torch.dtype and torch.device by default\n",
        "print(x)\n",
        "\n",
        "x = torch.randn_like(x, dtype=torch.float) # Specify new data type\n",
        "print(x)"
      ],
      "execution_count": null,
      "outputs": [
        {
          "output_type": "stream",
          "name": "stdout",
          "text": [
            "tensor([[1., 1., 1.],\n",
            "        [1., 1., 1.],\n",
            "        [1., 1., 1.],\n",
            "        [1., 1., 1.],\n",
            "        [1., 1., 1.]], dtype=torch.float64)\n",
            "tensor([[-0.5829, -1.0166, -1.4442],\n",
            "        [ 0.1566,  0.7404,  1.6161],\n",
            "        [ 0.8448, -0.7789,  0.0911],\n",
            "        [-1.9529, -1.4881, -0.9876],\n",
            "        [-0.9141, -0.4131,  0.3340]])\n"
          ]
        }
      ]
    },
    {
      "cell_type": "markdown",
      "metadata": {
        "id": "Ct7LMxOlOibY"
      },
      "source": [
        "We can pass shape or size() To get Tensor shape:"
      ]
    },
    {
      "cell_type": "code",
      "metadata": {
        "colab": {
          "base_uri": "https://localhost:8080/"
        },
        "id": "FPoq-88pNwNK",
        "outputId": "83710064-bd49-468e-e51d-af2c5cab6503"
      },
      "source": [
        "print(x.size())\n",
        "print(x.shape)"
      ],
      "execution_count": null,
      "outputs": [
        {
          "output_type": "stream",
          "name": "stdout",
          "text": [
            "torch.Size([5, 3])\n",
            "torch.Size([5, 3])\n"
          ]
        }
      ]
    },
    {
      "cell_type": "markdown",
      "metadata": {
        "id": "i64pvO5VOzo6"
      },
      "source": [
        "## Operation"
      ]
    },
    {
      "cell_type": "markdown",
      "metadata": {
        "id": "y1zNvN-VO2-B"
      },
      "source": [
        "### Arithmetic operation\n",
        "In PyTorch, the same operation may have many forms. The following uses addition as an example.\n",
        "\n"
      ]
    },
    {
      "cell_type": "markdown",
      "metadata": {
        "id": "GWLwx9NcO74Y"
      },
      "source": [
        "Arithmetic operation"
      ]
    },
    {
      "cell_type": "code",
      "metadata": {
        "colab": {
          "base_uri": "https://localhost:8080/"
        },
        "id": "qVaYqziWO2mh",
        "outputId": "b7d69002-b25d-406a-f60a-8759a1b1ce49"
      },
      "source": [
        "y = torch.rand(5, 3)\n",
        "print(x + y)"
      ],
      "execution_count": null,
      "outputs": [
        {
          "output_type": "stream",
          "name": "stdout",
          "text": [
            "tensor([[-0.4359, -0.7152, -0.5001],\n",
            "        [ 0.8096,  1.5470,  1.9865],\n",
            "        [ 1.4128, -0.2950,  0.1463],\n",
            "        [-1.1597, -1.3962, -0.9642],\n",
            "        [-0.6562,  0.1920,  0.5717]])\n"
          ]
        }
      ]
    },
    {
      "cell_type": "markdown",
      "metadata": {
        "id": "6CWSNmdKPIBI"
      },
      "source": [
        "Additive form two"
      ]
    },
    {
      "cell_type": "code",
      "metadata": {
        "colab": {
          "base_uri": "https://localhost:8080/"
        },
        "id": "_dJf2-EGNwPn",
        "outputId": "7d40c2a7-dbb9-49de-ae7f-4d37aac66b42"
      },
      "source": [
        "print(torch.add(x, y))"
      ],
      "execution_count": null,
      "outputs": [
        {
          "output_type": "stream",
          "name": "stdout",
          "text": [
            "tensor([[-0.4359, -0.7152, -0.5001],\n",
            "        [ 0.8096,  1.5470,  1.9865],\n",
            "        [ 1.4128, -0.2950,  0.1463],\n",
            "        [-1.1597, -1.3962, -0.9642],\n",
            "        [-0.6562,  0.1920,  0.5717]])\n"
          ]
        }
      ]
    },
    {
      "cell_type": "markdown",
      "metadata": {
        "id": "SUkVBt5RPWhx"
      },
      "source": [
        "You can also specify the output:"
      ]
    },
    {
      "cell_type": "code",
      "metadata": {
        "colab": {
          "base_uri": "https://localhost:8080/"
        },
        "id": "dezXkw26NwSF",
        "outputId": "1a4c1bf2-bbf5-483c-c08f-c53b0571a6ab"
      },
      "source": [
        "result = torch.empty(5, 3)\n",
        "torch.add(x, y, out=result)\n",
        "print(result)"
      ],
      "execution_count": null,
      "outputs": [
        {
          "output_type": "stream",
          "name": "stdout",
          "text": [
            "tensor([[-0.4359, -0.7152, -0.5001],\n",
            "        [ 0.8096,  1.5470,  1.9865],\n",
            "        [ 1.4128, -0.2950,  0.1463],\n",
            "        [-1.1597, -1.3962, -0.9642],\n",
            "        [-0.6562,  0.1920,  0.5717]])\n"
          ]
        }
      ]
    },
    {
      "cell_type": "markdown",
      "metadata": {
        "id": "oPmY9huYPaz5"
      },
      "source": [
        "Additive form three, inplace  \n",
        "Note: PyTorch operation inplace version has a suffix _, E.g x.copy_(y), x.t_()"
      ]
    },
    {
      "cell_type": "code",
      "metadata": {
        "colab": {
          "base_uri": "https://localhost:8080/"
        },
        "id": "OoBAx3m9NwUk",
        "outputId": "6c6e7791-17b1-46e7-f0cc-275d78d0a86e"
      },
      "source": [
        "# adds x to y\n",
        "y.add_(x)\n",
        "print(y)"
      ],
      "execution_count": null,
      "outputs": [
        {
          "output_type": "stream",
          "name": "stdout",
          "text": [
            "tensor([[-0.4359, -0.7152, -0.5001],\n",
            "        [ 0.8096,  1.5470,  1.9865],\n",
            "        [ 1.4128, -0.2950,  0.1463],\n",
            "        [-1.1597, -1.3962, -0.9642],\n",
            "        [-0.6562,  0.1920,  0.5717]])\n"
          ]
        }
      ]
    },
    {
      "cell_type": "markdown",
      "metadata": {
        "id": "rBE-uLdOPog4"
      },
      "source": [
        "### index\n",
        "- We can also use NumPy-like index operations to accessTensor\n",
        "- The part that needs attention is:   \n",
        "  The indexed result shares memory with the original data,   \n",
        "  that is, if one is modified, the other will be modified accordingly."
      ]
    },
    {
      "cell_type": "code",
      "metadata": {
        "colab": {
          "base_uri": "https://localhost:8080/"
        },
        "id": "Qkwc46mpNwW_",
        "outputId": "ad549fcb-9646-49b7-e8bd-757bba1c9810"
      },
      "source": [
        "y = x[0, :]\n",
        "y += 1\n",
        "print(y)\n",
        "print(x[0, :]) # The source tensor has also been changed"
      ],
      "execution_count": null,
      "outputs": [
        {
          "output_type": "stream",
          "name": "stdout",
          "text": [
            "tensor([ 0.4171, -0.0166, -0.4442])\n",
            "tensor([ 0.4171, -0.0166, -0.4442])\n"
          ]
        }
      ]
    },
    {
      "cell_type": "markdown",
      "metadata": {
        "id": "95VVpK61QAj4"
      },
      "source": [
        "### Change shape\n",
        "Use view() to changeTensorshape:"
      ]
    },
    {
      "cell_type": "code",
      "metadata": {
        "colab": {
          "base_uri": "https://localhost:8080/"
        },
        "id": "YN9olqsiNwZy",
        "outputId": "ae787e11-8645-411c-cd3e-89a104fb2901"
      },
      "source": [
        "y = x.view(15)\n",
        "z = x.view(-1, 5)  # -1 The dimension referred to can be derived from the values ​​of other dimensions\n",
        "print(x.size(), y.size(), z.size())"
      ],
      "execution_count": null,
      "outputs": [
        {
          "output_type": "stream",
          "name": "stdout",
          "text": [
            "torch.Size([5, 3]) torch.Size([15]) torch.Size([3, 5])\n"
          ]
        }
      ]
    },
    {
      "cell_type": "markdown",
      "metadata": {
        "id": "ecw8AKteQRsQ"
      },
      "source": [
        "note view() Returned new Tensor With source Tensor   \n",
        "Although there may be different size, But shared data Yes,   \n",
        "that is, if you change one of them, the other will change accordingly.   \n",
        "(As the name suggests, view only changes the viewing angle of this tensor,   \n",
        "the internal data has not changed)"
      ]
    },
    {
      "cell_type": "code",
      "metadata": {
        "colab": {
          "base_uri": "https://localhost:8080/"
        },
        "id": "O0zmprGGNwb6",
        "outputId": "b11095fb-0e4d-4a23-fff4-a459b97462e4"
      },
      "source": [
        "x += 1\n",
        "print(x)\n",
        "print(y) # Also added 1"
      ],
      "execution_count": null,
      "outputs": [
        {
          "output_type": "stream",
          "name": "stdout",
          "text": [
            "tensor([[ 1.4171,  0.9834,  0.5558],\n",
            "        [ 1.1566,  1.7404,  2.6161],\n",
            "        [ 1.8448,  0.2211,  1.0911],\n",
            "        [-0.9529, -0.4881,  0.0124],\n",
            "        [ 0.0859,  0.5869,  1.3340]])\n",
            "tensor([ 1.4171,  0.9834,  0.5558,  1.1566,  1.7404,  2.6161,  1.8448,  0.2211,\n",
            "         1.0911, -0.9529, -0.4881,  0.0124,  0.0859,  0.5869,  1.3340])\n"
          ]
        }
      ]
    },
    {
      "cell_type": "markdown",
      "metadata": {
        "id": "aSnZ6g4UQ1KJ"
      },
      "source": [
        "So what if we want to return a truly new copy (ie without sharing data memory)?  \n",
        "Pytorch also provides are shape()   \n",
        "You can change the shape, but this function does not guarantee that it will return a copy, so it is not recommended.   \n",
        "Recommended first clone Create a copy and use it again view"
      ]
    },
    {
      "cell_type": "code",
      "metadata": {
        "colab": {
          "base_uri": "https://localhost:8080/"
        },
        "id": "figIvmiJNweX",
        "outputId": "c9c3d9da-b00c-4475-eaf7-0a201eb035e1"
      },
      "source": [
        "x_cp = x.clone().view(15)\n",
        "x -= 1\n",
        "print(x)\n",
        "print(x_cp)"
      ],
      "execution_count": null,
      "outputs": [
        {
          "output_type": "stream",
          "name": "stdout",
          "text": [
            "tensor([[ 0.4171, -0.0166, -0.4442],\n",
            "        [ 0.1566,  0.7404,  1.6161],\n",
            "        [ 0.8448, -0.7789,  0.0911],\n",
            "        [-1.9529, -1.4881, -0.9876],\n",
            "        [-0.9141, -0.4131,  0.3340]])\n",
            "tensor([ 1.4171,  0.9834,  0.5558,  1.1566,  1.7404,  2.6161,  1.8448,  0.2211,\n",
            "         1.0911, -0.9529, -0.4881,  0.0124,  0.0859,  0.5869,  1.3340])\n"
          ]
        }
      ]
    },
    {
      "cell_type": "markdown",
      "metadata": {
        "id": "xdwdpdZHRE_I"
      },
      "source": [
        "Another commonly used function is item(),   \n",
        "It can convert a scalar Tensor Converted into a Python number:"
      ]
    },
    {
      "cell_type": "code",
      "metadata": {
        "colab": {
          "base_uri": "https://localhost:8080/"
        },
        "id": "BK6sHhVNNwg0",
        "outputId": "a8ce3148-07ba-4e63-bc1f-af9b72d7255c"
      },
      "source": [
        "x = torch.randn(1)\n",
        "print(x)\n",
        "print(x.item())"
      ],
      "execution_count": null,
      "outputs": [
        {
          "output_type": "stream",
          "name": "stdout",
          "text": [
            "tensor([-0.7192])\n",
            "-0.7192049026489258\n"
          ]
        }
      ]
    },
    {
      "cell_type": "markdown",
      "metadata": {
        "id": "ygjJ_VX_RTQw"
      },
      "source": [
        "### Broadcast mechanism\n",
        "Earlier we saw how to treat two identical shapes Tensor Do element wise operations.   \n",
        "When two different shapes Tensor When calculating by element,   \n",
        "the broadcasting mechanism may be triggered:   \n",
        "first copy the elements appropriately to make these two Tensor Operate by element after the same shape."
      ]
    },
    {
      "cell_type": "code",
      "metadata": {
        "colab": {
          "base_uri": "https://localhost:8080/"
        },
        "id": "QIzO4k87RLQH",
        "outputId": "e68b941f-df9a-4e32-c438-7e6fda316f47"
      },
      "source": [
        "x = torch.arange(1, 3).view(1, 2)\n",
        "print(x)\n",
        "y = torch.arange(1, 4).view(3, 1)\n",
        "print(y)\n",
        "print(x + y)"
      ],
      "execution_count": null,
      "outputs": [
        {
          "output_type": "stream",
          "name": "stdout",
          "text": [
            "tensor([[1, 2]])\n",
            "tensor([[1],\n",
            "        [2],\n",
            "        [3]])\n",
            "tensor([[2, 3],\n",
            "        [3, 4],\n",
            "        [4, 5]])\n"
          ]
        }
      ]
    },
    {
      "cell_type": "markdown",
      "metadata": {
        "id": "LDr9KHj1R2eq"
      },
      "source": [
        "### Operational memory overhead\n",
        "As mentioned earlier, index operations will not open up new memory,  \n",
        "but like y = x + y   \n",
        "This kind of calculation will newly open the memory, and then y Point to new memory.   \n",
        "To demonstrate this, we can use Python's own id Function:   \n",
        "If the IDs of the two instances are the same, \n",
        "then their corresponding memory addresses are the same;   \n",
        "otherwise, they are different."
      ]
    },
    {
      "cell_type": "code",
      "metadata": {
        "colab": {
          "base_uri": "https://localhost:8080/"
        },
        "id": "-XiVT0xqR4ae",
        "outputId": "5884cd6c-1b0e-480d-8f37-b937aa2affbc"
      },
      "source": [
        "x = torch.tensor([1, 2])\n",
        "y = torch.tensor([3, 4])\n",
        "id_before = id(y)\n",
        "y = y + x\n",
        "print(id(y) == id_before) # False "
      ],
      "execution_count": null,
      "outputs": [
        {
          "output_type": "stream",
          "name": "stdout",
          "text": [
            "False\n"
          ]
        }
      ]
    },
    {
      "cell_type": "markdown",
      "metadata": {
        "id": "fqxZfe-nSb2Z"
      },
      "source": [
        "If you want to assign the result to the original y  \n",
        "We can use the index introduced earlier to replace the memory.   \n",
        "In the following example, we put x + y The result passed [:] Write in y \n",
        "The corresponding memory."
      ]
    },
    {
      "cell_type": "code",
      "metadata": {
        "colab": {
          "base_uri": "https://localhost:8080/"
        },
        "id": "cUMUZ5bHRSJ8",
        "outputId": "9a73375a-bdb4-4f2e-ab29-486a7ebad685"
      },
      "source": [
        "x = torch.tensor([1, 2])\n",
        "y = torch.tensor([3, 4])\n",
        "id_before = id(y)\n",
        "y[:] = y + x\n",
        "print(id(y) == id_before) # True"
      ],
      "execution_count": null,
      "outputs": [
        {
          "output_type": "stream",
          "name": "stdout",
          "text": [
            "True\n"
          ]
        }
      ]
    },
    {
      "cell_type": "markdown",
      "metadata": {
        "id": "aJi9kTesS2Vo"
      },
      "source": [
        "We can also use the operator full name function in out Parameter or addition operator += (That is add_())   \n",
        "To achieve the above effects, for example torch.add(x, y, out=y) with y += x (y.add_(x))"
      ]
    },
    {
      "cell_type": "code",
      "metadata": {
        "colab": {
          "base_uri": "https://localhost:8080/"
        },
        "id": "d4xk9EEJRSR8",
        "outputId": "739f0358-2a12-4ed3-ae23-d6ef33ffed5b"
      },
      "source": [
        "x = torch.tensor([1, 2])\n",
        "y = torch.tensor([3, 4])\n",
        "id_before = id(y)\n",
        "torch.add(x, y, out=y) # y += x, y.add_(x)\n",
        "print(id(y) == id_before) # True"
      ],
      "execution_count": null,
      "outputs": [
        {
          "output_type": "stream",
          "name": "stdout",
          "text": [
            "True\n"
          ]
        }
      ]
    },
    {
      "cell_type": "markdown",
      "metadata": {
        "id": "1B3ImfVDTPoB"
      },
      "source": [
        "### Tensor on GPU"
      ]
    },
    {
      "cell_type": "markdown",
      "metadata": {
        "id": "Yfmg5eS8TUbv"
      },
      "source": [
        "How to use to() can Tensor Move between CPU and GPU (requires hardware support)."
      ]
    },
    {
      "cell_type": "code",
      "metadata": {
        "id": "upSLJiWyRSSd",
        "colab": {
          "base_uri": "https://localhost:8080/"
        },
        "outputId": "9823c430-fb14-4501-e00f-29d3d8307f7b"
      },
      "source": [
        "# The following code will only be executed on the PyTorch GPU version\n",
        "if torch.cuda.is_available():\n",
        "    device = torch.device(\"cuda\")          # GPU\n",
        "    y = torch.ones_like(x, device=device)  # Create a Tensor on the GPU directly\n",
        "    x = x.to(device)                       # Equivalent to .to(\"cuda\")\n",
        "    z = x + y\n",
        "    print(z)\n",
        "    print(z.to(\"cpu\", torch.double))       # to()You can also change the data type at the same time"
      ],
      "execution_count": null,
      "outputs": [
        {
          "output_type": "stream",
          "name": "stdout",
          "text": [
            "tensor([2, 3], device='cuda:0')\n",
            "tensor([2., 3.], dtype=torch.float64)\n"
          ]
        }
      ]
    }
  ]
}