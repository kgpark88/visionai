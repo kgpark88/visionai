{
  "nbformat": 4,
  "nbformat_minor": 0,
  "metadata": {
    "kernelspec": {
      "display_name": "Python 3",
      "language": "python",
      "name": "python3"
    },
    "language_info": {
      "codemirror_mode": {
        "name": "ipython",
        "version": 3
      },
      "file_extension": ".py",
      "mimetype": "text/x-python",
      "name": "python",
      "nbconvert_exporter": "python",
      "pygments_lexer": "ipython3",
      "version": "3.6.5"
    },
    "colab": {
      "name": "cross_entropy_cost.ipynb",
      "provenance": []
    }
  },
  "cells": [
    {
      "cell_type": "markdown",
      "metadata": {
        "id": "TdFUdpDsVelM"
      },
      "source": [
        "# Cross-Entropy Cost"
      ]
    },
    {
      "cell_type": "code",
      "metadata": {
        "id": "9zWuUxs_VelR"
      },
      "source": [
        "from numpy import log"
      ],
      "execution_count": 1,
      "outputs": []
    },
    {
      "cell_type": "code",
      "metadata": {
        "id": "LDeaIyr7VelS"
      },
      "source": [
        "def cross_entropy(y, a):\n",
        "    return -1*(y*log(a) + (1-y)*log(1-a))"
      ],
      "execution_count": 2,
      "outputs": []
    },
    {
      "cell_type": "code",
      "metadata": {
        "id": "oDcaZEdvVelT",
        "colab": {
          "base_uri": "https://localhost:8080/"
        },
        "outputId": "2dcef69b-be5b-43c9-c865-248b277309c5"
      },
      "source": [
        "cross_entropy(1, 0.999)"
      ],
      "execution_count": 3,
      "outputs": [
        {
          "output_type": "execute_result",
          "data": {
            "text/plain": [
              "0.0010005003335835344"
            ]
          },
          "metadata": {},
          "execution_count": 3
        }
      ]
    },
    {
      "cell_type": "code",
      "metadata": {
        "id": "0LYlNXfRVelU",
        "colab": {
          "base_uri": "https://localhost:8080/"
        },
        "outputId": "1f69f9e1-0d3a-449d-8948-95679be68527"
      },
      "source": [
        "cross_entropy(1, 0.8)"
      ],
      "execution_count": 4,
      "outputs": [
        {
          "output_type": "execute_result",
          "data": {
            "text/plain": [
              "0.2231435513142097"
            ]
          },
          "metadata": {},
          "execution_count": 4
        }
      ]
    },
    {
      "cell_type": "code",
      "metadata": {
        "id": "0BvpKTYXVelU",
        "colab": {
          "base_uri": "https://localhost:8080/"
        },
        "outputId": "3f6063c0-7ddc-4376-f356-00c4abe4c718"
      },
      "source": [
        "cross_entropy(1, 0.1)"
      ],
      "execution_count": 5,
      "outputs": [
        {
          "output_type": "execute_result",
          "data": {
            "text/plain": [
              "2.3025850929940455"
            ]
          },
          "metadata": {},
          "execution_count": 5
        }
      ]
    },
    {
      "cell_type": "code",
      "metadata": {
        "id": "ggOwqV1WVelV",
        "colab": {
          "base_uri": "https://localhost:8080/"
        },
        "outputId": "10e46d58-da28-40ca-edda-1f53cb668e1f"
      },
      "source": [
        "cross_entropy(0, 0.8)"
      ],
      "execution_count": 6,
      "outputs": [
        {
          "output_type": "execute_result",
          "data": {
            "text/plain": [
              "1.6094379124341005"
            ]
          },
          "metadata": {},
          "execution_count": 6
        }
      ]
    },
    {
      "cell_type": "code",
      "metadata": {
        "id": "WgxGAu8bWkCm"
      },
      "source": [
        ""
      ],
      "execution_count": null,
      "outputs": []
    },
    {
      "cell_type": "code",
      "metadata": {
        "colab": {
          "base_uri": "https://localhost:8080/"
        },
        "id": "r3iB9_7nWEvI",
        "outputId": "1c75b034-55f6-49ef-f9cc-dfd5a0318182"
      },
      "source": [
        "cross_entropy(0, 0.001)"
      ],
      "execution_count": 7,
      "outputs": [
        {
          "output_type": "execute_result",
          "data": {
            "text/plain": [
              "0.0010005003335835344"
            ]
          },
          "metadata": {},
          "execution_count": 7
        }
      ]
    }
  ]
}