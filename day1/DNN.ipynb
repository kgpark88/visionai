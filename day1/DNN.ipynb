{
  "nbformat": 4,
  "nbformat_minor": 0,
  "metadata": {
    "colab": {
      "name": "DNN.ipynb",
      "provenance": [],
      "collapsed_sections": [],
      "include_colab_link": true
    },
    "kernelspec": {
      "display_name": "Python 3",
      "language": "python",
      "name": "python3"
    },
    "language_info": {
      "codemirror_mode": {
        "name": "ipython",
        "version": 3
      },
      "file_extension": ".py",
      "mimetype": "text/x-python",
      "name": "python",
      "nbconvert_exporter": "python",
      "pygments_lexer": "ipython3",
      "version": "3.7.9"
    }
  },
  "cells": [
    {
      "cell_type": "markdown",
      "metadata": {
        "id": "view-in-github",
        "colab_type": "text"
      },
      "source": [
        "<a href=\"https://colab.research.google.com/github/kgpark88/visionai/blob/main/day1/DNN.ipynb\" target=\"_parent\"><img src=\"https://colab.research.google.com/assets/colab-badge.svg\" alt=\"Open In Colab\"/></a>"
      ]
    },
    {
      "cell_type": "markdown",
      "metadata": {
        "id": "W8p15qvhKu8f"
      },
      "source": [
        "# 심층신경망(DNN, Deep Neural Network)"
      ]
    },
    {
      "cell_type": "markdown",
      "metadata": {
        "id": "_fTY_LcgKu8j"
      },
      "source": [
        "① 라이브러리 임포트(import)  \n",
        "② 데이터 가져오기(Loading the data)  \n",
        "③ 탐색적 데이터 분석(Exploratory Data Analysis)  \n",
        "④ 데이터 전처리(Data PreProcessing) : 데이터타입 변환, Null 데이터 처리, 누락데이터 처리, \n",
        "카테고리 데이터, 더미특성 생성, 특성 추출 (feature engineering) 등  \n",
        "⑤ Train, Test  데이터셋 분할  \n",
        "⑥ 데이터 정규화(Normalizing the Data)  \n",
        "⑦ 모델 개발(Creating the Model)  \n",
        "⑧ 모델 성능 평가"
      ]
    },
    {
      "cell_type": "markdown",
      "metadata": {
        "id": "xznFHOI7Ku8j"
      },
      "source": [
        "### ① 라이브러리 임포트"
      ]
    },
    {
      "cell_type": "code",
      "metadata": {
        "id": "1Xh5Bo7GKu8j"
      },
      "source": [
        "import pandas as pd\n",
        "import seaborn as sns\n",
        "import matplotlib.pyplot as plt\n",
        "\n",
        "import tensorflow as tf\n",
        "from tensorflow.keras.models import Sequential\n",
        "from tensorflow.keras.layers import Dense, Activation, Dropout"
      ],
      "execution_count": 54,
      "outputs": []
    },
    {
      "cell_type": "markdown",
      "metadata": {
        "id": "KcEkPszQKu8j"
      },
      "source": [
        "### ② 데이터 로드"
      ]
    },
    {
      "cell_type": "code",
      "metadata": {
        "id": "IoFa3qY0Ku8j"
      },
      "source": [
        "# df = pd.read_csv('churn_data.csv')\n",
        "df = pd.read_csv('https://raw.githubusercontent.com/kgpark88/visionai/main/day1/churn_data.csv')"
      ],
      "execution_count": 56,
      "outputs": []
    },
    {
      "cell_type": "markdown",
      "metadata": {
        "id": "GTKqo1pSKu8j"
      },
      "source": [
        "### ③ 데이터 분석"
      ]
    },
    {
      "cell_type": "code",
      "metadata": {
        "colab": {
          "base_uri": "https://localhost:8080/"
        },
        "id": "OLi7Xv6XKu8j",
        "outputId": "8cfc6c9a-1134-4f2a-9a8f-34153d154706"
      },
      "source": [
        "df.info()"
      ],
      "execution_count": 57,
      "outputs": [
        {
          "output_type": "stream",
          "name": "stdout",
          "text": [
            "<class 'pandas.core.frame.DataFrame'>\n",
            "RangeIndex: 7043 entries, 0 to 7042\n",
            "Data columns (total 21 columns):\n",
            " #   Column            Non-Null Count  Dtype  \n",
            "---  ------            --------------  -----  \n",
            " 0   customerID        7043 non-null   object \n",
            " 1   gender            7043 non-null   object \n",
            " 2   SeniorCitizen     7043 non-null   int64  \n",
            " 3   Partner           7043 non-null   object \n",
            " 4   Dependents        7043 non-null   object \n",
            " 5   tenure            7043 non-null   int64  \n",
            " 6   PhoneService      7043 non-null   object \n",
            " 7   MultipleLines     7043 non-null   object \n",
            " 8   InternetService   7043 non-null   object \n",
            " 9   OnlineSecurity    7043 non-null   object \n",
            " 10  OnlineBackup      7043 non-null   object \n",
            " 11  DeviceProtection  7043 non-null   object \n",
            " 12  TechSupport       7043 non-null   object \n",
            " 13  StreamingTV       7043 non-null   object \n",
            " 14  StreamingMovies   7043 non-null   object \n",
            " 15  Contract          7043 non-null   object \n",
            " 16  PaperlessBilling  7043 non-null   object \n",
            " 17  PaymentMethod     7043 non-null   object \n",
            " 18  MonthlyCharges    7043 non-null   float64\n",
            " 19  TotalCharges      7043 non-null   object \n",
            " 20  Churn             7043 non-null   object \n",
            "dtypes: float64(1), int64(2), object(18)\n",
            "memory usage: 1.1+ MB\n"
          ]
        }
      ]
    },
    {
      "cell_type": "code",
      "metadata": {
        "colab": {
          "base_uri": "https://localhost:8080/"
        },
        "id": "omfjNiq4Ku8j",
        "outputId": "b88e9258-c856-4f51-8e77-d8f1df8f9a8b"
      },
      "source": [
        "df.isnull().sum()"
      ],
      "execution_count": 58,
      "outputs": [
        {
          "output_type": "execute_result",
          "data": {
            "text/plain": [
              "customerID          0\n",
              "gender              0\n",
              "SeniorCitizen       0\n",
              "Partner             0\n",
              "Dependents          0\n",
              "tenure              0\n",
              "PhoneService        0\n",
              "MultipleLines       0\n",
              "InternetService     0\n",
              "OnlineSecurity      0\n",
              "OnlineBackup        0\n",
              "DeviceProtection    0\n",
              "TechSupport         0\n",
              "StreamingTV         0\n",
              "StreamingMovies     0\n",
              "Contract            0\n",
              "PaperlessBilling    0\n",
              "PaymentMethod       0\n",
              "MonthlyCharges      0\n",
              "TotalCharges        0\n",
              "Churn               0\n",
              "dtype: int64"
            ]
          },
          "metadata": {},
          "execution_count": 58
        }
      ]
    },
    {
      "cell_type": "code",
      "metadata": {
        "colab": {
          "base_uri": "https://localhost:8080/",
          "height": 143
        },
        "id": "FvUDbj_DKu8j",
        "outputId": "eeddbdf8-ff0a-4f57-eac5-d6322f99b341"
      },
      "source": [
        "df.describe().transpose()"
      ],
      "execution_count": 59,
      "outputs": [
        {
          "output_type": "execute_result",
          "data": {
            "text/plain": [
              "                 count       mean        std    min   25%    50%    75%  \\\n",
              "SeniorCitizen   7043.0   0.162147   0.368612   0.00   0.0   0.00   0.00   \n",
              "tenure          7043.0  32.371149  24.559481   0.00   9.0  29.00  55.00   \n",
              "MonthlyCharges  7043.0  64.761692  30.090047  18.25  35.5  70.35  89.85   \n",
              "\n",
              "                   max  \n",
              "SeniorCitizen     1.00  \n",
              "tenure           72.00  \n",
              "MonthlyCharges  118.75  "
            ],
            "text/html": [
              "\n",
              "  <div id=\"df-0d7544b8-079f-4a79-8d55-c3288331c286\">\n",
              "    <div class=\"colab-df-container\">\n",
              "      <div>\n",
              "<style scoped>\n",
              "    .dataframe tbody tr th:only-of-type {\n",
              "        vertical-align: middle;\n",
              "    }\n",
              "\n",
              "    .dataframe tbody tr th {\n",
              "        vertical-align: top;\n",
              "    }\n",
              "\n",
              "    .dataframe thead th {\n",
              "        text-align: right;\n",
              "    }\n",
              "</style>\n",
              "<table border=\"1\" class=\"dataframe\">\n",
              "  <thead>\n",
              "    <tr style=\"text-align: right;\">\n",
              "      <th></th>\n",
              "      <th>count</th>\n",
              "      <th>mean</th>\n",
              "      <th>std</th>\n",
              "      <th>min</th>\n",
              "      <th>25%</th>\n",
              "      <th>50%</th>\n",
              "      <th>75%</th>\n",
              "      <th>max</th>\n",
              "    </tr>\n",
              "  </thead>\n",
              "  <tbody>\n",
              "    <tr>\n",
              "      <th>SeniorCitizen</th>\n",
              "      <td>7043.0</td>\n",
              "      <td>0.162147</td>\n",
              "      <td>0.368612</td>\n",
              "      <td>0.00</td>\n",
              "      <td>0.0</td>\n",
              "      <td>0.00</td>\n",
              "      <td>0.00</td>\n",
              "      <td>1.00</td>\n",
              "    </tr>\n",
              "    <tr>\n",
              "      <th>tenure</th>\n",
              "      <td>7043.0</td>\n",
              "      <td>32.371149</td>\n",
              "      <td>24.559481</td>\n",
              "      <td>0.00</td>\n",
              "      <td>9.0</td>\n",
              "      <td>29.00</td>\n",
              "      <td>55.00</td>\n",
              "      <td>72.00</td>\n",
              "    </tr>\n",
              "    <tr>\n",
              "      <th>MonthlyCharges</th>\n",
              "      <td>7043.0</td>\n",
              "      <td>64.761692</td>\n",
              "      <td>30.090047</td>\n",
              "      <td>18.25</td>\n",
              "      <td>35.5</td>\n",
              "      <td>70.35</td>\n",
              "      <td>89.85</td>\n",
              "      <td>118.75</td>\n",
              "    </tr>\n",
              "  </tbody>\n",
              "</table>\n",
              "</div>\n",
              "      <button class=\"colab-df-convert\" onclick=\"convertToInteractive('df-0d7544b8-079f-4a79-8d55-c3288331c286')\"\n",
              "              title=\"Convert this dataframe to an interactive table.\"\n",
              "              style=\"display:none;\">\n",
              "        \n",
              "  <svg xmlns=\"http://www.w3.org/2000/svg\" height=\"24px\"viewBox=\"0 0 24 24\"\n",
              "       width=\"24px\">\n",
              "    <path d=\"M0 0h24v24H0V0z\" fill=\"none\"/>\n",
              "    <path d=\"M18.56 5.44l.94 2.06.94-2.06 2.06-.94-2.06-.94-.94-2.06-.94 2.06-2.06.94zm-11 1L8.5 8.5l.94-2.06 2.06-.94-2.06-.94L8.5 2.5l-.94 2.06-2.06.94zm10 10l.94 2.06.94-2.06 2.06-.94-2.06-.94-.94-2.06-.94 2.06-2.06.94z\"/><path d=\"M17.41 7.96l-1.37-1.37c-.4-.4-.92-.59-1.43-.59-.52 0-1.04.2-1.43.59L10.3 9.45l-7.72 7.72c-.78.78-.78 2.05 0 2.83L4 21.41c.39.39.9.59 1.41.59.51 0 1.02-.2 1.41-.59l7.78-7.78 2.81-2.81c.8-.78.8-2.07 0-2.86zM5.41 20L4 18.59l7.72-7.72 1.47 1.35L5.41 20z\"/>\n",
              "  </svg>\n",
              "      </button>\n",
              "      \n",
              "  <style>\n",
              "    .colab-df-container {\n",
              "      display:flex;\n",
              "      flex-wrap:wrap;\n",
              "      gap: 12px;\n",
              "    }\n",
              "\n",
              "    .colab-df-convert {\n",
              "      background-color: #E8F0FE;\n",
              "      border: none;\n",
              "      border-radius: 50%;\n",
              "      cursor: pointer;\n",
              "      display: none;\n",
              "      fill: #1967D2;\n",
              "      height: 32px;\n",
              "      padding: 0 0 0 0;\n",
              "      width: 32px;\n",
              "    }\n",
              "\n",
              "    .colab-df-convert:hover {\n",
              "      background-color: #E2EBFA;\n",
              "      box-shadow: 0px 1px 2px rgba(60, 64, 67, 0.3), 0px 1px 3px 1px rgba(60, 64, 67, 0.15);\n",
              "      fill: #174EA6;\n",
              "    }\n",
              "\n",
              "    [theme=dark] .colab-df-convert {\n",
              "      background-color: #3B4455;\n",
              "      fill: #D2E3FC;\n",
              "    }\n",
              "\n",
              "    [theme=dark] .colab-df-convert:hover {\n",
              "      background-color: #434B5C;\n",
              "      box-shadow: 0px 1px 3px 1px rgba(0, 0, 0, 0.15);\n",
              "      filter: drop-shadow(0px 1px 2px rgba(0, 0, 0, 0.3));\n",
              "      fill: #FFFFFF;\n",
              "    }\n",
              "  </style>\n",
              "\n",
              "      <script>\n",
              "        const buttonEl =\n",
              "          document.querySelector('#df-0d7544b8-079f-4a79-8d55-c3288331c286 button.colab-df-convert');\n",
              "        buttonEl.style.display =\n",
              "          google.colab.kernel.accessAllowed ? 'block' : 'none';\n",
              "\n",
              "        async function convertToInteractive(key) {\n",
              "          const element = document.querySelector('#df-0d7544b8-079f-4a79-8d55-c3288331c286');\n",
              "          const dataTable =\n",
              "            await google.colab.kernel.invokeFunction('convertToInteractive',\n",
              "                                                     [key], {});\n",
              "          if (!dataTable) return;\n",
              "\n",
              "          const docLinkHtml = 'Like what you see? Visit the ' +\n",
              "            '<a target=\"_blank\" href=https://colab.research.google.com/notebooks/data_table.ipynb>data table notebook</a>'\n",
              "            + ' to learn more about interactive tables.';\n",
              "          element.innerHTML = '';\n",
              "          dataTable['output_type'] = 'display_data';\n",
              "          await google.colab.output.renderOutput(dataTable, element);\n",
              "          const docLink = document.createElement('div');\n",
              "          docLink.innerHTML = docLinkHtml;\n",
              "          element.appendChild(docLink);\n",
              "        }\n",
              "      </script>\n",
              "    </div>\n",
              "  </div>\n",
              "  "
            ]
          },
          "metadata": {},
          "execution_count": 59
        }
      ]
    },
    {
      "cell_type": "code",
      "metadata": {
        "colab": {
          "base_uri": "https://localhost:8080/",
          "height": 339
        },
        "id": "yDhgvD15Ku8j",
        "outputId": "1800533e-cf4c-428f-88d7-4dd4fd23203c"
      },
      "source": [
        "df.corr()['MonthlyCharges'][:-1].sort_values().plot(kind='bar')"
      ],
      "execution_count": 60,
      "outputs": [
        {
          "output_type": "execute_result",
          "data": {
            "text/plain": [
              "<matplotlib.axes._subplots.AxesSubplot at 0x7f59381c8890>"
            ]
          },
          "metadata": {},
          "execution_count": 60
        },
        {
          "output_type": "display_data",
          "data": {
            "text/plain": [
              "<Figure size 432x288 with 1 Axes>"
            ],
            "image/png": "[encoded data removed]"
          },
          "metadata": {
            "needs_background": "light"
          }
        }
      ]
    },
    {
      "cell_type": "code",
      "source": [
        "sns.pairplot(df)"
      ],
      "metadata": {
        "id": "UmBXATFkPZkL",
        "outputId": "f3a9caf3-877d-4b6d-c734-700f759f5ae7",
        "colab": {
          "base_uri": "https://localhost:8080/",
          "height": 568
        }
      },
      "execution_count": 65,
      "outputs": [
        {
          "output_type": "execute_result",
          "data": {
            "text/plain": [
              "<seaborn.axisgrid.PairGrid at 0x7f59358d8e90>"
            ]
          },
          "metadata": {},
          "execution_count": 65
        },
        {
          "output_type": "display_data",
          "data": {
            "text/plain": [
              "<Figure size 540x540 with 12 Axes>"
            ],
            "image/png": "[encoded data removed]"
          },
          "metadata": {
            "needs_background": "light"
          }
        }
      ]
    },
    {
      "cell_type": "markdown",
      "metadata": {
        "id": "WTvo7E9IKu8j"
      },
      "source": [
        "### ④ 데이터 전처리"
      ]
    },
    {
      "cell_type": "code",
      "metadata": {
        "id": "EXoe4UgGKu8j"
      },
      "source": [
        "df.drop('customerID', axis=1, inplace=True)"
      ],
      "execution_count": null,
      "outputs": []
    },
    {
      "cell_type": "code",
      "metadata": {
        "id": "ix2MxklMKu8j"
      },
      "source": [
        "df['TotalCharges'].replace([' '], ['0'], inplace=True)"
      ],
      "execution_count": null,
      "outputs": []
    },
    {
      "cell_type": "code",
      "metadata": {
        "id": "9YIGe9P3Ku8j"
      },
      "source": [
        "df['TotalCharges'] = df['TotalCharges'].astype(float)"
      ],
      "execution_count": null,
      "outputs": []
    },
    {
      "cell_type": "code",
      "metadata": {
        "id": "5JnBDm85Ku8j"
      },
      "source": [
        "df['Churn'].replace(['Yes', 'No'], [1, 0], inplace=True)"
      ],
      "execution_count": null,
      "outputs": []
    },
    {
      "cell_type": "markdown",
      "metadata": {
        "id": "OuWj2mlvKu8j"
      },
      "source": [
        "### 더미 특성 생성"
      ]
    },
    {
      "cell_type": "code",
      "metadata": {
        "id": "VYpdqLJhKu8j"
      },
      "source": [
        "cols = ['gender', 'Partner', 'Dependents', 'PhoneService', 'MultipleLines', \n",
        "        'InternetService', 'OnlineSecurity', 'OnlineBackup', 'DeviceProtection', \n",
        "        'TechSupport', 'StreamingTV', 'StreamingMovies', 'Contract', \n",
        "        'PaperlessBilling', 'PaymentMethod']"
      ],
      "execution_count": null,
      "outputs": []
    },
    {
      "cell_type": "code",
      "metadata": {
        "id": "CyF-ixcVKu8j"
      },
      "source": [
        "dummies = pd.get_dummies(df[cols], drop_first=True)"
      ],
      "execution_count": null,
      "outputs": []
    },
    {
      "cell_type": "code",
      "metadata": {
        "id": "16FejSRAKu8j"
      },
      "source": [
        "df = df.drop(cols, axis=1)"
      ],
      "execution_count": null,
      "outputs": []
    },
    {
      "cell_type": "code",
      "metadata": {
        "id": "WCO9vB6eKu8j"
      },
      "source": [
        "df = pd.concat([df, dummies], axis=1)"
      ],
      "execution_count": null,
      "outputs": []
    },
    {
      "cell_type": "code",
      "metadata": {
        "id": "_W4nTny7Ku8j"
      },
      "source": [
        "# df = pd.get_dummies(df)\n",
        "# cols = list(df.select_dtypes('object').columns)"
      ],
      "execution_count": null,
      "outputs": []
    },
    {
      "cell_type": "markdown",
      "metadata": {
        "id": "pyKBvo_gKu8j"
      },
      "source": [
        "### ⑤ Train, Test  데이터셋 분할"
      ]
    },
    {
      "cell_type": "code",
      "metadata": {
        "id": "uBzPO0bTKu8j"
      },
      "source": [
        "from sklearn.model_selection import train_test_split"
      ],
      "execution_count": null,
      "outputs": []
    },
    {
      "cell_type": "code",
      "metadata": {
        "id": "kVxOkKkwKu8j"
      },
      "source": [
        "X = df.drop('Churn', axis=1).values\n",
        "y = df['Churn'].values"
      ],
      "execution_count": null,
      "outputs": []
    },
    {
      "cell_type": "code",
      "metadata": {
        "id": "xViKA0VeKu8j"
      },
      "source": [
        "X_train, X_test, y_train, y_test = train_test_split(X, y, \n",
        "                                                    test_size=0.3, \n",
        "                                                    random_state=42)"
      ],
      "execution_count": null,
      "outputs": []
    },
    {
      "cell_type": "code",
      "metadata": {
        "colab": {
          "base_uri": "https://localhost:8080/"
        },
        "id": "WOB04re_Ku8j",
        "outputId": "0c994d8d-34ee-4e58-b06b-11b42d2cbd2b"
      },
      "source": [
        "X_train.shape"
      ],
      "execution_count": null,
      "outputs": [
        {
          "data": {
            "text/plain": [
              "(4930, 30)"
            ]
          },
          "execution_count": 20,
          "metadata": {},
          "output_type": "execute_result"
        }
      ]
    },
    {
      "cell_type": "code",
      "metadata": {
        "colab": {
          "base_uri": "https://localhost:8080/"
        },
        "id": "WYzAtawMKu8j",
        "outputId": "dbfbb22d-2a85-41f5-a5b5-a8972277c6da"
      },
      "source": [
        "y_train.shape"
      ],
      "execution_count": null,
      "outputs": [
        {
          "data": {
            "text/plain": [
              "(4930,)"
            ]
          },
          "execution_count": 21,
          "metadata": {},
          "output_type": "execute_result"
        }
      ]
    },
    {
      "cell_type": "markdown",
      "metadata": {
        "id": "SqCsgHxiKu8j"
      },
      "source": [
        "### 데이터 정규화/스케일링(Normalizing/Scaling)"
      ]
    },
    {
      "cell_type": "code",
      "metadata": {
        "id": "HlwzqwefKu8j"
      },
      "source": [
        "from sklearn.preprocessing import MinMaxScaler"
      ],
      "execution_count": null,
      "outputs": []
    },
    {
      "cell_type": "code",
      "metadata": {
        "id": "l9ENFbSbKu8k"
      },
      "source": [
        "scaler = MinMaxScaler()\n",
        "scaler.fit(X_train)\n",
        "X_train = scaler.transform(X_train)\n",
        "X_test = scaler.transform(X_test)"
      ],
      "execution_count": null,
      "outputs": []
    },
    {
      "cell_type": "markdown",
      "metadata": {
        "id": "qeJNY_B3Ku8k"
      },
      "source": [
        "### 모델 입력갯수, 출력갯수 확인"
      ]
    },
    {
      "cell_type": "code",
      "metadata": {
        "colab": {
          "base_uri": "https://localhost:8080/"
        },
        "id": "Cf4SXnH9Ku8k",
        "outputId": "782ade81-1744-473b-9978-93956234852a"
      },
      "source": [
        "X_train.shape"
      ],
      "execution_count": null,
      "outputs": [
        {
          "data": {
            "text/plain": [
              "(4930, 30)"
            ]
          },
          "execution_count": 24,
          "metadata": {},
          "output_type": "execute_result"
        }
      ]
    },
    {
      "cell_type": "code",
      "metadata": {
        "colab": {
          "base_uri": "https://localhost:8080/"
        },
        "id": "SZVMsZTLKu8k",
        "outputId": "5133bfbc-4f5f-4c7d-d355-75e75b0718e2"
      },
      "source": [
        "y_train.shape"
      ],
      "execution_count": null,
      "outputs": [
        {
          "data": {
            "text/plain": [
              "(4930,)"
            ]
          },
          "execution_count": 25,
          "metadata": {},
          "output_type": "execute_result"
        }
      ]
    },
    {
      "cell_type": "markdown",
      "metadata": {
        "id": "spOGOLdWKu8k"
      },
      "source": [
        "### ⑦ 모델 구성"
      ]
    },
    {
      "cell_type": "code",
      "metadata": {
        "id": "kB0tNJLPKu8k"
      },
      "source": [
        "model = Sequential()\n",
        "\n",
        "# input layer\n",
        "model.add(Dense(64, activation='relu', input_shape=(30,)))\n",
        "\n",
        "# hidden layer\n",
        "model.add(Dense(64, activation='relu'))\n",
        "\n",
        "# hidden layer\n",
        "model.add(Dense(32, activation='relu'))\n",
        "\n",
        "# output layer\n",
        "model.add(Dense(1, activation='sigmoid'))"
      ],
      "execution_count": null,
      "outputs": []
    },
    {
      "cell_type": "markdown",
      "metadata": {
        "id": "GXJFTfrZKu8k"
      },
      "source": [
        "### 모델 구성 -  과적합 방지"
      ]
    },
    {
      "cell_type": "code",
      "metadata": {
        "id": "-togVAJGKu8k"
      },
      "source": [
        "model = Sequential()\n",
        "model.add(Dense(128, activation='relu', input_shape=(30,)))\n",
        "model.add(Dropout(0.5))\n",
        "model.add(Dense(64, activation='relu'))\n",
        "model.add(Dropout(0.5))\n",
        "model.add(Dense(64, activation='relu'))\n",
        "model.add(Dropout(0.5))\n",
        "model.add(Dense(32, activation='relu'))\n",
        "model.add(Dropout(0.5))\n",
        "\n",
        "model.add(Dense(1, activation='sigmoid'))"
      ],
      "execution_count": null,
      "outputs": []
    },
    {
      "cell_type": "markdown",
      "metadata": {
        "id": "h6GUkt9uKu8k"
      },
      "source": [
        "### 모델 확인"
      ]
    },
    {
      "cell_type": "code",
      "metadata": {
        "colab": {
          "base_uri": "https://localhost:8080/"
        },
        "id": "evHyumLfKu8k",
        "outputId": "fb219048-2d03-45bf-d823-57dc6f8181ec"
      },
      "source": [
        "model.summary()"
      ],
      "execution_count": null,
      "outputs": [
        {
          "name": "stdout",
          "output_type": "stream",
          "text": [
            "Model: \"sequential_1\"\n",
            "_________________________________________________________________\n",
            "Layer (type)                 Output Shape              Param #   \n",
            "=================================================================\n",
            "dense_4 (Dense)              (None, 128)               3968      \n",
            "_________________________________________________________________\n",
            "dropout (Dropout)            (None, 128)               0         \n",
            "_________________________________________________________________\n",
            "dense_5 (Dense)              (None, 64)                8256      \n",
            "_________________________________________________________________\n",
            "dropout_1 (Dropout)          (None, 64)                0         \n",
            "_________________________________________________________________\n",
            "dense_6 (Dense)              (None, 64)                4160      \n",
            "_________________________________________________________________\n",
            "dropout_2 (Dropout)          (None, 64)                0         \n",
            "_________________________________________________________________\n",
            "dense_7 (Dense)              (None, 32)                2080      \n",
            "_________________________________________________________________\n",
            "dropout_3 (Dropout)          (None, 32)                0         \n",
            "_________________________________________________________________\n",
            "dense_8 (Dense)              (None, 1)                 33        \n",
            "=================================================================\n",
            "Total params: 18,497\n",
            "Trainable params: 18,497\n",
            "Non-trainable params: 0\n",
            "_________________________________________________________________\n"
          ]
        }
      ]
    },
    {
      "cell_type": "code",
      "metadata": {
        "id": "65Boa6dlKu8k"
      },
      "source": [
        "hidden1 = model.layers[0]"
      ],
      "execution_count": null,
      "outputs": []
    },
    {
      "cell_type": "code",
      "metadata": {
        "id": "0jri7H_4Ku8k"
      },
      "source": [
        "weights, biases = hidden1.get_weights()"
      ],
      "execution_count": null,
      "outputs": []
    },
    {
      "cell_type": "code",
      "metadata": {
        "colab": {
          "base_uri": "https://localhost:8080/"
        },
        "id": "vADUjkHrKu8k",
        "outputId": "e7b2ed79-be96-41b6-baae-f976780cade3"
      },
      "source": [
        "print(weights)"
      ],
      "execution_count": null,
      "outputs": [
        {
          "name": "stdout",
          "output_type": "stream",
          "text": [
            "[[-0.06647576 -0.09138571 -0.06523363 ...  0.14635976 -0.18941179\n",
            "   0.02785017]\n",
            " [ 0.08935596 -0.03800516 -0.02992697 ...  0.07863499 -0.01473302\n",
            "  -0.0556581 ]\n",
            " [ 0.08472316  0.02498196 -0.09977658 ... -0.16994993 -0.1889455\n",
            "   0.05810432]\n",
            " ...\n",
            " [-0.10379986 -0.15219525 -0.06667207 ...  0.1784773   0.03109263\n",
            "  -0.14812398]\n",
            " [-0.04306303  0.06697695 -0.07225926 ... -0.13931745 -0.15078545\n",
            "  -0.1826108 ]\n",
            " [ 0.10404332 -0.04259303  0.0809717  ...  0.19270436  0.06671147\n",
            "  -0.11651819]]\n"
          ]
        }
      ]
    },
    {
      "cell_type": "code",
      "metadata": {
        "colab": {
          "base_uri": "https://localhost:8080/"
        },
        "id": "bLD6yKMbKu8k",
        "outputId": "cf1d5c18-cb2a-4105-eff6-91c7a4715bf3"
      },
      "source": [
        "print(biases)"
      ],
      "execution_count": null,
      "outputs": [
        {
          "name": "stdout",
          "output_type": "stream",
          "text": [
            "[0. 0. 0. 0. 0. 0. 0. 0. 0. 0. 0. 0. 0. 0. 0. 0. 0. 0. 0. 0. 0. 0. 0. 0.\n",
            " 0. 0. 0. 0. 0. 0. 0. 0. 0. 0. 0. 0. 0. 0. 0. 0. 0. 0. 0. 0. 0. 0. 0. 0.\n",
            " 0. 0. 0. 0. 0. 0. 0. 0. 0. 0. 0. 0. 0. 0. 0. 0. 0. 0. 0. 0. 0. 0. 0. 0.\n",
            " 0. 0. 0. 0. 0. 0. 0. 0. 0. 0. 0. 0. 0. 0. 0. 0. 0. 0. 0. 0. 0. 0. 0. 0.\n",
            " 0. 0. 0. 0. 0. 0. 0. 0. 0. 0. 0. 0. 0. 0. 0. 0. 0. 0. 0. 0. 0. 0. 0. 0.\n",
            " 0. 0. 0. 0. 0. 0. 0. 0.]\n"
          ]
        }
      ]
    },
    {
      "cell_type": "markdown",
      "metadata": {
        "id": "KVwM9R5oKu8k"
      },
      "source": [
        "#### 모델 컴파일 – 이진 분류 모델"
      ]
    },
    {
      "cell_type": "code",
      "metadata": {
        "id": "lWCoaAU6Ku8k"
      },
      "source": [
        "model.compile(optimizer='adam', \n",
        "              loss='binary_crossentropy', \n",
        "              metrics=['accuracy']) "
      ],
      "execution_count": null,
      "outputs": []
    },
    {
      "cell_type": "markdown",
      "metadata": {
        "id": "k65qcMpZKu8k"
      },
      "source": [
        "- 모델 컴파일 – 다중 분류 모델  \n",
        "model.compile(optimizer='adam', \n",
        "              loss='categorical_crossentropy', \n",
        "              metrics=['accuracy']) \n"
      ]
    },
    {
      "cell_type": "markdown",
      "metadata": {
        "id": "ORJmg8O_Ku8k"
      },
      "source": [
        "- 모델 컴파일 – 예측 모델\n",
        "model.compile(optimizer='adam', loss='mse')"
      ]
    },
    {
      "cell_type": "markdown",
      "metadata": {
        "id": "eBJhPOMmKu8k"
      },
      "source": [
        "### 모델 훈련(학습) 하기"
      ]
    },
    {
      "cell_type": "code",
      "metadata": {
        "colab": {
          "base_uri": "https://localhost:8080/"
        },
        "id": "Ien9p8A9Ku8k",
        "outputId": "736ca25c-bbb6-4fdf-81d7-4c7e48c6a51e"
      },
      "source": [
        "model.fit(X_train, y_train, \n",
        "          validation_data=(X_test, y_test),\n",
        "          epochs=20, \n",
        "          batch_size=10)"
      ],
      "execution_count": null,
      "outputs": [
        {
          "name": "stdout",
          "output_type": "stream",
          "text": [
            "Epoch 1/20\n",
            "493/493 [==============================] - 1s 2ms/step - loss: 0.5314 - accuracy: 0.7247 - val_loss: 0.4546 - val_accuracy: 0.7283\n",
            "Epoch 2/20\n",
            "493/493 [==============================] - 1s 2ms/step - loss: 0.4799 - accuracy: 0.7542 - val_loss: 0.4365 - val_accuracy: 0.7960\n",
            "Epoch 3/20\n",
            "493/493 [==============================] - 1s 2ms/step - loss: 0.4674 - accuracy: 0.7740 - val_loss: 0.4473 - val_accuracy: 0.8022\n",
            "Epoch 4/20\n",
            "493/493 [==============================] - 1s 2ms/step - loss: 0.4592 - accuracy: 0.7815 - val_loss: 0.4266 - val_accuracy: 0.8012\n",
            "Epoch 5/20\n",
            "493/493 [==============================] - 1s 2ms/step - loss: 0.4608 - accuracy: 0.7864 - val_loss: 0.4190 - val_accuracy: 0.8036\n",
            "Epoch 6/20\n",
            "493/493 [==============================] - 1s 2ms/step - loss: 0.4530 - accuracy: 0.7872 - val_loss: 0.4395 - val_accuracy: 0.8008\n",
            "Epoch 7/20\n",
            "493/493 [==============================] - 1s 2ms/step - loss: 0.4509 - accuracy: 0.7828 - val_loss: 0.4282 - val_accuracy: 0.8060\n",
            "Epoch 8/20\n",
            "493/493 [==============================] - 1s 2ms/step - loss: 0.4444 - accuracy: 0.7951 - val_loss: 0.4258 - val_accuracy: 0.8022\n",
            "Epoch 9/20\n",
            "493/493 [==============================] - 1s 2ms/step - loss: 0.4447 - accuracy: 0.8022 - val_loss: 0.4399 - val_accuracy: 0.8041\n",
            "Epoch 10/20\n",
            "493/493 [==============================] - 1s 2ms/step - loss: 0.4421 - accuracy: 0.7951 - val_loss: 0.4287 - val_accuracy: 0.8008\n",
            "Epoch 11/20\n",
            "493/493 [==============================] - 1s 2ms/step - loss: 0.4387 - accuracy: 0.7961 - val_loss: 0.4209 - val_accuracy: 0.8003\n",
            "Epoch 12/20\n",
            "493/493 [==============================] - 1s 2ms/step - loss: 0.4369 - accuracy: 0.8000 - val_loss: 0.4206 - val_accuracy: 0.8017\n",
            "Epoch 13/20\n",
            "493/493 [==============================] - 1s 2ms/step - loss: 0.4365 - accuracy: 0.7990 - val_loss: 0.4161 - val_accuracy: 0.8055\n",
            "Epoch 14/20\n",
            "493/493 [==============================] - 1s 2ms/step - loss: 0.4428 - accuracy: 0.7986 - val_loss: 0.4331 - val_accuracy: 0.8069\n",
            "Epoch 15/20\n",
            "493/493 [==============================] - 1s 2ms/step - loss: 0.4354 - accuracy: 0.8026 - val_loss: 0.4240 - val_accuracy: 0.8064\n",
            "Epoch 16/20\n",
            "493/493 [==============================] - 1s 2ms/step - loss: 0.4366 - accuracy: 0.7953 - val_loss: 0.4211 - val_accuracy: 0.8031\n",
            "Epoch 17/20\n",
            "493/493 [==============================] - 1s 2ms/step - loss: 0.4327 - accuracy: 0.8028 - val_loss: 0.4193 - val_accuracy: 0.8050\n",
            "Epoch 18/20\n",
            "493/493 [==============================] - 1s 2ms/step - loss: 0.4297 - accuracy: 0.7998 - val_loss: 0.4243 - val_accuracy: 0.8008\n",
            "Epoch 19/20\n",
            "493/493 [==============================] - 1s 2ms/step - loss: 0.4313 - accuracy: 0.7994 - val_loss: 0.4233 - val_accuracy: 0.8027\n",
            "Epoch 20/20\n",
            "493/493 [==============================] - 1s 2ms/step - loss: 0.4231 - accuracy: 0.8089 - val_loss: 0.4328 - val_accuracy: 0.8055\n"
          ]
        },
        {
          "data": {
            "text/plain": [
              "<tensorflow.python.keras.callbacks.History at 0x2c28805c248>"
            ]
          },
          "execution_count": 34,
          "metadata": {},
          "output_type": "execute_result"
        }
      ]
    },
    {
      "cell_type": "markdown",
      "metadata": {
        "id": "P9nFZr6KKu8k"
      },
      "source": [
        "### 모델 훈련(학습) - 조기종료"
      ]
    },
    {
      "cell_type": "code",
      "metadata": {
        "id": "ufprCOfHKu8k"
      },
      "source": [
        "from tensorflow.keras.callbacks import EarlyStopping, ModelCheckpoint"
      ],
      "execution_count": null,
      "outputs": []
    },
    {
      "cell_type": "code",
      "metadata": {
        "id": "Fu9j-6_sKu8k"
      },
      "source": [
        "early_stop = EarlyStopping(monitor='val_loss', mode='min', \n",
        "                           verbose=1, patience=25)"
      ],
      "execution_count": null,
      "outputs": []
    },
    {
      "cell_type": "code",
      "metadata": {
        "id": "EZe2nIkaKu8k"
      },
      "source": [
        "check_point = ModelCheckpoint('best_model.h5', verbose=1,\n",
        "                              monitor='val_loss', mode='min', \n",
        "                              save_best_only=True)"
      ],
      "execution_count": null,
      "outputs": []
    },
    {
      "cell_type": "code",
      "metadata": {
        "colab": {
          "base_uri": "https://localhost:8080/"
        },
        "id": "i9msPJxqKu8k",
        "outputId": "1d423fa5-6df0-4e65-fba3-623348f093bf"
      },
      "source": [
        "history = model.fit(x=X_train, y=y_train, \n",
        "          epochs=50 , batch_size=20,\n",
        "          validation_data=(X_test, y_test), \n",
        "          verbose=1,\n",
        "          callbacks=[early_stop, check_point])"
      ],
      "execution_count": null,
      "outputs": [
        {
          "name": "stdout",
          "output_type": "stream",
          "text": [
            "Epoch 1/50\n",
            "241/247 [============================>.] - ETA: 0s - loss: 0.4307 - accuracy: 0.8033\n",
            "Epoch 00001: val_loss improved from inf to 0.42010, saving model to best_model.h5\n",
            "247/247 [==============================] - 1s 3ms/step - loss: 0.4302 - accuracy: 0.8049 - val_loss: 0.4201 - val_accuracy: 0.8079\n",
            "Epoch 2/50\n",
            "237/247 [===========================>..] - ETA: 0s - loss: 0.4212 - accuracy: 0.8036\n",
            "Epoch 00002: val_loss did not improve from 0.42010\n",
            "247/247 [==============================] - 1s 2ms/step - loss: 0.4221 - accuracy: 0.8045 - val_loss: 0.4215 - val_accuracy: 0.8012\n",
            "Epoch 3/50\n",
            "234/247 [===========================>..] - ETA: 0s - loss: 0.4197 - accuracy: 0.8092\n",
            "Epoch 00003: val_loss improved from 0.42010 to 0.41764, saving model to best_model.h5\n",
            "247/247 [==============================] - 1s 3ms/step - loss: 0.4198 - accuracy: 0.8073 - val_loss: 0.4176 - val_accuracy: 0.8012\n",
            "Epoch 4/50\n",
            "232/247 [===========================>..] - ETA: 0s - loss: 0.4232 - accuracy: 0.8047\n",
            "Epoch 00004: val_loss did not improve from 0.41764\n",
            "247/247 [==============================] - 1s 2ms/step - loss: 0.4211 - accuracy: 0.8055 - val_loss: 0.4201 - val_accuracy: 0.7993\n",
            "Epoch 5/50\n",
            "231/247 [===========================>..] - ETA: 0s - loss: 0.4219 - accuracy: 0.8069\n",
            "Epoch 00005: val_loss did not improve from 0.41764\n",
            "247/247 [==============================] - 1s 2ms/step - loss: 0.4219 - accuracy: 0.8061 - val_loss: 0.4231 - val_accuracy: 0.8027\n",
            "Epoch 6/50\n",
            "244/247 [============================>.] - ETA: 0s - loss: 0.4155 - accuracy: 0.8082\n",
            "Epoch 00006: val_loss did not improve from 0.41764\n",
            "247/247 [==============================] - 1s 3ms/step - loss: 0.4161 - accuracy: 0.8083 - val_loss: 0.4263 - val_accuracy: 0.8027\n",
            "Epoch 7/50\n",
            "223/247 [==========================>...] - ETA: 0s - loss: 0.4148 - accuracy: 0.8121\n",
            "Epoch 00007: val_loss did not improve from 0.41764\n",
            "247/247 [==============================] - 1s 3ms/step - loss: 0.4157 - accuracy: 0.8120 - val_loss: 0.4195 - val_accuracy: 0.8041\n",
            "Epoch 8/50\n",
            "224/247 [==========================>...] - ETA: 0s - loss: 0.4144 - accuracy: 0.8121\n",
            "Epoch 00008: val_loss did not improve from 0.41764\n",
            "247/247 [==============================] - 1s 3ms/step - loss: 0.4190 - accuracy: 0.8083 - val_loss: 0.4217 - val_accuracy: 0.8027\n",
            "Epoch 9/50\n",
            "245/247 [============================>.] - ETA: 0s - loss: 0.4185 - accuracy: 0.8090\n",
            "Epoch 00009: val_loss did not improve from 0.41764\n",
            "247/247 [==============================] - 1s 3ms/step - loss: 0.4200 - accuracy: 0.8089 - val_loss: 0.4193 - val_accuracy: 0.8003\n",
            "Epoch 10/50\n",
            "247/247 [==============================] - ETA: 0s - loss: 0.4141 - accuracy: 0.8110\n",
            "Epoch 00010: val_loss did not improve from 0.41764\n",
            "247/247 [==============================] - 1s 3ms/step - loss: 0.4141 - accuracy: 0.8110 - val_loss: 0.4237 - val_accuracy: 0.8022\n",
            "Epoch 11/50\n",
            "241/247 [============================>.] - ETA: 0s - loss: 0.4156 - accuracy: 0.8075\n",
            "Epoch 00011: val_loss did not improve from 0.41764\n",
            "247/247 [==============================] - 1s 3ms/step - loss: 0.4152 - accuracy: 0.8081 - val_loss: 0.4193 - val_accuracy: 0.8050\n",
            "Epoch 12/50\n",
            "223/247 [==========================>...] - ETA: 0s - loss: 0.4120 - accuracy: 0.8128\n",
            "Epoch 00012: val_loss did not improve from 0.41764\n",
            "247/247 [==============================] - 1s 3ms/step - loss: 0.4162 - accuracy: 0.8093 - val_loss: 0.4248 - val_accuracy: 0.8027\n",
            "Epoch 13/50\n",
            "247/247 [==============================] - ETA: 0s - loss: 0.4108 - accuracy: 0.8130\n",
            "Epoch 00013: val_loss did not improve from 0.41764\n",
            "247/247 [==============================] - 1s 3ms/step - loss: 0.4108 - accuracy: 0.8130 - val_loss: 0.4214 - val_accuracy: 0.8022\n",
            "Epoch 14/50\n",
            "239/247 [============================>.] - ETA: 0s - loss: 0.4180 - accuracy: 0.8073\n",
            "Epoch 00014: val_loss did not improve from 0.41764\n",
            "247/247 [==============================] - 1s 3ms/step - loss: 0.4180 - accuracy: 0.8067 - val_loss: 0.4239 - val_accuracy: 0.8027\n",
            "Epoch 15/50\n",
            "244/247 [============================>.] - ETA: 0s - loss: 0.4120 - accuracy: 0.8088\n",
            "Epoch 00015: val_loss did not improve from 0.41764\n",
            "247/247 [==============================] - 1s 3ms/step - loss: 0.4115 - accuracy: 0.8093 - val_loss: 0.4232 - val_accuracy: 0.8069\n",
            "Epoch 16/50\n",
            "247/247 [==============================] - ETA: 0s - loss: 0.4100 - accuracy: 0.8136\n",
            "Epoch 00016: val_loss did not improve from 0.41764\n",
            "247/247 [==============================] - 1s 3ms/step - loss: 0.4100 - accuracy: 0.8136 - val_loss: 0.4211 - val_accuracy: 0.8017\n",
            "Epoch 17/50\n",
            "239/247 [============================>.] - ETA: 0s - loss: 0.4116 - accuracy: 0.8130\n",
            "Epoch 00017: val_loss did not improve from 0.41764\n",
            "247/247 [==============================] - 1s 3ms/step - loss: 0.4077 - accuracy: 0.8150 - val_loss: 0.4237 - val_accuracy: 0.7998\n",
            "Epoch 18/50\n",
            "224/247 [==========================>...] - ETA: 0s - loss: 0.4148 - accuracy: 0.8105\n",
            "Epoch 00018: val_loss did not improve from 0.41764\n",
            "247/247 [==============================] - 1s 3ms/step - loss: 0.4157 - accuracy: 0.8110 - val_loss: 0.4246 - val_accuracy: 0.7989\n",
            "Epoch 19/50\n",
            "223/247 [==========================>...] - ETA: 0s - loss: 0.4168 - accuracy: 0.8090\n",
            "Epoch 00019: val_loss did not improve from 0.41764\n",
            "247/247 [==============================] - 1s 3ms/step - loss: 0.4127 - accuracy: 0.8116 - val_loss: 0.4238 - val_accuracy: 0.8022\n",
            "Epoch 20/50\n",
            "227/247 [==========================>...] - ETA: 0s - loss: 0.4116 - accuracy: 0.8119\n",
            "Epoch 00020: val_loss did not improve from 0.41764\n",
            "247/247 [==============================] - 1s 3ms/step - loss: 0.4098 - accuracy: 0.8120 - val_loss: 0.4248 - val_accuracy: 0.8022\n",
            "Epoch 21/50\n",
            "225/247 [==========================>...] - ETA: 0s - loss: 0.4130 - accuracy: 0.8058\n",
            "Epoch 00021: val_loss did not improve from 0.41764\n",
            "247/247 [==============================] - 1s 3ms/step - loss: 0.4154 - accuracy: 0.8055 - val_loss: 0.4236 - val_accuracy: 0.8031\n",
            "Epoch 22/50\n",
            "226/247 [==========================>...] - ETA: 0s - loss: 0.4068 - accuracy: 0.8168\n",
            "Epoch 00022: val_loss did not improve from 0.41764\n",
            "247/247 [==============================] - 1s 3ms/step - loss: 0.4104 - accuracy: 0.8150 - val_loss: 0.4230 - val_accuracy: 0.8069\n",
            "Epoch 23/50\n",
            "247/247 [==============================] - ETA: 0s - loss: 0.4043 - accuracy: 0.8174\n",
            "Epoch 00023: val_loss did not improve from 0.41764\n",
            "247/247 [==============================] - 1s 3ms/step - loss: 0.4043 - accuracy: 0.8174 - val_loss: 0.4247 - val_accuracy: 0.8031\n",
            "Epoch 24/50\n",
            "246/247 [============================>.] - ETA: 0s - loss: 0.4077 - accuracy: 0.8142\n",
            "Epoch 00024: val_loss did not improve from 0.41764\n",
            "247/247 [==============================] - 1s 3ms/step - loss: 0.4077 - accuracy: 0.8140 - val_loss: 0.4241 - val_accuracy: 0.8008\n",
            "Epoch 25/50\n",
            "223/247 [==========================>...] - ETA: 0s - loss: 0.4087 - accuracy: 0.8110\n",
            "Epoch 00025: val_loss did not improve from 0.41764\n",
            "247/247 [==============================] - 1s 3ms/step - loss: 0.4058 - accuracy: 0.8116 - val_loss: 0.4268 - val_accuracy: 0.8045\n",
            "Epoch 26/50\n",
            "226/247 [==========================>...] - ETA: 0s - loss: 0.4048 - accuracy: 0.8133\n",
            "Epoch 00026: val_loss did not improve from 0.41764\n",
            "247/247 [==============================] - 1s 3ms/step - loss: 0.4045 - accuracy: 0.8136 - val_loss: 0.4267 - val_accuracy: 0.8008\n",
            "Epoch 27/50\n",
            "224/247 [==========================>...] - ETA: 0s - loss: 0.4026 - accuracy: 0.8176\n",
            "Epoch 00027: val_loss did not improve from 0.41764\n",
            "247/247 [==============================] - 1s 3ms/step - loss: 0.4009 - accuracy: 0.8191 - val_loss: 0.4263 - val_accuracy: 0.8050\n",
            "Epoch 28/50\n",
            "224/247 [==========================>...] - ETA: 0s - loss: 0.4060 - accuracy: 0.8156\n",
            "Epoch 00028: val_loss did not improve from 0.41764\n",
            "247/247 [==============================] - 1s 3ms/step - loss: 0.4042 - accuracy: 0.8176 - val_loss: 0.4286 - val_accuracy: 0.8031\n",
            "Epoch 00028: early stopping\n"
          ]
        }
      ]
    },
    {
      "cell_type": "markdown",
      "metadata": {
        "id": "fgSwdiKhKu8k"
      },
      "source": [
        "### ⑧ 모델 성능 평가"
      ]
    },
    {
      "cell_type": "code",
      "metadata": {
        "id": "UwcNzzP7Ku8k"
      },
      "source": [
        "losses = pd.DataFrame(model.history.history)"
      ],
      "execution_count": null,
      "outputs": []
    },
    {
      "cell_type": "code",
      "metadata": {
        "colab": {
          "base_uri": "https://localhost:8080/",
          "height": 198
        },
        "id": "_bVnHXztKu8k",
        "outputId": "eb894ee7-72b2-4ea1-e51d-68729665d5b9"
      },
      "source": [
        "losses.head()"
      ],
      "execution_count": null,
      "outputs": [
        {
          "data": {
            "text/html": [
              "<div>\n",
              "<style scoped>\n",
              "    .dataframe tbody tr th:only-of-type {\n",
              "        vertical-align: middle;\n",
              "    }\n",
              "\n",
              "    .dataframe tbody tr th {\n",
              "        vertical-align: top;\n",
              "    }\n",
              "\n",
              "    .dataframe thead th {\n",
              "        text-align: right;\n",
              "    }\n",
              "</style>\n",
              "<table border=\"1\" class=\"dataframe\">\n",
              "  <thead>\n",
              "    <tr style=\"text-align: right;\">\n",
              "      <th></th>\n",
              "      <th>loss</th>\n",
              "      <th>accuracy</th>\n",
              "      <th>val_loss</th>\n",
              "      <th>val_accuracy</th>\n",
              "    </tr>\n",
              "  </thead>\n",
              "  <tbody>\n",
              "    <tr>\n",
              "      <th>0</th>\n",
              "      <td>0.430158</td>\n",
              "      <td>0.804868</td>\n",
              "      <td>0.420105</td>\n",
              "      <td>0.807856</td>\n",
              "    </tr>\n",
              "    <tr>\n",
              "      <th>1</th>\n",
              "      <td>0.422073</td>\n",
              "      <td>0.804462</td>\n",
              "      <td>0.421450</td>\n",
              "      <td>0.801230</td>\n",
              "    </tr>\n",
              "    <tr>\n",
              "      <th>2</th>\n",
              "      <td>0.419815</td>\n",
              "      <td>0.807302</td>\n",
              "      <td>0.417635</td>\n",
              "      <td>0.801230</td>\n",
              "    </tr>\n",
              "    <tr>\n",
              "      <th>3</th>\n",
              "      <td>0.421058</td>\n",
              "      <td>0.805477</td>\n",
              "      <td>0.420078</td>\n",
              "      <td>0.799337</td>\n",
              "    </tr>\n",
              "    <tr>\n",
              "      <th>4</th>\n",
              "      <td>0.421858</td>\n",
              "      <td>0.806085</td>\n",
              "      <td>0.423088</td>\n",
              "      <td>0.802650</td>\n",
              "    </tr>\n",
              "  </tbody>\n",
              "</table>\n",
              "</div>"
            ],
            "text/plain": [
              "       loss  accuracy  val_loss  val_accuracy\n",
              "0  0.430158  0.804868  0.420105      0.807856\n",
              "1  0.422073  0.804462  0.421450      0.801230\n",
              "2  0.419815  0.807302  0.417635      0.801230\n",
              "3  0.421058  0.805477  0.420078      0.799337\n",
              "4  0.421858  0.806085  0.423088      0.802650"
            ]
          },
          "execution_count": 40,
          "metadata": {},
          "output_type": "execute_result"
        }
      ]
    },
    {
      "cell_type": "code",
      "metadata": {
        "colab": {
          "base_uri": "https://localhost:8080/",
          "height": 283
        },
        "id": "x1-xsEdrKu8k",
        "outputId": "1b117ab3-e00b-4442-8c56-f35ed17cf77a"
      },
      "source": [
        "losses[['loss','val_loss']].plot()"
      ],
      "execution_count": null,
      "outputs": [
        {
          "data": {
            "text/plain": [
              "<AxesSubplot:>"
            ]
          },
          "execution_count": 41,
          "metadata": {},
          "output_type": "execute_result"
        },
        {
          "data": {
            "image/png": "[encoded data removed]",
            "text/plain": [
              "<Figure size 432x288 with 1 Axes>"
            ]
          },
          "metadata": {
            "needs_background": "light"
          },
          "output_type": "display_data"
        }
      ]
    },
    {
      "cell_type": "code",
      "metadata": {
        "colab": {
          "base_uri": "https://localhost:8080/",
          "height": 283
        },
        "id": "QZ5NV7wsKu8k",
        "outputId": "db20c7f7-58d9-4aa4-d76c-9a723247463b"
      },
      "source": [
        "losses[['loss','val_loss', 'accuracy','val_accuracy']].plot()"
      ],
      "execution_count": null,
      "outputs": [
        {
          "data": {
            "text/plain": [
              "<AxesSubplot:>"
            ]
          },
          "execution_count": 42,
          "metadata": {},
          "output_type": "execute_result"
        },
        {
          "data": {
            "image/png": "[encoded data removed]",
            "text/plain": [
              "<Figure size 432x288 with 1 Axes>"
            ]
          },
          "metadata": {
            "needs_background": "light"
          },
          "output_type": "display_data"
        }
      ]
    },
    {
      "cell_type": "code",
      "metadata": {
        "id": "rnTWGE5fKu8k"
      },
      "source": [
        "from sklearn.metrics import classification_report,confusion_matrix"
      ],
      "execution_count": null,
      "outputs": []
    },
    {
      "cell_type": "code",
      "metadata": {
        "colab": {
          "base_uri": "https://localhost:8080/"
        },
        "id": "TLRkWvR3Ku8k",
        "outputId": "73181230-ddbf-49b4-9332-daa1c08c5ec5"
      },
      "source": [
        "predictions = model.predict_classes(X_test)"
      ],
      "execution_count": null,
      "outputs": [
        {
          "name": "stdout",
          "output_type": "stream",
          "text": [
            "WARNING:tensorflow:From <ipython-input-44-bc83193b8b59>:1: Sequential.predict_classes (from tensorflow.python.keras.engine.sequential) is deprecated and will be removed after 2021-01-01.\n",
            "Instructions for updating:\n",
            "Please use instead:* `np.argmax(model.predict(x), axis=-1)`,   if your model does multi-class classification   (e.g. if it uses a `softmax` last-layer activation).* `(model.predict(x) > 0.5).astype(\"int32\")`,   if your model does binary classification   (e.g. if it uses a `sigmoid` last-layer activation).\n"
          ]
        }
      ]
    },
    {
      "cell_type": "code",
      "metadata": {
        "colab": {
          "base_uri": "https://localhost:8080/"
        },
        "id": "5iTIpXKPKu8k",
        "outputId": "7559c11c-86d0-4885-98dd-6db0d3d65863"
      },
      "source": [
        "print(classification_report(y_test,predictions))"
      ],
      "execution_count": null,
      "outputs": [
        {
          "name": "stdout",
          "output_type": "stream",
          "text": [
            "              precision    recall  f1-score   support\n",
            "\n",
            "           0       0.84      0.89      0.87      1539\n",
            "           1       0.66      0.56      0.61       574\n",
            "\n",
            "    accuracy                           0.80      2113\n",
            "   macro avg       0.75      0.73      0.74      2113\n",
            "weighted avg       0.80      0.80      0.80      2113\n",
            "\n"
          ]
        }
      ]
    },
    {
      "cell_type": "code",
      "metadata": {
        "colab": {
          "base_uri": "https://localhost:8080/"
        },
        "id": "CX3mBwaeKu8k",
        "outputId": "e75e0a9f-897b-429a-8bb7-7fede66d5443"
      },
      "source": [
        "print(confusion_matrix(y_test,predictions))"
      ],
      "execution_count": null,
      "outputs": [
        {
          "name": "stdout",
          "output_type": "stream",
          "text": [
            "[[1377  162]\n",
            " [ 254  320]]\n"
          ]
        }
      ]
    },
    {
      "cell_type": "code",
      "metadata": {
        "id": "H9sP0iH3Ku8k"
      },
      "source": [
        ""
      ],
      "execution_count": null,
      "outputs": []
    },
    {
      "cell_type": "code",
      "source": [
        ""
      ],
      "metadata": {
        "id": "S-JIX2oLPFmQ"
      },
      "execution_count": null,
      "outputs": []
    }
  ]
}