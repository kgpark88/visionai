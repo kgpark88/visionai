{
  "nbformat": 4,
  "nbformat_minor": 0,
  "metadata": {
    "kernelspec": {
      "display_name": "Python 3",
      "language": "python",
      "name": "python3"
    },
    "language_info": {
      "codemirror_mode": {
        "name": "ipython",
        "version": 3
      },
      "file_extension": ".py",
      "mimetype": "text/x-python",
      "name": "python",
      "nbconvert_exporter": "python",
      "pygments_lexer": "ipython3",
      "version": "3.6.5"
    },
    "colab": {
      "name": "weight_initialization.ipynb",
      "provenance": [],
      "collapsed_sections": [],
      "include_colab_link": true
    }
  },
  "cells": [
    {
      "cell_type": "markdown",
      "metadata": {
        "id": "view-in-github",
        "colab_type": "text"
      },
      "source": [
        "<a href=\"https://colab.research.google.com/github/kgpark88/visionai/blob/main/day1/weight_initialization.ipynb\" target=\"_parent\"><img src=\"https://colab.research.google.com/assets/colab-badge.svg\" alt=\"Open In Colab\"/></a>"
      ]
    },
    {
      "cell_type": "markdown",
      "metadata": {
        "id": "Iyh0fSo0CjF-"
      },
      "source": [
        "# 가중치 초기화"
      ]
    },
    {
      "cell_type": "markdown",
      "metadata": {
        "id": "nK3eRJFdCjGC"
      },
      "source": [
        "### 라이브러리 임포트"
      ]
    },
    {
      "cell_type": "code",
      "metadata": {
        "id": "fTOykgYmCjGD"
      },
      "source": [
        "import numpy as np\n",
        "import pandas as pd\n",
        "from matplotlib import pyplot as plt\n",
        "\n",
        "import tensorflow as tf\n",
        "from tensorflow.keras import Sequential\n",
        "from tensorflow.keras.layers import Dense, Activation\n",
        "from tensorflow.keras.initializers import Zeros, RandomNormal, glorot_normal, glorot_uniform"
      ],
      "execution_count": null,
      "outputs": []
    },
    {
      "cell_type": "markdown",
      "metadata": {
        "id": "lHUqYQvVCjGE"
      },
      "source": [
        "### 뉴런 개수 설정"
      ]
    },
    {
      "cell_type": "code",
      "metadata": {
        "id": "sV4IrbZICjGF"
      },
      "source": [
        "n_input = 784\n",
        "n_dense = 256"
      ],
      "execution_count": null,
      "outputs": []
    },
    {
      "cell_type": "markdown",
      "metadata": {
        "id": "fLUgYvKdCjGF"
      },
      "source": [
        "#### Bias 초기화"
      ]
    },
    {
      "cell_type": "code",
      "metadata": {
        "id": "e5ANJUqlCjGG"
      },
      "source": [
        "b_init = Zeros()"
      ],
      "execution_count": null,
      "outputs": []
    },
    {
      "cell_type": "markdown",
      "metadata": {
        "id": "nnL5CpyNCjGG"
      },
      "source": [
        "### 가중치 초기화 - 표준 정규 분포"
      ]
    },
    {
      "cell_type": "code",
      "metadata": {
        "id": "LKvzEI4OCjGH"
      },
      "source": [
        "w_init = RandomNormal(stddev=1.0)"
      ],
      "execution_count": null,
      "outputs": []
    },
    {
      "cell_type": "markdown",
      "metadata": {
        "id": "4icqBmcHDm3L"
      },
      "source": [
        "### 가중치 초기화 - 세이비어 글로럿 분포"
      ]
    },
    {
      "cell_type": "code",
      "metadata": {
        "id": "GkeiE7oxDsvb"
      },
      "source": [
        "# w_init = glorot_normal()"
      ],
      "execution_count": null,
      "outputs": []
    },
    {
      "cell_type": "markdown",
      "metadata": {
        "id": "zGowJY3jD_OT"
      },
      "source": [
        "### 가중치 초기화 - 세이비어 글로럿 균등 분포"
      ]
    },
    {
      "cell_type": "code",
      "metadata": {
        "id": "Xme1mLvfD9dr"
      },
      "source": [
        "# w_init = glorot_uniform()"
      ],
      "execution_count": null,
      "outputs": []
    },
    {
      "cell_type": "markdown",
      "metadata": {
        "id": "CAGnHRw7CjGH"
      },
      "source": [
        "### 신경망 모델"
      ]
    },
    {
      "cell_type": "code",
      "metadata": {
        "id": "NpkYV0SmCjGH"
      },
      "source": [
        "model = Sequential()\n",
        "model.add(Dense(n_dense, \n",
        "                input_dim=n_input,\n",
        "                kernel_initializer=w_init,\n",
        "                bias_initializer=b_init))\n",
        "# model.add(Activation('sigmoid'))\n",
        "# model.add(Activation('tanh'))\n",
        "model.add(Activation('relu'))"
      ],
      "execution_count": null,
      "outputs": []
    },
    {
      "cell_type": "markdown",
      "metadata": {
        "id": "qio9vgILCjGI"
      },
      "source": [
        "### 랜덤 *x* 값 생성"
      ]
    },
    {
      "cell_type": "code",
      "metadata": {
        "id": "ZPfe51FPCjGI"
      },
      "source": [
        "x = np.random.random((1,n_input))"
      ],
      "execution_count": null,
      "outputs": []
    },
    {
      "cell_type": "markdown",
      "metadata": {
        "id": "629zM0M7CjGI"
      },
      "source": [
        "### 정방향 계산"
      ]
    },
    {
      "cell_type": "code",
      "metadata": {
        "id": "lZ7RCLFCCjGI"
      },
      "source": [
        "a = model.predict(x)"
      ],
      "execution_count": null,
      "outputs": []
    },
    {
      "cell_type": "code",
      "metadata": {
        "id": "gZTlkDWzCjGJ",
        "colab": {
          "base_uri": "https://localhost:8080/"
        },
        "outputId": "e99c357e-7582-43d6-e991-17deeccb2af4"
      },
      "source": [
        "a"
      ],
      "execution_count": null,
      "outputs": [
        {
          "output_type": "execute_result",
          "data": {
            "text/plain": [
              "array([[0.        , 0.        , 1.4713522 , 0.        , 0.8679192 ,\n",
              "        0.5190261 , 0.        , 0.77089816, 0.        , 0.1662019 ,\n",
              "        0.        , 0.        , 0.        , 0.5322026 , 0.        ,\n",
              "        0.17090252, 0.        , 0.3379355 , 0.        , 0.29719982,\n",
              "        0.        , 0.13799706, 1.3745099 , 0.21789634, 0.        ,\n",
              "        0.25455365, 0.7854315 , 0.7062931 , 0.6282369 , 0.        ,\n",
              "        0.        , 0.        , 0.5293387 , 0.        , 0.        ,\n",
              "        0.        , 0.09749478, 0.        , 0.        , 0.09596054,\n",
              "        0.        , 0.        , 0.        , 0.        , 0.36900997,\n",
              "        0.7194644 , 0.15786527, 0.        , 0.        , 1.1656697 ,\n",
              "        0.        , 0.28219777, 0.        , 0.        , 1.3288708 ,\n",
              "        0.        , 0.        , 0.        , 0.8243457 , 0.        ,\n",
              "        0.747858  , 0.07417969, 0.        , 0.        , 0.        ,\n",
              "        0.        , 0.955433  , 0.        , 0.04314887, 0.        ,\n",
              "        0.        , 0.        , 1.4241893 , 0.        , 0.        ,\n",
              "        0.        , 0.28861114, 1.2086953 , 0.84171176, 0.        ,\n",
              "        0.        , 0.        , 0.10244907, 0.2974101 , 0.3204678 ,\n",
              "        0.        , 0.        , 0.01145621, 1.0041419 , 0.14436561,\n",
              "        1.1466548 , 0.13435335, 1.4076377 , 0.        , 0.        ,\n",
              "        0.01225476, 1.0169575 , 0.29897612, 0.43974963, 0.20300716,\n",
              "        0.        , 0.        , 0.5098488 , 0.36170447, 0.        ,\n",
              "        0.8496908 , 0.        , 0.8998975 , 0.        , 0.8870926 ,\n",
              "        0.4020098 , 0.2916594 , 0.        , 1.1233474 , 0.        ,\n",
              "        0.        , 0.2769578 , 0.        , 0.        , 0.        ,\n",
              "        0.        , 0.        , 0.        , 0.24337098, 0.13195631,\n",
              "        0.        , 0.        , 0.30836275, 1.1913519 , 0.59397274,\n",
              "        0.        , 0.        , 0.        , 0.        , 0.7735555 ,\n",
              "        0.13453037, 0.        , 0.        , 0.        , 0.        ,\n",
              "        0.21200131, 0.7240928 , 0.        , 0.48098758, 0.13597277,\n",
              "        0.0607858 , 0.13813688, 0.        , 0.        , 0.7241044 ,\n",
              "        1.2120745 , 0.        , 0.        , 0.        , 0.58842087,\n",
              "        0.        , 0.        , 1.5953605 , 0.4856363 , 0.        ,\n",
              "        1.2243513 , 0.        , 0.        , 0.        , 0.07187765,\n",
              "        0.11777674, 0.        , 0.        , 0.15489104, 1.6010559 ,\n",
              "        0.        , 0.22176418, 0.        , 0.        , 0.88081723,\n",
              "        1.2159816 , 0.39893237, 0.        , 0.5759267 , 0.        ,\n",
              "        0.        , 0.        , 0.462519  , 1.1674814 , 0.2516898 ,\n",
              "        0.        , 1.9420499 , 0.        , 0.        , 0.3297011 ,\n",
              "        0.21221437, 0.        , 0.        , 0.        , 0.        ,\n",
              "        0.        , 0.        , 0.        , 0.45383066, 0.12984829,\n",
              "        0.9304935 , 0.07222101, 0.31446543, 0.11267184, 0.        ,\n",
              "        0.        , 0.8419886 , 0.        , 0.        , 0.4672586 ,\n",
              "        0.        , 0.        , 0.        , 0.        , 0.        ,\n",
              "        0.02337204, 1.1804281 , 0.95270646, 0.        , 0.        ,\n",
              "        0.        , 0.        , 0.        , 0.        , 0.14960307,\n",
              "        0.60468   , 0.        , 0.29866117, 0.        , 0.        ,\n",
              "        0.46131212, 0.        , 0.        , 0.086268  , 0.        ,\n",
              "        0.        , 0.        , 0.        , 0.3054577 , 0.        ,\n",
              "        0.9035037 , 0.        , 0.        , 0.3318304 , 0.7458248 ,\n",
              "        0.76257706, 0.0973383 , 0.8750081 , 0.70013154, 0.        ,\n",
              "        0.        , 0.3392467 , 0.        , 0.        , 0.06522695,\n",
              "        0.        ]], dtype=float32)"
            ]
          },
          "metadata": {},
          "execution_count": 10
        }
      ]
    },
    {
      "cell_type": "code",
      "metadata": {
        "id": "fhVpK7vGCjGJ",
        "colab": {
          "base_uri": "https://localhost:8080/",
          "height": 265
        },
        "outputId": "fcf0d4a3-a1b0-4c25-813a-345fc5005985"
      },
      "source": [
        "_ = plt.hist(np.transpose(a))"
      ],
      "execution_count": null,
      "outputs": [
        {
          "output_type": "display_data",
          "data": {
            "image/png": "[encoded data removed]",
            "text/plain": [
              "<Figure size 432x288 with 1 Axes>"
            ]
          },
          "metadata": {
            "needs_background": "light"
          }
        }
      ]
    },
    {
      "cell_type": "code",
      "metadata": {
        "id": "BJSnh6vRCjGJ"
      },
      "source": [
        ""
      ],
      "execution_count": null,
      "outputs": []
    }
  ]
}