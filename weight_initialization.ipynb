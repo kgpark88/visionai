{
  "nbformat": 4,
  "nbformat_minor": 0,
  "metadata": {
    "kernelspec": {
      "display_name": "Python 3",
      "language": "python",
      "name": "python3"
    },
    "language_info": {
      "codemirror_mode": {
        "name": "ipython",
        "version": 3
      },
      "file_extension": ".py",
      "mimetype": "text/x-python",
      "name": "python",
      "nbconvert_exporter": "python",
      "pygments_lexer": "ipython3",
      "version": "3.6.5"
    },
    "colab": {
      "provenance": [],
      "include_colab_link": true
    }
  },
  "cells": [
    {
      "cell_type": "markdown",
      "metadata": {
        "id": "view-in-github",
        "colab_type": "text"
      },
      "source": [
        "<a href=\"https://colab.research.google.com/github/kgpark88/visionai/blob/main/weight_initialization.ipynb\" target=\"_parent\"><img src=\"https://colab.research.google.com/assets/colab-badge.svg\" alt=\"Open In Colab\"/></a>"
      ]
    },
    {
      "cell_type": "markdown",
      "metadata": {
        "id": "Iyh0fSo0CjF-"
      },
      "source": [
        "# 가중치 초기화"
      ]
    },
    {
      "cell_type": "markdown",
      "metadata": {
        "id": "nK3eRJFdCjGC"
      },
      "source": [
        "### 라이브러리 임포트"
      ]
    },
    {
      "cell_type": "code",
      "metadata": {
        "id": "fTOykgYmCjGD"
      },
      "source": [
        "import numpy as np\n",
        "import pandas as pd\n",
        "from matplotlib import pyplot as plt\n",
        "\n",
        "import tensorflow as tf\n",
        "from tensorflow.keras import Sequential\n",
        "from tensorflow.keras.layers import Dense, Activation\n",
        "from tensorflow.keras.initializers import Zeros, RandomNormal, glorot_normal, glorot_uniform"
      ],
      "execution_count": 33,
      "outputs": []
    },
    {
      "cell_type": "markdown",
      "metadata": {
        "id": "lHUqYQvVCjGE"
      },
      "source": [
        "### 뉴런 개수 설정"
      ]
    },
    {
      "cell_type": "code",
      "metadata": {
        "id": "sV4IrbZICjGF"
      },
      "source": [
        "n_input = 784\n",
        "n_dense = 256"
      ],
      "execution_count": 34,
      "outputs": []
    },
    {
      "cell_type": "markdown",
      "metadata": {
        "id": "fLUgYvKdCjGF"
      },
      "source": [
        "#### Bias 초기화"
      ]
    },
    {
      "cell_type": "code",
      "metadata": {
        "id": "e5ANJUqlCjGG"
      },
      "source": [
        "b_init = Zeros()"
      ],
      "execution_count": 35,
      "outputs": []
    },
    {
      "cell_type": "markdown",
      "metadata": {
        "id": "nnL5CpyNCjGG"
      },
      "source": [
        "### 가중치 초기화 - 표준 정규 분포"
      ]
    },
    {
      "cell_type": "code",
      "metadata": {
        "id": "LKvzEI4OCjGH"
      },
      "source": [
        "w_init = RandomNormal(stddev=1.0)"
      ],
      "execution_count": 36,
      "outputs": []
    },
    {
      "cell_type": "markdown",
      "metadata": {
        "id": "4icqBmcHDm3L"
      },
      "source": [
        "### 가중치 초기화 - 세이비어 글로럿 분포"
      ]
    },
    {
      "cell_type": "code",
      "metadata": {
        "id": "GkeiE7oxDsvb"
      },
      "source": [
        "# w_init = glorot_normal()"
      ],
      "execution_count": 27,
      "outputs": []
    },
    {
      "cell_type": "markdown",
      "metadata": {
        "id": "zGowJY3jD_OT"
      },
      "source": [
        "### 가중치 초기화 - 세이비어 글로럿 균등 분포"
      ]
    },
    {
      "cell_type": "code",
      "metadata": {
        "id": "Xme1mLvfD9dr"
      },
      "source": [
        "# w_init = glorot_uniform()"
      ],
      "execution_count": 28,
      "outputs": []
    },
    {
      "cell_type": "markdown",
      "metadata": {
        "id": "CAGnHRw7CjGH"
      },
      "source": [
        "### 신경망 모델"
      ]
    },
    {
      "cell_type": "code",
      "metadata": {
        "id": "NpkYV0SmCjGH"
      },
      "source": [
        "model = Sequential()\n",
        "model.add(Dense(n_dense,\n",
        "                input_dim=n_input,\n",
        "                kernel_initializer=w_init,\n",
        "                bias_initializer=b_init))\n",
        "model.add(Activation('sigmoid'))\n",
        "# model.add(Activation('tanh'))\n",
        "# model.add(Activation('relu'))"
      ],
      "execution_count": 29,
      "outputs": []
    },
    {
      "cell_type": "markdown",
      "metadata": {
        "id": "qio9vgILCjGI"
      },
      "source": [
        "### 랜덤 *x* 값 생성"
      ]
    },
    {
      "cell_type": "code",
      "metadata": {
        "id": "ZPfe51FPCjGI"
      },
      "source": [
        "x = np.random.random((1, n_input))"
      ],
      "execution_count": 30,
      "outputs": []
    },
    {
      "cell_type": "markdown",
      "metadata": {
        "id": "629zM0M7CjGI"
      },
      "source": [
        "### 정방향 계산"
      ]
    },
    {
      "cell_type": "code",
      "metadata": {
        "id": "lZ7RCLFCCjGI",
        "colab": {
          "base_uri": "https://localhost:8080/"
        },
        "outputId": "6410d391-53de-41aa-eb0c-52fd9f31aae9"
      },
      "source": [
        "a = model.predict(x)"
      ],
      "execution_count": 31,
      "outputs": [
        {
          "output_type": "stream",
          "name": "stdout",
          "text": [
            "1/1 [==============================] - 0s 46ms/step\n"
          ]
        }
      ]
    },
    {
      "cell_type": "code",
      "metadata": {
        "id": "fhVpK7vGCjGJ",
        "colab": {
          "base_uri": "https://localhost:8080/",
          "height": 430
        },
        "outputId": "2e080566-99e3-4bef-9879-210f58520f38"
      },
      "source": [
        "_ = plt.hist(np.transpose(a))"
      ],
      "execution_count": 32,
      "outputs": [
        {
          "output_type": "display_data",
          "data": {
            "text/plain": [
              "<Figure size 640x480 with 1 Axes>"
            ],
            "image/png": "[encoded data removed]"
          },
          "metadata": {}
        }
      ]
    },
    {
      "cell_type": "code",
      "metadata": {
        "id": "BJSnh6vRCjGJ"
      },
      "source": [],
      "execution_count": null,
      "outputs": []
    }
  ]
}