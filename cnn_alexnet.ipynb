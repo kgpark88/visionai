{
  "nbformat": 4,
  "nbformat_minor": 0,
  "metadata": {
    "accelerator": "GPU",
    "colab": {
      "provenance": []
    },
    "kernelspec": {
      "display_name": "Python 3 (ipykernel)",
      "language": "python",
      "name": "python3"
    },
    "language_info": {
      "codemirror_mode": {
        "name": "ipython",
        "version": 3
      },
      "file_extension": ".py",
      "mimetype": "text/x-python",
      "name": "python",
      "nbconvert_exporter": "python",
      "pygments_lexer": "ipython3",
      "version": "3.8.7"
    }
  },
  "cells": [
    {
      "cell_type": "markdown",
      "metadata": {
        "id": "XzXEHeO1MDFd"
      },
      "source": [
        "# AlexNet CNN 아키텍처 구현 - TensorFlow"
      ]
    },
    {
      "cell_type": "code",
      "source": [
        "!nvidia-smi"
      ],
      "metadata": {
        "colab": {
          "base_uri": "https://localhost:8080/"
        },
        "id": "CYKsJmgyfFsZ",
        "outputId": "1d6c5630-e1d3-42f7-c32d-a97f4bf717d3"
      },
      "execution_count": 1,
      "outputs": [
        {
          "output_type": "stream",
          "name": "stdout",
          "text": [
            "Thu Oct 26 02:56:36 2023       \n",
            "+-----------------------------------------------------------------------------+\n",
            "| NVIDIA-SMI 525.105.17   Driver Version: 525.105.17   CUDA Version: 12.0     |\n",
            "|-------------------------------+----------------------+----------------------+\n",
            "| GPU  Name        Persistence-M| Bus-Id        Disp.A | Volatile Uncorr. ECC |\n",
            "| Fan  Temp  Perf  Pwr:Usage/Cap|         Memory-Usage | GPU-Util  Compute M. |\n",
            "|                               |                      |               MIG M. |\n",
            "|===============================+======================+======================|\n",
            "|   0  Tesla T4            Off  | 00000000:00:04.0 Off |                    0 |\n",
            "| N/A   60C    P8    11W /  70W |      0MiB / 15360MiB |      0%      Default |\n",
            "|                               |                      |                  N/A |\n",
            "+-------------------------------+----------------------+----------------------+\n",
            "                                                                               \n",
            "+-----------------------------------------------------------------------------+\n",
            "| Processes:                                                                  |\n",
            "|  GPU   GI   CI        PID   Type   Process name                  GPU Memory |\n",
            "|        ID   ID                                                   Usage      |\n",
            "|=============================================================================|\n",
            "|  No running processes found                                                 |\n",
            "+-----------------------------------------------------------------------------+\n"
          ]
        }
      ]
    },
    {
      "cell_type": "markdown",
      "metadata": {
        "id": "YvEDIDL3MDFi"
      },
      "source": [
        "### 라이브러리 임포트"
      ]
    },
    {
      "cell_type": "code",
      "metadata": {
        "id": "xsHoJjNXMDFi"
      },
      "source": [
        "import os\n",
        "import time\n",
        "import matplotlib.pyplot as plt\n",
        "\n",
        "import tensorflow as tf\n",
        "from tensorflow import keras\n",
        "from tensorflow.keras.models import Sequential\n",
        "from tensorflow.keras.layers import Activation, Dense, Dropout\n",
        "from tensorflow.keras.layers import Flatten, Conv2D, MaxPooling2D, BatchNormalization\n",
        "from tensorflow.keras.optimizers import SGD\n",
        "from tensorflow.keras.callbacks import TensorBoard"
      ],
      "execution_count": 2,
      "outputs": []
    },
    {
      "cell_type": "markdown",
      "metadata": {
        "id": "_P372oVdMDFj"
      },
      "source": [
        "### 데이터셋 로드\n",
        "- The CIFAR-10 dataset contains 60,000 colour images, each with dimensions 32x32px.\n",
        "- The content of the images within the dataset is sampled from 10 classes."
      ]
    },
    {
      "cell_type": "code",
      "metadata": {
        "id": "NyVIiYrRN6bN",
        "colab": {
          "base_uri": "https://localhost:8080/"
        },
        "outputId": "cef0271b-99ac-479f-86d0-e3ad7af353c7"
      },
      "source": [
        "(train_images, train_labels), (test_images, test_labels) = keras.datasets.cifar10.load_data()"
      ],
      "execution_count": 3,
      "outputs": [
        {
          "output_type": "stream",
          "name": "stdout",
          "text": [
            "Downloading data from https://www.cs.toronto.edu/~kriz/cifar-10-python.tar.gz\n",
            "170498071/170498071 [==============================] - 4s 0us/step\n"
          ]
        }
      ]
    },
    {
      "cell_type": "code",
      "metadata": {
        "id": "3yyltybcN73U"
      },
      "source": [
        "CLASS_NAMES= ['airplane', 'automobile', 'bird', 'cat', 'deer', 'dog', 'frog', 'horse', 'ship', 'truck']"
      ],
      "execution_count": 4,
      "outputs": []
    },
    {
      "cell_type": "markdown",
      "metadata": {
        "id": "IDmT7MRLPfn8"
      },
      "source": [
        "### 데이터셋 분리"
      ]
    },
    {
      "cell_type": "code",
      "metadata": {
        "id": "RwNM4TIEOFgz"
      },
      "source": [
        "train_images = train_images[:-5000]\n",
        "train_labels = train_labels[:-5000]\n",
        "validation_images  = train_images[-5000:]\n",
        "validation_labels = train_labels[-5000:]"
      ],
      "execution_count": 5,
      "outputs": []
    },
    {
      "cell_type": "code",
      "metadata": {
        "id": "7ZsnToHHMDFk"
      },
      "source": [
        "train_ds = tf.data.Dataset.from_tensor_slices((train_images, train_labels))\n",
        "test_ds = tf.data.Dataset.from_tensor_slices((test_images, test_labels))\n",
        "validation_ds = tf.data.Dataset.from_tensor_slices((validation_images, validation_labels))"
      ],
      "execution_count": 6,
      "outputs": []
    },
    {
      "cell_type": "markdown",
      "metadata": {
        "id": "je70Oq3-PtRL"
      },
      "source": [
        "### 이미지 확인"
      ]
    },
    {
      "cell_type": "code",
      "metadata": {
        "colab": {
          "base_uri": "https://localhost:8080/",
          "height": 165
        },
        "id": "gYbfUoc7PrqJ",
        "outputId": "7a62f199-841f-4391-e0ef-6492af403868"
      },
      "source": [
        "plt.figure(figsize=(20,20))\n",
        "for i, (image, label) in enumerate(train_ds.take(5)):\n",
        "    ax = plt.subplot(5,5,i+1)\n",
        "    plt.imshow(image)\n",
        "    plt.title(CLASS_NAMES[label.numpy()[0]])\n",
        "    plt.axis('off')"
      ],
      "execution_count": 7,
      "outputs": [
        {
          "output_type": "display_data",
          "data": {
            "text/plain": [
              "<Figure size 2000x2000 with 5 Axes>"
            ],
            "image/png": "[encoded data removed]"
          },
          "metadata": {}
        }
      ]
    },
    {
      "cell_type": "markdown",
      "metadata": {
        "id": "AZwtpzsTPyWz"
      },
      "source": [
        "### 데이터 전처리 함수"
      ]
    },
    {
      "cell_type": "code",
      "metadata": {
        "id": "9cCvexiKPxlt"
      },
      "source": [
        "def process_images(image, label):\n",
        "    # Normalize images to have a mean of 0 and standard deviation of 1\n",
        "    image = tf.image.per_image_standardization(image)\n",
        "    # Resize images from 32x32 to 277x277\n",
        "    image = tf.image.resize(image, (227,227))\n",
        "    return image, label"
      ],
      "execution_count": 8,
      "outputs": []
    },
    {
      "cell_type": "markdown",
      "metadata": {
        "id": "Dz0pmZS7P-Ms"
      },
      "source": [
        "### 데이터셋 준비"
      ]
    },
    {
      "cell_type": "code",
      "metadata": {
        "colab": {
          "base_uri": "https://localhost:8080/"
        },
        "id": "p6Xq0x7WP26E",
        "outputId": "701b14f5-7366-4aa3-9b8f-3c8ee1066ae1"
      },
      "source": [
        "train_ds_size = tf.data.experimental.cardinality(train_ds).numpy()\n",
        "validation_ds_size = tf.data.experimental.cardinality(validation_ds).numpy()\n",
        "test_ds_size = tf.data.experimental.cardinality(test_ds).numpy()\n",
        "\n",
        "print(\"Training dataset size:\", train_ds_size)\n",
        "print(\"Validation dataset size:\", validation_ds_size)\n",
        "print(\"Test dataset size:\", test_ds_size)"
      ],
      "execution_count": 9,
      "outputs": [
        {
          "output_type": "stream",
          "name": "stdout",
          "text": [
            "Training dataset size: 45000\n",
            "Validation dataset size: 5000\n",
            "Test dataset size: 10000\n"
          ]
        }
      ]
    },
    {
      "cell_type": "code",
      "metadata": {
        "id": "HnwVtUIzP7rs"
      },
      "source": [
        "batch_size = 32\n",
        "buffer_size = 1000\n",
        "\n",
        "train_ds = (train_ds\n",
        "                  .map(process_images)\n",
        "                  .shuffle(buffer_size=buffer_size)\n",
        "                  .batch(batch_size=batch_size, drop_remainder=True))\n",
        "\n",
        "validation_ds = (validation_ds\n",
        "                  .map(process_images)\n",
        "                  .shuffle(buffer_size=buffer_size)\n",
        "                  .batch(batch_size=batch_size, drop_remainder=True))\n",
        "\n",
        "test_ds = (test_ds\n",
        "                  .map(process_images)\n",
        "                  .batch(batch_size=batch_size, drop_remainder=True))"
      ],
      "execution_count": 10,
      "outputs": []
    },
    {
      "cell_type": "code",
      "metadata": {
        "id": "Mg5cny4ft6nn",
        "colab": {
          "base_uri": "https://localhost:8080/"
        },
        "outputId": "ea6b89b4-c0cc-4419-a4c7-8649bb862336"
      },
      "source": [
        "for d in train_ds:\n",
        "    print(d)\n",
        "    break"
      ],
      "execution_count": 11,
      "outputs": [
        {
          "output_type": "stream",
          "name": "stdout",
          "text": [
            "(<tf.Tensor: shape=(32, 227, 227, 3), dtype=float32, numpy=\n",
            "array([[[[-0.9790095 , -0.48853087, -0.8563898 ],\n",
            "         [-0.9790095 , -0.48853087, -0.8563898 ],\n",
            "         [-0.9790095 , -0.48853087, -0.8563898 ],\n",
            "         ...,\n",
            "         [-0.36591122, -0.04710012, -0.48853087],\n",
            "         [-0.36591122, -0.04710012, -0.48853087],\n",
            "         [-0.36591122, -0.04710012, -0.48853087]],\n",
            "\n",
            "        [[-0.9790095 , -0.48853087, -0.8563898 ],\n",
            "         [-0.9790095 , -0.48853087, -0.8563898 ],\n",
            "         [-0.9790095 , -0.48853087, -0.8563898 ],\n",
            "         ...,\n",
            "         [-0.36591122, -0.04710012, -0.48853087],\n",
            "         [-0.36591122, -0.04710012, -0.48853087],\n",
            "         [-0.36591122, -0.04710012, -0.48853087]],\n",
            "\n",
            "        [[-0.9790095 , -0.48853087, -0.8563898 ],\n",
            "         [-0.9790095 , -0.48853087, -0.8563898 ],\n",
            "         [-0.9790095 , -0.48853087, -0.8563898 ],\n",
            "         ...,\n",
            "         [-0.36591122, -0.04710012, -0.48853087],\n",
            "         [-0.36591122, -0.04710012, -0.48853087],\n",
            "         [-0.36591122, -0.04710012, -0.48853087]],\n",
            "\n",
            "        ...,\n",
            "\n",
            "        [[ 0.02647167,  0.2962349 ,  0.00194774],\n",
            "         [ 0.02647167,  0.2962349 ,  0.00194774],\n",
            "         [ 0.02647167,  0.2962349 ,  0.00194774],\n",
            "         ...,\n",
            "         [ 0.5169503 ,  0.73766565,  0.5169503 ],\n",
            "         [ 0.5169503 ,  0.73766565,  0.5169503 ],\n",
            "         [ 0.5169503 ,  0.73766565,  0.5169503 ]],\n",
            "\n",
            "        [[ 0.02647167,  0.2962349 ,  0.00194774],\n",
            "         [ 0.02647167,  0.2962349 ,  0.00194774],\n",
            "         [ 0.02647167,  0.2962349 ,  0.00194774],\n",
            "         ...,\n",
            "         [ 0.5169503 ,  0.73766565,  0.5169503 ],\n",
            "         [ 0.5169503 ,  0.73766565,  0.5169503 ],\n",
            "         [ 0.5169503 ,  0.73766565,  0.5169503 ]],\n",
            "\n",
            "        [[ 0.02647167,  0.2962349 ,  0.00194774],\n",
            "         [ 0.02647167,  0.2962349 ,  0.00194774],\n",
            "         [ 0.02647167,  0.2962349 ,  0.00194774],\n",
            "         ...,\n",
            "         [ 0.5169503 ,  0.73766565,  0.5169503 ],\n",
            "         [ 0.5169503 ,  0.73766565,  0.5169503 ],\n",
            "         [ 0.5169503 ,  0.73766565,  0.5169503 ]]],\n",
            "\n",
            "\n",
            "       [[[-0.36949474, -0.6849453 , -1.1217229 ],\n",
            "         [-0.36949474, -0.6849453 , -1.1217229 ],\n",
            "         [-0.36949474, -0.6849453 , -1.1217229 ],\n",
            "         ...,\n",
            "         [-1.1702538 , -1.4371735 , -1.6312969 ],\n",
            "         [-1.1702538 , -1.4371735 , -1.6312969 ],\n",
            "         [-1.1702538 , -1.4371735 , -1.6312969 ]],\n",
            "\n",
            "        [[-0.36949474, -0.6849453 , -1.1217229 ],\n",
            "         [-0.36949474, -0.6849453 , -1.1217229 ],\n",
            "         [-0.36949474, -0.6849453 , -1.1217229 ],\n",
            "         ...,\n",
            "         [-1.1702538 , -1.4371735 , -1.6312969 ],\n",
            "         [-1.1702538 , -1.4371735 , -1.6312969 ],\n",
            "         [-1.1702538 , -1.4371735 , -1.6312969 ]],\n",
            "\n",
            "        [[-0.36949474, -0.6849453 , -1.1217229 ],\n",
            "         [-0.36949474, -0.6849453 , -1.1217229 ],\n",
            "         [-0.36949474, -0.6849453 , -1.1217229 ],\n",
            "         ...,\n",
            "         [-1.1702538 , -1.4371735 , -1.6312969 ],\n",
            "         [-1.1702538 , -1.4371735 , -1.6312969 ],\n",
            "         [-1.1702538 , -1.4371735 , -1.6312969 ]],\n",
            "\n",
            "        ...,\n",
            "\n",
            "        [[-0.34522933, -0.46655646, -1.0731921 ],\n",
            "         [-0.34522933, -0.46655646, -1.0731921 ],\n",
            "         [-0.34522933, -0.46655646, -1.0731921 ],\n",
            "         ...,\n",
            "         [-0.07830965, -0.2239022 , -0.612149  ],\n",
            "         [-0.07830965, -0.2239022 , -0.612149  ],\n",
            "         [-0.07830965, -0.2239022 , -0.612149  ]],\n",
            "\n",
            "        [[-0.34522933, -0.46655646, -1.0731921 ],\n",
            "         [-0.34522933, -0.46655646, -1.0731921 ],\n",
            "         [-0.34522933, -0.46655646, -1.0731921 ],\n",
            "         ...,\n",
            "         [-0.07830965, -0.2239022 , -0.612149  ],\n",
            "         [-0.07830965, -0.2239022 , -0.612149  ],\n",
            "         [-0.07830965, -0.2239022 , -0.612149  ]],\n",
            "\n",
            "        [[-0.34522933, -0.46655646, -1.0731921 ],\n",
            "         [-0.34522933, -0.46655646, -1.0731921 ],\n",
            "         [-0.34522933, -0.46655646, -1.0731921 ],\n",
            "         ...,\n",
            "         [-0.07830965, -0.2239022 , -0.612149  ],\n",
            "         [-0.07830965, -0.2239022 , -0.612149  ],\n",
            "         [-0.07830965, -0.2239022 , -0.612149  ]]],\n",
            "\n",
            "\n",
            "       [[[ 1.3269577 ,  1.6044347 ,  0.7079707 ],\n",
            "         [ 1.3269577 ,  1.6044347 ,  0.7079707 ],\n",
            "         [ 1.3269577 ,  1.6044347 ,  0.7079707 ],\n",
            "         ...,\n",
            "         [-0.27387094,  1.0921695 , -0.3165597 ],\n",
            "         [-0.27387094,  1.0921695 , -0.3165597 ],\n",
            "         [-0.27387094,  1.0921695 , -0.3165597 ]],\n",
            "\n",
            "        [[ 1.3269577 ,  1.6044347 ,  0.7079707 ],\n",
            "         [ 1.3269577 ,  1.6044347 ,  0.7079707 ],\n",
            "         [ 1.3269577 ,  1.6044347 ,  0.7079707 ],\n",
            "         ...,\n",
            "         [-0.27387094,  1.0921695 , -0.3165597 ],\n",
            "         [-0.27387094,  1.0921695 , -0.3165597 ],\n",
            "         [-0.27387094,  1.0921695 , -0.3165597 ]],\n",
            "\n",
            "        [[ 1.3269577 ,  1.6044347 ,  0.7079707 ],\n",
            "         [ 1.3269577 ,  1.6044347 ,  0.7079707 ],\n",
            "         [ 1.3269577 ,  1.6044347 ,  0.7079707 ],\n",
            "         ...,\n",
            "         [-0.27387094,  1.0921695 , -0.3165597 ],\n",
            "         [-0.27387094,  1.0921695 , -0.3165597 ],\n",
            "         [-0.27387094,  1.0921695 , -0.3165597 ]],\n",
            "\n",
            "        ...,\n",
            "\n",
            "        [[ 0.21704985,  0.8360369 ,  0.98544765],\n",
            "         [ 0.21704985,  0.8360369 ,  0.98544765],\n",
            "         [ 0.21704985,  0.8360369 ,  0.98544765],\n",
            "         ...,\n",
            "         [ 0.25973862,  0.5799044 ,  0.45183808],\n",
            "         [ 0.25973862,  0.5799044 ,  0.45183808],\n",
            "         [ 0.25973862,  0.5799044 ,  0.45183808]],\n",
            "\n",
            "        [[ 0.21704985,  0.8360369 ,  0.98544765],\n",
            "         [ 0.21704985,  0.8360369 ,  0.98544765],\n",
            "         [ 0.21704985,  0.8360369 ,  0.98544765],\n",
            "         ...,\n",
            "         [ 0.25973862,  0.5799044 ,  0.45183808],\n",
            "         [ 0.25973862,  0.5799044 ,  0.45183808],\n",
            "         [ 0.25973862,  0.5799044 ,  0.45183808]],\n",
            "\n",
            "        [[ 0.21704985,  0.8360369 ,  0.98544765],\n",
            "         [ 0.21704985,  0.8360369 ,  0.98544765],\n",
            "         [ 0.21704985,  0.8360369 ,  0.98544765],\n",
            "         ...,\n",
            "         [ 0.25973862,  0.5799044 ,  0.45183808],\n",
            "         [ 0.25973862,  0.5799044 ,  0.45183808],\n",
            "         [ 0.25973862,  0.5799044 ,  0.45183808]]],\n",
            "\n",
            "\n",
            "       ...,\n",
            "\n",
            "\n",
            "       [[[-0.36176974, -0.6345139 , -0.8163434 ],\n",
            "         [-0.36176974, -0.6345139 , -0.8163434 ],\n",
            "         [-0.36176974, -0.6345139 , -0.8163434 ],\n",
            "         ...,\n",
            "         [-0.64966637, -0.7254287 , -0.801191  ],\n",
            "         [-0.64966637, -0.7254287 , -0.801191  ],\n",
            "         [-0.64966637, -0.7254287 , -0.801191  ]],\n",
            "\n",
            "        [[-0.36176974, -0.6345139 , -0.8163434 ],\n",
            "         [-0.36176974, -0.6345139 , -0.8163434 ],\n",
            "         [-0.36176974, -0.6345139 , -0.8163434 ],\n",
            "         ...,\n",
            "         [-0.64966637, -0.7254287 , -0.801191  ],\n",
            "         [-0.64966637, -0.7254287 , -0.801191  ],\n",
            "         [-0.64966637, -0.7254287 , -0.801191  ]],\n",
            "\n",
            "        [[-0.36176974, -0.6345139 , -0.8163434 ],\n",
            "         [-0.36176974, -0.6345139 , -0.8163434 ],\n",
            "         [-0.36176974, -0.6345139 , -0.8163434 ],\n",
            "         ...,\n",
            "         [-0.64966637, -0.7254287 , -0.801191  ],\n",
            "         [-0.64966637, -0.7254287 , -0.801191  ],\n",
            "         [-0.64966637, -0.7254287 , -0.801191  ]],\n",
            "\n",
            "        ...,\n",
            "\n",
            "        [[ 0.94134146,  0.9867988 ,  0.9867988 ],\n",
            "         [ 0.94134146,  0.9867988 ,  0.9867988 ],\n",
            "         [ 0.94134146,  0.9867988 ,  0.9867988 ],\n",
            "         ...,\n",
            "         [-1.0284778 , -1.1496974 , -1.4982039 ],\n",
            "         [-1.0284778 , -1.1496974 , -1.4982039 ],\n",
            "         [-1.0284778 , -1.1496974 , -1.4982039 ]],\n",
            "\n",
            "        [[ 0.94134146,  0.9867988 ,  0.9867988 ],\n",
            "         [ 0.94134146,  0.9867988 ,  0.9867988 ],\n",
            "         [ 0.94134146,  0.9867988 ,  0.9867988 ],\n",
            "         ...,\n",
            "         [-1.0284778 , -1.1496974 , -1.4982039 ],\n",
            "         [-1.0284778 , -1.1496974 , -1.4982039 ],\n",
            "         [-1.0284778 , -1.1496974 , -1.4982039 ]],\n",
            "\n",
            "        [[ 0.94134146,  0.9867988 ,  0.9867988 ],\n",
            "         [ 0.94134146,  0.9867988 ,  0.9867988 ],\n",
            "         [ 0.94134146,  0.9867988 ,  0.9867988 ],\n",
            "         ...,\n",
            "         [-1.0284778 , -1.1496974 , -1.4982039 ],\n",
            "         [-1.0284778 , -1.1496974 , -1.4982039 ],\n",
            "         [-1.0284778 , -1.1496974 , -1.4982039 ]]],\n",
            "\n",
            "\n",
            "       [[[-0.79788303, -1.5395099 , -1.9298398 ],\n",
            "         [-0.79788303, -1.5395099 , -1.9298398 ],\n",
            "         [-0.79788303, -1.5395099 , -1.9298398 ],\n",
            "         ...,\n",
            "         [ 0.2950408 ,  0.35359028,  0.41213977],\n",
            "         [ 0.2950408 ,  0.35359028,  0.41213977],\n",
            "         [ 0.2950408 ,  0.35359028,  0.41213977]],\n",
            "\n",
            "        [[-0.79788303, -1.5395099 , -1.9298398 ],\n",
            "         [-0.79788303, -1.5395099 , -1.9298398 ],\n",
            "         [-0.79788303, -1.5395099 , -1.9298398 ],\n",
            "         ...,\n",
            "         [ 0.2950408 ,  0.35359028,  0.41213977],\n",
            "         [ 0.2950408 ,  0.35359028,  0.41213977],\n",
            "         [ 0.2950408 ,  0.35359028,  0.41213977]],\n",
            "\n",
            "        [[-0.79788303, -1.5395099 , -1.9298398 ],\n",
            "         [-0.79788303, -1.5395099 , -1.9298398 ],\n",
            "         [-0.79788303, -1.5395099 , -1.9298398 ],\n",
            "         ...,\n",
            "         [ 0.2950408 ,  0.35359028,  0.41213977],\n",
            "         [ 0.2950408 ,  0.35359028,  0.41213977],\n",
            "         [ 0.2950408 ,  0.35359028,  0.41213977]],\n",
            "\n",
            "        ...,\n",
            "\n",
            "        [[ 0.04132634, -0.7003005 , -1.4028944 ],\n",
            "         [ 0.04132634, -0.7003005 , -1.4028944 ],\n",
            "         [ 0.04132634, -0.7003005 , -1.4028944 ],\n",
            "         ...,\n",
            "         [ 0.39262328,  0.17794181, -0.11480564],\n",
            "         [ 0.39262328,  0.17794181, -0.11480564],\n",
            "         [ 0.39262328,  0.17794181, -0.11480564]],\n",
            "\n",
            "        [[ 0.04132634, -0.7003005 , -1.4028944 ],\n",
            "         [ 0.04132634, -0.7003005 , -1.4028944 ],\n",
            "         [ 0.04132634, -0.7003005 , -1.4028944 ],\n",
            "         ...,\n",
            "         [ 0.39262328,  0.17794181, -0.11480564],\n",
            "         [ 0.39262328,  0.17794181, -0.11480564],\n",
            "         [ 0.39262328,  0.17794181, -0.11480564]],\n",
            "\n",
            "        [[ 0.04132634, -0.7003005 , -1.4028944 ],\n",
            "         [ 0.04132634, -0.7003005 , -1.4028944 ],\n",
            "         [ 0.04132634, -0.7003005 , -1.4028944 ],\n",
            "         ...,\n",
            "         [ 0.39262328,  0.17794181, -0.11480564],\n",
            "         [ 0.39262328,  0.17794181, -0.11480564],\n",
            "         [ 0.39262328,  0.17794181, -0.11480564]]],\n",
            "\n",
            "\n",
            "       [[[-1.041674  , -0.4345908 , -1.1934448 ],\n",
            "         [-1.041674  , -0.4345908 , -1.1934448 ],\n",
            "         [-1.041674  , -0.4345908 , -1.1934448 ],\n",
            "         ...,\n",
            "         [-0.45627233,  0.02072163, -0.56468004],\n",
            "         [-0.45627233,  0.02072163, -0.56468004],\n",
            "         [-0.45627233,  0.02072163, -0.56468004]],\n",
            "\n",
            "        [[-1.041674  , -0.4345908 , -1.1934448 ],\n",
            "         [-1.041674  , -0.4345908 , -1.1934448 ],\n",
            "         [-1.041674  , -0.4345908 , -1.1934448 ],\n",
            "         ...,\n",
            "         [-0.45627233,  0.02072163, -0.56468004],\n",
            "         [-0.45627233,  0.02072163, -0.56468004],\n",
            "         [-0.45627233,  0.02072163, -0.56468004]],\n",
            "\n",
            "        [[-1.041674  , -0.4345908 , -1.1934448 ],\n",
            "         [-1.041674  , -0.4345908 , -1.1934448 ],\n",
            "         [-1.041674  , -0.4345908 , -1.1934448 ],\n",
            "         ...,\n",
            "         [-0.45627233,  0.02072163, -0.56468004],\n",
            "         [-0.45627233,  0.02072163, -0.56468004],\n",
            "         [-0.45627233,  0.02072163, -0.56468004]],\n",
            "\n",
            "        ...,\n",
            "\n",
            "        [[-0.36954615, -0.23945689, -0.8899032 ],\n",
            "         [-0.36954615, -0.23945689, -0.8899032 ],\n",
            "         [-0.36954615, -0.23945689, -0.8899032 ],\n",
            "         ...,\n",
            "         [-0.49963543, -0.19609381, -0.3912277 ],\n",
            "         [-0.49963543, -0.19609381, -0.3912277 ],\n",
            "         [-0.49963543, -0.19609381, -0.3912277 ]],\n",
            "\n",
            "        [[-0.36954615, -0.23945689, -0.8899032 ],\n",
            "         [-0.36954615, -0.23945689, -0.8899032 ],\n",
            "         [-0.36954615, -0.23945689, -0.8899032 ],\n",
            "         ...,\n",
            "         [-0.49963543, -0.19609381, -0.3912277 ],\n",
            "         [-0.49963543, -0.19609381, -0.3912277 ],\n",
            "         [-0.49963543, -0.19609381, -0.3912277 ]],\n",
            "\n",
            "        [[-0.36954615, -0.23945689, -0.8899032 ],\n",
            "         [-0.36954615, -0.23945689, -0.8899032 ],\n",
            "         [-0.36954615, -0.23945689, -0.8899032 ],\n",
            "         ...,\n",
            "         [-0.49963543, -0.19609381, -0.3912277 ],\n",
            "         [-0.49963543, -0.19609381, -0.3912277 ],\n",
            "         [-0.49963543, -0.19609381, -0.3912277 ]]]], dtype=float32)>, <tf.Tensor: shape=(32, 1), dtype=uint8, numpy=\n",
            "array([[3],\n",
            "       [4],\n",
            "       [3],\n",
            "       [0],\n",
            "       [6],\n",
            "       [9],\n",
            "       [5],\n",
            "       [8],\n",
            "       [2],\n",
            "       [5],\n",
            "       [5],\n",
            "       [1],\n",
            "       [6],\n",
            "       [7],\n",
            "       [7],\n",
            "       [8],\n",
            "       [4],\n",
            "       [7],\n",
            "       [8],\n",
            "       [9],\n",
            "       [6],\n",
            "       [0],\n",
            "       [6],\n",
            "       [1],\n",
            "       [7],\n",
            "       [3],\n",
            "       [3],\n",
            "       [5],\n",
            "       [2],\n",
            "       [2],\n",
            "       [5],\n",
            "       [4]], dtype=uint8)>)\n"
          ]
        }
      ]
    },
    {
      "cell_type": "markdown",
      "metadata": {
        "id": "nNlefJ97MDFl"
      },
      "source": [
        "### Alexnet 모델"
      ]
    },
    {
      "cell_type": "markdown",
      "metadata": {
        "id": "GmUJERkKt6no"
      },
      "source": [
        "![image.png](data:image/png;base64,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)"
      ]
    },
    {
      "cell_type": "code",
      "metadata": {
        "id": "IcUu5t8cMDFl"
      },
      "source": [
        "model = Sequential()\n",
        "\n",
        "# 1st Convolutional Layer\n",
        "model.add(Conv2D(filters=96, input_shape=(227,227,3), kernel_size=(11,11), strides=(4,4), padding='valid'))\n",
        "model.add(Activation('relu'))\n",
        "model.add(MaxPooling2D(pool_size=(2,2), strides=(2,2), padding='valid'))\n",
        "model.add(BatchNormalization())\n",
        "\n",
        "# 2nd Convolutional Layer\n",
        "model.add(Conv2D(filters=256, kernel_size=(5,5), strides=(1,1), padding='same'))\n",
        "model.add(Activation('relu'))\n",
        "model.add(MaxPooling2D(pool_size=(3,3), strides=(2,2), padding='valid'))\n",
        "model.add(BatchNormalization())\n",
        "\n",
        "# 3rd Convolutional Layer\n",
        "model.add(Conv2D(filters=384, kernel_size=(3,3), strides=(1,1), padding='same'))\n",
        "model.add(Activation('relu'))\n",
        "model.add(BatchNormalization())\n",
        "\n",
        "# 4th Convolutional Layer\n",
        "model.add(Conv2D(filters=384, kernel_size=(3,3), strides=(1,1), padding='same'))\n",
        "model.add(Activation('relu'))\n",
        "model.add(BatchNormalization())\n",
        "\n",
        "# 5th Convolutional Layer\n",
        "model.add(Conv2D(filters=256, kernel_size=(3,3), strides=(1,1), padding='same'))\n",
        "model.add(Activation('relu'))\n",
        "model.add(MaxPooling2D(pool_size=(3,3), strides=(2,2), padding='valid'))\n",
        "model.add(BatchNormalization())\n",
        "\n",
        "# Passing it to a dense layer\n",
        "model.add(Flatten())\n",
        "\n",
        "# 1st Dense Layer\n",
        "model.add(Dense(4096, input_shape=(227*227*3,)))\n",
        "model.add(Activation('relu'))\n",
        "model.add(Dropout(0.4))\n",
        "model.add(BatchNormalization())\n",
        "\n",
        "# 2nd Dense Layer\n",
        "model.add(Dense(4096))\n",
        "model.add(Activation('relu'))\n",
        "model.add(Dropout(0.4))\n",
        "model.add(BatchNormalization())\n",
        "\n",
        "#  output Layer\n",
        "model.add(Dense(10))\n",
        "\n",
        "model.add(Activation('softmax'))"
      ],
      "execution_count": 12,
      "outputs": []
    },
    {
      "cell_type": "code",
      "metadata": {
        "colab": {
          "base_uri": "https://localhost:8080/"
        },
        "id": "e86DkQkjMDFm",
        "outputId": "a3f0c4d7-7387-44fb-9ec4-c077e4a9db1f"
      },
      "source": [
        "model.summary()"
      ],
      "execution_count": 13,
      "outputs": [
        {
          "output_type": "stream",
          "name": "stdout",
          "text": [
            "Model: \"sequential\"\n",
            "_________________________________________________________________\n",
            " Layer (type)                Output Shape              Param #   \n",
            "=================================================================\n",
            " conv2d (Conv2D)             (None, 55, 55, 96)        34944     \n",
            "                                                                 \n",
            " activation (Activation)     (None, 55, 55, 96)        0         \n",
            "                                                                 \n",
            " max_pooling2d (MaxPooling2  (None, 27, 27, 96)        0         \n",
            " D)                                                              \n",
            "                                                                 \n",
            " batch_normalization (Batch  (None, 27, 27, 96)        384       \n",
            " Normalization)                                                  \n",
            "                                                                 \n",
            " conv2d_1 (Conv2D)           (None, 27, 27, 256)       614656    \n",
            "                                                                 \n",
            " activation_1 (Activation)   (None, 27, 27, 256)       0         \n",
            "                                                                 \n",
            " max_pooling2d_1 (MaxPoolin  (None, 13, 13, 256)       0         \n",
            " g2D)                                                            \n",
            "                                                                 \n",
            " batch_normalization_1 (Bat  (None, 13, 13, 256)       1024      \n",
            " chNormalization)                                                \n",
            "                                                                 \n",
            " conv2d_2 (Conv2D)           (None, 13, 13, 384)       885120    \n",
            "                                                                 \n",
            " activation_2 (Activation)   (None, 13, 13, 384)       0         \n",
            "                                                                 \n",
            " batch_normalization_2 (Bat  (None, 13, 13, 384)       1536      \n",
            " chNormalization)                                                \n",
            "                                                                 \n",
            " conv2d_3 (Conv2D)           (None, 13, 13, 384)       1327488   \n",
            "                                                                 \n",
            " activation_3 (Activation)   (None, 13, 13, 384)       0         \n",
            "                                                                 \n",
            " batch_normalization_3 (Bat  (None, 13, 13, 384)       1536      \n",
            " chNormalization)                                                \n",
            "                                                                 \n",
            " conv2d_4 (Conv2D)           (None, 13, 13, 256)       884992    \n",
            "                                                                 \n",
            " activation_4 (Activation)   (None, 13, 13, 256)       0         \n",
            "                                                                 \n",
            " max_pooling2d_2 (MaxPoolin  (None, 6, 6, 256)         0         \n",
            " g2D)                                                            \n",
            "                                                                 \n",
            " batch_normalization_4 (Bat  (None, 6, 6, 256)         1024      \n",
            " chNormalization)                                                \n",
            "                                                                 \n",
            " flatten (Flatten)           (None, 9216)              0         \n",
            "                                                                 \n",
            " dense (Dense)               (None, 4096)              37752832  \n",
            "                                                                 \n",
            " activation_5 (Activation)   (None, 4096)              0         \n",
            "                                                                 \n",
            " dropout (Dropout)           (None, 4096)              0         \n",
            "                                                                 \n",
            " batch_normalization_5 (Bat  (None, 4096)              16384     \n",
            " chNormalization)                                                \n",
            "                                                                 \n",
            " dense_1 (Dense)             (None, 4096)              16781312  \n",
            "                                                                 \n",
            " activation_6 (Activation)   (None, 4096)              0         \n",
            "                                                                 \n",
            " dropout_1 (Dropout)         (None, 4096)              0         \n",
            "                                                                 \n",
            " batch_normalization_6 (Bat  (None, 4096)              16384     \n",
            " chNormalization)                                                \n",
            "                                                                 \n",
            " dense_2 (Dense)             (None, 10)                40970     \n",
            "                                                                 \n",
            " activation_7 (Activation)   (None, 10)                0         \n",
            "                                                                 \n",
            "=================================================================\n",
            "Total params: 58360586 (222.63 MB)\n",
            "Trainable params: 58341450 (222.55 MB)\n",
            "Non-trainable params: 19136 (74.75 KB)\n",
            "_________________________________________________________________\n"
          ]
        }
      ]
    },
    {
      "cell_type": "markdown",
      "metadata": {
        "id": "wip0W4uaQm8M"
      },
      "source": [
        "### TensorBoard 로깅 디렉토리 설정"
      ]
    },
    {
      "cell_type": "code",
      "metadata": {
        "id": "-beBP62dQmXV"
      },
      "source": [
        "tensorboard = TensorBoard('logs/alexnet')"
      ],
      "execution_count": 14,
      "outputs": []
    },
    {
      "cell_type": "markdown",
      "metadata": {
        "id": "HddNo5xFMDFm"
      },
      "source": [
        "### 모델 컴파일"
      ]
    },
    {
      "cell_type": "code",
      "metadata": {
        "id": "0EgFTSYPMDFn"
      },
      "source": [
        "model.compile(loss='sparse_categorical_crossentropy',\n",
        "              optimizer=SGD(learning_rate=0.001),\n",
        "              metrics=['accuracy'])"
      ],
      "execution_count": 15,
      "outputs": []
    },
    {
      "cell_type": "markdown",
      "metadata": {
        "id": "w6tlcxPuMDFn"
      },
      "source": [
        "### 모델 훈련"
      ]
    },
    {
      "cell_type": "code",
      "metadata": {
        "colab": {
          "base_uri": "https://localhost:8080/"
        },
        "id": "TF1Tzf9hMDFn",
        "outputId": "6f3d4f43-81a7-4d43-d3d1-0580b453f8e3"
      },
      "source": [
        "epochs = 30\n",
        "\n",
        "model.fit(train_ds,\n",
        "          epochs=epochs,\n",
        "          validation_data=validation_ds,\n",
        "          callbacks=[tensorboard])"
      ],
      "execution_count": 16,
      "outputs": [
        {
          "output_type": "stream",
          "name": "stdout",
          "text": [
            "Epoch 1/30\n",
            "1406/1406 [==============================] - 92s 54ms/step - loss: 2.0251 - accuracy: 0.3508 - val_loss: 1.2415 - val_accuracy: 0.5683\n",
            "Epoch 2/30\n",
            "1406/1406 [==============================] - 75s 53ms/step - loss: 1.6197 - accuracy: 0.4621 - val_loss: 1.0459 - val_accuracy: 0.6398\n",
            "Epoch 3/30\n",
            "1406/1406 [==============================] - 75s 53ms/step - loss: 1.4013 - accuracy: 0.5288 - val_loss: 0.8954 - val_accuracy: 0.6921\n",
            "Epoch 4/30\n",
            "1406/1406 [==============================] - 75s 53ms/step - loss: 1.2366 - accuracy: 0.5794 - val_loss: 0.8097 - val_accuracy: 0.7198\n",
            "Epoch 5/30\n",
            "1406/1406 [==============================] - 75s 53ms/step - loss: 1.1153 - accuracy: 0.6186 - val_loss: 0.7281 - val_accuracy: 0.7496\n",
            "Epoch 6/30\n",
            "1406/1406 [==============================] - 75s 53ms/step - loss: 1.0113 - accuracy: 0.6526 - val_loss: 0.6385 - val_accuracy: 0.7772\n",
            "Epoch 7/30\n",
            "1406/1406 [==============================] - 76s 54ms/step - loss: 0.9335 - accuracy: 0.6778 - val_loss: 0.5621 - val_accuracy: 0.8073\n",
            "Epoch 8/30\n",
            "1406/1406 [==============================] - 74s 53ms/step - loss: 0.8639 - accuracy: 0.6998 - val_loss: 0.5203 - val_accuracy: 0.8255\n",
            "Epoch 9/30\n",
            "1406/1406 [==============================] - 74s 52ms/step - loss: 0.7974 - accuracy: 0.7237 - val_loss: 0.4605 - val_accuracy: 0.8486\n",
            "Epoch 10/30\n",
            "1406/1406 [==============================] - 74s 53ms/step - loss: 0.7429 - accuracy: 0.7410 - val_loss: 0.4305 - val_accuracy: 0.8606\n",
            "Epoch 11/30\n",
            "1406/1406 [==============================] - 75s 53ms/step - loss: 0.6982 - accuracy: 0.7572 - val_loss: 0.3743 - val_accuracy: 0.8804\n",
            "Epoch 12/30\n",
            "1406/1406 [==============================] - 75s 53ms/step - loss: 0.6544 - accuracy: 0.7703 - val_loss: 0.3441 - val_accuracy: 0.8938\n",
            "Epoch 13/30\n",
            "1406/1406 [==============================] - 74s 53ms/step - loss: 0.6156 - accuracy: 0.7859 - val_loss: 0.3065 - val_accuracy: 0.9087\n",
            "Epoch 14/30\n",
            "1406/1406 [==============================] - 75s 53ms/step - loss: 0.5705 - accuracy: 0.8014 - val_loss: 0.2862 - val_accuracy: 0.9181\n",
            "Epoch 15/30\n",
            "1406/1406 [==============================] - 75s 53ms/step - loss: 0.5352 - accuracy: 0.8125 - val_loss: 0.2534 - val_accuracy: 0.9291\n",
            "Epoch 16/30\n",
            "1406/1406 [==============================] - 76s 54ms/step - loss: 0.5000 - accuracy: 0.8257 - val_loss: 0.2235 - val_accuracy: 0.9401\n",
            "Epoch 17/30\n",
            "1406/1406 [==============================] - 74s 52ms/step - loss: 0.4701 - accuracy: 0.8345 - val_loss: 0.1955 - val_accuracy: 0.9537\n",
            "Epoch 18/30\n",
            "1406/1406 [==============================] - 75s 53ms/step - loss: 0.4327 - accuracy: 0.8494 - val_loss: 0.1702 - val_accuracy: 0.9581\n",
            "Epoch 19/30\n",
            "1406/1406 [==============================] - 74s 52ms/step - loss: 0.4086 - accuracy: 0.8590 - val_loss: 0.1419 - val_accuracy: 0.9657\n",
            "Epoch 20/30\n",
            "1406/1406 [==============================] - 74s 53ms/step - loss: 0.3838 - accuracy: 0.8659 - val_loss: 0.1240 - val_accuracy: 0.9752\n",
            "Epoch 21/30\n",
            "1406/1406 [==============================] - 75s 53ms/step - loss: 0.3550 - accuracy: 0.8767 - val_loss: 0.1166 - val_accuracy: 0.9754\n",
            "Epoch 22/30\n",
            "1406/1406 [==============================] - 74s 52ms/step - loss: 0.3299 - accuracy: 0.8858 - val_loss: 0.1012 - val_accuracy: 0.9810\n",
            "Epoch 23/30\n",
            "1406/1406 [==============================] - 76s 54ms/step - loss: 0.2979 - accuracy: 0.8958 - val_loss: 0.0970 - val_accuracy: 0.9784\n",
            "Epoch 24/30\n",
            "1406/1406 [==============================] - 74s 53ms/step - loss: 0.2792 - accuracy: 0.9035 - val_loss: 0.0667 - val_accuracy: 0.9900\n",
            "Epoch 25/30\n",
            "1406/1406 [==============================] - 75s 53ms/step - loss: 0.2564 - accuracy: 0.9124 - val_loss: 0.0604 - val_accuracy: 0.9926\n",
            "Epoch 26/30\n",
            "1406/1406 [==============================] - 74s 52ms/step - loss: 0.2328 - accuracy: 0.9213 - val_loss: 0.0540 - val_accuracy: 0.9934\n",
            "Epoch 27/30\n",
            "1406/1406 [==============================] - 74s 52ms/step - loss: 0.2181 - accuracy: 0.9266 - val_loss: 0.0398 - val_accuracy: 0.9974\n",
            "Epoch 28/30\n",
            "1406/1406 [==============================] - 74s 53ms/step - loss: 0.2051 - accuracy: 0.9296 - val_loss: 0.0345 - val_accuracy: 0.9962\n",
            "Epoch 29/30\n",
            "1406/1406 [==============================] - 75s 53ms/step - loss: 0.1844 - accuracy: 0.9394 - val_loss: 0.0324 - val_accuracy: 0.9974\n",
            "Epoch 30/30\n",
            "1406/1406 [==============================] - 76s 54ms/step - loss: 0.1696 - accuracy: 0.9427 - val_loss: 0.0260 - val_accuracy: 0.9980\n"
          ]
        },
        {
          "output_type": "execute_result",
          "data": {
            "text/plain": [
              "<keras.src.callbacks.History at 0x7d6df37dbfd0>"
            ]
          },
          "metadata": {},
          "execution_count": 16
        }
      ]
    },
    {
      "cell_type": "code",
      "metadata": {
        "id": "lAvJljeyMDFn"
      },
      "source": [
        "%load_ext tensorboard"
      ],
      "execution_count": 17,
      "outputs": []
    },
    {
      "cell_type": "code",
      "metadata": {
        "id": "J4ZYupNPRquk"
      },
      "source": [
        "%tensorboard --logdir /content/logs/alexnet"
      ],
      "execution_count": null,
      "outputs": []
    },
    {
      "cell_type": "code",
      "source": [],
      "metadata": {
        "id": "X4njuq9_EEEP"
      },
      "execution_count": null,
      "outputs": []
    }
  ]
}