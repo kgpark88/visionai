{
  "cells": [
    {
      "cell_type": "markdown",
      "id": "672e5675",
      "metadata": {
        "id": "672e5675"
      },
      "source": [
        "# LangChain 으로 자연어 질의 데이터 분석 프로그램 구현\n",
        "### 분석 대상 데이터 : https://www.kaggle.com/datasets/sdolezel/black-friday"
      ]
    },
    {
      "cell_type": "markdown",
      "id": "051a14b5",
      "metadata": {
        "id": "051a14b5"
      },
      "source": [
        "## LangChain과 OpenAI 라이브러리 설치"
      ]
    },
    {
      "cell_type": "code",
      "execution_count": null,
      "id": "1848d747",
      "metadata": {
        "scrolled": true,
        "id": "1848d747"
      },
      "outputs": [],
      "source": [
        "!pip -q install langchain openai"
      ]
    },
    {
      "cell_type": "markdown",
      "id": "bbaa1de1",
      "metadata": {
        "id": "bbaa1de1"
      },
      "source": [
        "# 라이브러리 로드"
      ]
    },
    {
      "cell_type": "code",
      "execution_count": null,
      "id": "9f6480b5",
      "metadata": {
        "id": "9f6480b5"
      },
      "outputs": [],
      "source": [
        "from dotenv import dotenv_values\n",
        "from langchain.llms import OpenAI\n",
        "from langchain.agents import create_csv_agent"
      ]
    },
    {
      "cell_type": "markdown",
      "id": "cae24414",
      "metadata": {
        "id": "cae24414"
      },
      "source": [
        "## OpenAI API키 설정\n",
        "- https://platform.openai.com/account/api-keys 에서 OpenAI API Key 확인"
      ]
    },
    {
      "cell_type": "code",
      "execution_count": null,
      "id": "0f41a63a",
      "metadata": {
        "id": "0f41a63a"
      },
      "outputs": [],
      "source": [
        "# setup the api key\n",
        "openai_api_key = \"sk-F4vrSYMEvrNfT123456789BlbkFJjk5xYxJiKyGpNasUGw6Z\""
      ]
    },
    {
      "cell_type": "markdown",
      "id": "ef3d2c54",
      "metadata": {
        "id": "ef3d2c54"
      },
      "source": [
        "## CSV 에이전트 생성\n",
        "- CSV 에이전트는 내부적으로 Pandas DataFrame 에이전트를 호출   \n",
        "- 이 에이전트는 LLM 생성 Python 코드를 실행하는 Python 에이전트를 호출함"
      ]
    },
    {
      "cell_type": "code",
      "execution_count": null,
      "id": "78311e9e",
      "metadata": {
        "id": "78311e9e"
      },
      "outputs": [],
      "source": [
        "agent = create_csv_agent(\n",
        "    llm=OpenAI(openai_api_key=openai_api_key,temperature=0),\n",
        "    path='train.csv',\n",
        "    verbose=True\n",
        ")"
      ]
    },
    {
      "cell_type": "markdown",
      "id": "e77f888c",
      "metadata": {
        "id": "e77f888c"
      },
      "source": [
        "### 프롬프트 템플릿 확인"
      ]
    },
    {
      "cell_type": "code",
      "execution_count": null,
      "id": "88c6c674",
      "metadata": {
        "scrolled": true,
        "id": "88c6c674",
        "outputId": "6acaaba5-757c-420c-f2a5-6c877c4ebe29"
      },
      "outputs": [
        {
          "name": "stdout",
          "output_type": "stream",
          "text": [
            "\n",
            "You are working with a pandas dataframe in Python. The name of the dataframe is `df`.\n",
            "You should use the tools below to answer the question posed of you:\n",
            "\n",
            "python_repl_ast: A Python shell. Use this to execute python commands. Input should be a valid python command. When using this tool, sometimes output is abbreviated - make sure it does not look abbreviated before using it in your answer.\n",
            "\n",
            "Use the following format:\n",
            "\n",
            "Question: the input question you must answer\n",
            "Thought: you should always think about what to do\n",
            "Action: the action to take, should be one of [python_repl_ast]\n",
            "Action Input: the input to the action\n",
            "Observation: the result of the action\n",
            "... (this Thought/Action/Action Input/Observation can repeat N times)\n",
            "Thought: I now know the final answer\n",
            "Final Answer: the final answer to the original input question\n",
            "\n",
            "\n",
            "This is the result of `print(df.head())`:\n",
            "{df_head}\n",
            "\n",
            "Begin!\n",
            "Question: {input}\n",
            "{agent_scratchpad}\n"
          ]
        }
      ],
      "source": [
        "print(agent.agent.llm_chain.prompt.template)"
      ]
    },
    {
      "cell_type": "markdown",
      "id": "f59c68ab",
      "metadata": {
        "id": "f59c68ab"
      },
      "source": [
        "## Agent 실행\n",
        "- SQL이나 Python이 아닌 자연어(프롬프트)로 데이터 세트를 쿼리할 수 있습니다.   \n",
        "- Agent가 파이썬 코드를 작성하고 실행합니다."
      ]
    },
    {
      "cell_type": "code",
      "execution_count": null,
      "id": "8a9fe245",
      "metadata": {
        "id": "8a9fe245",
        "outputId": "d090d957-daa8-4051-8e29-e9fe72118c11"
      },
      "outputs": [
        {
          "name": "stdout",
          "output_type": "stream",
          "text": [
            "\n",
            "\n",
            "\u001b[1m> Entering new AgentExecutor chain...\u001b[0m\n",
            "\u001b[32;1m\u001b[1;3mThought: 데이터 프레임의 크기를 확인해야합니다.\n",
            "Action: python_repl_ast\n",
            "Action Input: df.shape\u001b[0m\n",
            "Observation: \u001b[36;1m\u001b[1;3m(550068, 12)\u001b[0m\n",
            "Thought:\u001b[32;1m\u001b[1;3m 행의 수는 첫 번째 숫자입니다.\n",
            "Final Answer: 550068\u001b[0m\n",
            "\n",
            "\u001b[1m> Finished chain.\u001b[0m\n"
          ]
        },
        {
          "data": {
            "text/plain": [
              "'550068'"
            ]
          },
          "execution_count": 6,
          "metadata": {},
          "output_type": "execute_result"
        }
      ],
      "source": [
        "agent.run(\"데이터 행이 몇 개지?\")"
      ]
    },
    {
      "cell_type": "markdown",
      "id": "989f6771",
      "metadata": {
        "id": "989f6771"
      },
      "source": [
        "## Agent로 EDA(Exploratory Data Analysis, 탐색적 데이터 분석)실행"
      ]
    },
    {
      "cell_type": "code",
      "execution_count": null,
      "id": "f8e620a3",
      "metadata": {
        "id": "f8e620a3",
        "outputId": "2430e5de-2698-4bab-e304-f7306c5b21db"
      },
      "outputs": [
        {
          "name": "stdout",
          "output_type": "stream",
          "text": [
            "\n",
            "\n",
            "\u001b[1m> Entering new AgentExecutor chain...\u001b[0m\n",
            "\u001b[32;1m\u001b[1;3mThought: 남자는 Gender 열에서 M으로 표시되어 있으므로 값을 세어보자.\n",
            "Action: python_repl_ast\n",
            "Action Input: df[df['Gender'] == 'M'].shape[0]\u001b[0m\n",
            "Observation: \u001b[36;1m\u001b[1;3m414259\u001b[0m\n",
            "Thought:"
          ]
        },
        {
          "name": "stderr",
          "output_type": "stream",
          "text": [
            "Retrying langchain.llms.openai.completion_with_retry.<locals>._completion_with_retry in 4.0 seconds as it raised RateLimitError: Rate limit reached for default-text-davinci-003 in organization org-88vQ4Ihs2MyMLYzg0wpVnwH2 on requests per min. Limit: 3 / min. Please try again in 20s. Contact us through our help center at help.openai.com if you continue to have issues. Please add a payment method to your account to increase your rate limit. Visit https://platform.openai.com/account/billing to add a payment method..\n",
            "Retrying langchain.llms.openai.completion_with_retry.<locals>._completion_with_retry in 4.0 seconds as it raised RateLimitError: Rate limit reached for default-text-davinci-003 in organization org-88vQ4Ihs2MyMLYzg0wpVnwH2 on requests per min. Limit: 3 / min. Please try again in 20s. Contact us through our help center at help.openai.com if you continue to have issues. Please add a payment method to your account to increase your rate limit. Visit https://platform.openai.com/account/billing to add a payment method..\n",
            "Retrying langchain.llms.openai.completion_with_retry.<locals>._completion_with_retry in 4.0 seconds as it raised RateLimitError: Rate limit reached for default-text-davinci-003 in organization org-88vQ4Ihs2MyMLYzg0wpVnwH2 on requests per min. Limit: 3 / min. Please try again in 20s. Contact us through our help center at help.openai.com if you continue to have issues. Please add a payment method to your account to increase your rate limit. Visit https://platform.openai.com/account/billing to add a payment method..\n",
            "Retrying langchain.llms.openai.completion_with_retry.<locals>._completion_with_retry in 8.0 seconds as it raised RateLimitError: Rate limit reached for default-text-davinci-003 in organization org-88vQ4Ihs2MyMLYzg0wpVnwH2 on requests per min. Limit: 3 / min. Please try again in 20s. Contact us through our help center at help.openai.com if you continue to have issues. Please add a payment method to your account to increase your rate limit. Visit https://platform.openai.com/account/billing to add a payment method..\n"
          ]
        },
        {
          "name": "stdout",
          "output_type": "stream",
          "text": [
            "\u001b[32;1m\u001b[1;3m 이것이 남자의 수임을 알 수 있다.\n",
            "Final Answer: 남자는 414259명입니다.\u001b[0m\n",
            "\n",
            "\u001b[1m> Finished chain.\u001b[0m\n"
          ]
        },
        {
          "data": {
            "text/plain": [
              "'남자는 414259명입니다.'"
            ]
          },
          "execution_count": 7,
          "metadata": {},
          "output_type": "execute_result"
        }
      ],
      "source": [
        "agent.run(\"남자는 몇명이지?\")"
      ]
    },
    {
      "cell_type": "code",
      "execution_count": null,
      "id": "2a8b190f",
      "metadata": {
        "id": "2a8b190f",
        "outputId": "7bb126ba-d096-4f7e-9fec-4ad991bfdd2a"
      },
      "outputs": [
        {
          "name": "stdout",
          "output_type": "stream",
          "text": [
            "\n",
            "\n",
            "\u001b[1m> Entering new AgentExecutor chain...\u001b[0m\n"
          ]
        },
        {
          "name": "stderr",
          "output_type": "stream",
          "text": [
            "Retrying langchain.llms.openai.completion_with_retry.<locals>._completion_with_retry in 4.0 seconds as it raised RateLimitError: Rate limit reached for default-text-davinci-003 in organization org-88vQ4Ihs2MyMLYzg0wpVnwH2 on requests per min. Limit: 3 / min. Please try again in 20s. Contact us through our help center at help.openai.com if you continue to have issues. Please add a payment method to your account to increase your rate limit. Visit https://platform.openai.com/account/billing to add a payment method..\n",
            "Retrying langchain.llms.openai.completion_with_retry.<locals>._completion_with_retry in 4.0 seconds as it raised RateLimitError: Rate limit reached for default-text-davinci-003 in organization org-88vQ4Ihs2MyMLYzg0wpVnwH2 on requests per min. Limit: 3 / min. Please try again in 20s. Contact us through our help center at help.openai.com if you continue to have issues. Please add a payment method to your account to increase your rate limit. Visit https://platform.openai.com/account/billing to add a payment method..\n",
            "Retrying langchain.llms.openai.completion_with_retry.<locals>._completion_with_retry in 4.0 seconds as it raised RateLimitError: Rate limit reached for default-text-davinci-003 in organization org-88vQ4Ihs2MyMLYzg0wpVnwH2 on requests per min. Limit: 3 / min. Please try again in 20s. Contact us through our help center at help.openai.com if you continue to have issues. Please add a payment method to your account to increase your rate limit. Visit https://platform.openai.com/account/billing to add a payment method..\n"
          ]
        },
        {
          "name": "stdout",
          "output_type": "stream",
          "text": [
            "\u001b[32;1m\u001b[1;3mThought: Stay_In_Current_City_Years 열을 사용해야 한다.\n",
            "Action: python_repl_ast\n",
            "Action Input: df[df['Stay_In_Current_City_Years'] == '4+'].shape[0]\u001b[0m\n",
            "Observation: \u001b[36;1m\u001b[1;3m84726\u001b[0m\n",
            "Thought:"
          ]
        },
        {
          "name": "stderr",
          "output_type": "stream",
          "text": [
            "Retrying langchain.llms.openai.completion_with_retry.<locals>._completion_with_retry in 4.0 seconds as it raised RateLimitError: Rate limit reached for default-text-davinci-003 in organization org-88vQ4Ihs2MyMLYzg0wpVnwH2 on requests per min. Limit: 3 / min. Please try again in 20s. Contact us through our help center at help.openai.com if you continue to have issues. Please add a payment method to your account to increase your rate limit. Visit https://platform.openai.com/account/billing to add a payment method..\n",
            "Retrying langchain.llms.openai.completion_with_retry.<locals>._completion_with_retry in 4.0 seconds as it raised RateLimitError: Rate limit reached for default-text-davinci-003 in organization org-88vQ4Ihs2MyMLYzg0wpVnwH2 on requests per min. Limit: 3 / min. Please try again in 20s. Contact us through our help center at help.openai.com if you continue to have issues. Please add a payment method to your account to increase your rate limit. Visit https://platform.openai.com/account/billing to add a payment method..\n",
            "Retrying langchain.llms.openai.completion_with_retry.<locals>._completion_with_retry in 4.0 seconds as it raised RateLimitError: Rate limit reached for default-text-davinci-003 in organization org-88vQ4Ihs2MyMLYzg0wpVnwH2 on requests per min. Limit: 3 / min. Please try again in 20s. Contact us through our help center at help.openai.com if you continue to have issues. Please add a payment method to your account to increase your rate limit. Visit https://platform.openai.com/account/billing to add a payment method..\n",
            "Retrying langchain.llms.openai.completion_with_retry.<locals>._completion_with_retry in 8.0 seconds as it raised RateLimitError: Rate limit reached for default-text-davinci-003 in organization org-88vQ4Ihs2MyMLYzg0wpVnwH2 on requests per min. Limit: 3 / min. Please try again in 20s. Contact us through our help center at help.openai.com if you continue to have issues. Please add a payment method to your account to increase your rate limit. Visit https://platform.openai.com/account/billing to add a payment method..\n"
          ]
        },
        {
          "name": "stdout",
          "output_type": "stream",
          "text": [
            "\u001b[32;1m\u001b[1;3m 이것이 우리가 찾는 답이다.\n",
            "Final Answer: 현재 지역에 3년 이상 거주한 사람의 수는 84726명입니다.\u001b[0m\n",
            "\n",
            "\u001b[1m> Finished chain.\u001b[0m\n"
          ]
        },
        {
          "data": {
            "text/plain": [
              "'현재 지역에 3년 이상 거주한 사람의 수는 84726명입니다.'"
            ]
          },
          "execution_count": 8,
          "metadata": {},
          "output_type": "execute_result"
        }
      ],
      "source": [
        "agent.run(\"현재 지역에 3년 이상 거주한 사람의 수는?\")"
      ]
    },
    {
      "cell_type": "code",
      "execution_count": null,
      "id": "20c09306",
      "metadata": {
        "id": "20c09306",
        "outputId": "695986d4-25fa-4596-c3eb-e8c490cec158"
      },
      "outputs": [
        {
          "name": "stdout",
          "output_type": "stream",
          "text": [
            "\n",
            "\n",
            "\u001b[1m> Entering new AgentExecutor chain...\u001b[0m\n"
          ]
        },
        {
          "name": "stderr",
          "output_type": "stream",
          "text": [
            "Retrying langchain.llms.openai.completion_with_retry.<locals>._completion_with_retry in 4.0 seconds as it raised RateLimitError: Rate limit reached for default-text-davinci-003 in organization org-88vQ4Ihs2MyMLYzg0wpVnwH2 on requests per min. Limit: 3 / min. Please try again in 20s. Contact us through our help center at help.openai.com if you continue to have issues. Please add a payment method to your account to increase your rate limit. Visit https://platform.openai.com/account/billing to add a payment method..\n",
            "Retrying langchain.llms.openai.completion_with_retry.<locals>._completion_with_retry in 4.0 seconds as it raised RateLimitError: Rate limit reached for default-text-davinci-003 in organization org-88vQ4Ihs2MyMLYzg0wpVnwH2 on requests per min. Limit: 3 / min. Please try again in 20s. Contact us through our help center at help.openai.com if you continue to have issues. Please add a payment method to your account to increase your rate limit. Visit https://platform.openai.com/account/billing to add a payment method..\n",
            "Retrying langchain.llms.openai.completion_with_retry.<locals>._completion_with_retry in 4.0 seconds as it raised RateLimitError: Rate limit reached for default-text-davinci-003 in organization org-88vQ4Ihs2MyMLYzg0wpVnwH2 on requests per min. Limit: 3 / min. Please try again in 20s. Contact us through our help center at help.openai.com if you continue to have issues. Please add a payment method to your account to increase your rate limit. Visit https://platform.openai.com/account/billing to add a payment method..\n"
          ]
        },
        {
          "name": "stdout",
          "output_type": "stream",
          "text": [
            "\u001b[32;1m\u001b[1;3mThought: Stay_In_Current_City_Years 열을 확인해야 함\n",
            "Action: python_repl_ast\n",
            "Action Input: df[(df['Gender'] == 'F') & (df['Stay_In_Current_City_Years'] == '4+')].shape[0]\u001b[0m\n",
            "Observation: \u001b[36;1m\u001b[1;3m18596\u001b[0m\n",
            "Thought:"
          ]
        },
        {
          "name": "stderr",
          "output_type": "stream",
          "text": [
            "Retrying langchain.llms.openai.completion_with_retry.<locals>._completion_with_retry in 4.0 seconds as it raised RateLimitError: Rate limit reached for default-text-davinci-003 in organization org-88vQ4Ihs2MyMLYzg0wpVnwH2 on requests per min. Limit: 3 / min. Please try again in 20s. Contact us through our help center at help.openai.com if you continue to have issues. Please add a payment method to your account to increase your rate limit. Visit https://platform.openai.com/account/billing to add a payment method..\n",
            "Retrying langchain.llms.openai.completion_with_retry.<locals>._completion_with_retry in 4.0 seconds as it raised RateLimitError: Rate limit reached for default-text-davinci-003 in organization org-88vQ4Ihs2MyMLYzg0wpVnwH2 on requests per min. Limit: 3 / min. Please try again in 20s. Contact us through our help center at help.openai.com if you continue to have issues. Please add a payment method to your account to increase your rate limit. Visit https://platform.openai.com/account/billing to add a payment method..\n",
            "Retrying langchain.llms.openai.completion_with_retry.<locals>._completion_with_retry in 4.0 seconds as it raised RateLimitError: Rate limit reached for default-text-davinci-003 in organization org-88vQ4Ihs2MyMLYzg0wpVnwH2 on requests per min. Limit: 3 / min. Please try again in 20s. Contact us through our help center at help.openai.com if you continue to have issues. Please add a payment method to your account to increase your rate limit. Visit https://platform.openai.com/account/billing to add a payment method..\n",
            "Retrying langchain.llms.openai.completion_with_retry.<locals>._completion_with_retry in 8.0 seconds as it raised RateLimitError: Rate limit reached for default-text-davinci-003 in organization org-88vQ4Ihs2MyMLYzg0wpVnwH2 on requests per min. Limit: 3 / min. Please try again in 20s. Contact us through our help center at help.openai.com if you continue to have issues. Please add a payment method to your account to increase your rate limit. Visit https://platform.openai.com/account/billing to add a payment method..\n"
          ]
        },
        {
          "name": "stdout",
          "output_type": "stream",
          "text": [
            "\u001b[32;1m\u001b[1;3m 이 수가 여성의 수를 나타냄\n",
            "Final Answer: 18596\u001b[0m\n",
            "\n",
            "\u001b[1m> Finished chain.\u001b[0m\n"
          ]
        },
        {
          "data": {
            "text/plain": [
              "'18596'"
            ]
          },
          "execution_count": 9,
          "metadata": {},
          "output_type": "execute_result"
        }
      ],
      "source": [
        "agent.run(\"3년 이상 거주한 여성의 수는?\")"
      ]
    },
    {
      "cell_type": "code",
      "execution_count": null,
      "id": "1ae6fa4f",
      "metadata": {
        "id": "1ae6fa4f",
        "outputId": "5600d163-7789-4bfe-ea47-ce31a63150fa"
      },
      "outputs": [
        {
          "name": "stdout",
          "output_type": "stream",
          "text": [
            "\n",
            "\n",
            "\u001b[1m> Entering new AgentExecutor chain...\u001b[0m\n"
          ]
        },
        {
          "name": "stderr",
          "output_type": "stream",
          "text": [
            "Retrying langchain.llms.openai.completion_with_retry.<locals>._completion_with_retry in 4.0 seconds as it raised RateLimitError: Rate limit reached for default-text-davinci-003 in organization org-88vQ4Ihs2MyMLYzg0wpVnwH2 on requests per min. Limit: 3 / min. Please try again in 20s. Contact us through our help center at help.openai.com if you continue to have issues. Please add a payment method to your account to increase your rate limit. Visit https://platform.openai.com/account/billing to add a payment method..\n",
            "Retrying langchain.llms.openai.completion_with_retry.<locals>._completion_with_retry in 4.0 seconds as it raised RateLimitError: Rate limit reached for default-text-davinci-003 in organization org-88vQ4Ihs2MyMLYzg0wpVnwH2 on requests per min. Limit: 3 / min. Please try again in 20s. Contact us through our help center at help.openai.com if you continue to have issues. Please add a payment method to your account to increase your rate limit. Visit https://platform.openai.com/account/billing to add a payment method..\n",
            "Retrying langchain.llms.openai.completion_with_retry.<locals>._completion_with_retry in 4.0 seconds as it raised RateLimitError: Rate limit reached for default-text-davinci-003 in organization org-88vQ4Ihs2MyMLYzg0wpVnwH2 on requests per min. Limit: 3 / min. Please try again in 20s. Contact us through our help center at help.openai.com if you continue to have issues. Please add a payment method to your account to increase your rate limit. Visit https://platform.openai.com/account/billing to add a payment method..\n",
            "Retrying langchain.llms.openai.completion_with_retry.<locals>._completion_with_retry in 8.0 seconds as it raised RateLimitError: Rate limit reached for default-text-davinci-003 in organization org-88vQ4Ihs2MyMLYzg0wpVnwH2 on requests per min. Limit: 3 / min. Please try again in 20s. Contact us through our help center at help.openai.com if you continue to have issues. Please add a payment method to your account to increase your rate limit. Visit https://platform.openai.com/account/billing to add a payment method..\n"
          ]
        },
        {
          "name": "stdout",
          "output_type": "stream",
          "text": [
            "\u001b[32;1m\u001b[1;3mThought: 먼저 여성이면서 A 지역에서 Product_Category_1을 구매한 데이터만 추출해야 한다.\n",
            "Action: python_repl_ast\n",
            "Action Input: df[(df['Gender'] == 'F') & (df['City_Category'] == 'A') & (df['Product_Category_1'] != 'nan')]\u001b[0m\n",
            "Observation: \u001b[36;1m\u001b[1;3m        User_ID Product_ID Gender    Age  Occupation City_Category  \\\n",
            "0       1000001  P00069042      F   0-17          10             A   \n",
            "1       1000001  P00248942      F   0-17          10             A   \n",
            "2       1000001  P00087842      F   0-17          10             A   \n",
            "3       1000001  P00085442      F   0-17          10             A   \n",
            "14      1000006  P00231342      F  51-55           9             A   \n",
            "...         ...        ...    ...    ...         ...           ...   \n",
            "550005  1005941  P00370293      F  26-35           0             A   \n",
            "550008  1005946  P00370853      F    55+           1             A   \n",
            "550014  1005955  P00372445      F  26-35           7             A   \n",
            "550018  1005961  P00372445      F  46-50           0             A   \n",
            "550040  1005997  P00370853      F  26-35           7             A   \n",
            "\n",
            "       Stay_In_Current_City_Years  Marital_Status  Product_Category_1  \\\n",
            "0                               2               0                   3   \n",
            "1                               2               0                   1   \n",
            "2                               2               0                  12   \n",
            "3                               2               0                  12   \n",
            "14                              1               0                   5   \n",
            "...                           ...             ...                 ...   \n",
            "550005                          3               0                  19   \n",
            "550008                          0               0                  19   \n",
            "550014                          1               0                  20   \n",
            "550018                          3               0                  20   \n",
            "550040                          3               0                  19   \n",
            "\n",
            "        Product_Category_2  Product_Category_3  Purchase  \n",
            "0                      NaN                 NaN      8370  \n",
            "1                      6.0                14.0     15200  \n",
            "2                      NaN                 NaN      1422  \n",
            "3                     14.0                 NaN      1057  \n",
            "14                     8.0                14.0      5378  \n",
            "...                    ...                 ...       ...  \n",
            "550005                 NaN                 NaN        48  \n",
            "550008                 NaN                 NaN        50  \n",
            "550014                 NaN                 NaN       596  \n",
            "550018                 NaN                 NaN       256  \n",
            "550040                 NaN                 NaN        26  \n",
            "\n",
            "[35704 rows x 12 columns]\u001b[0m\n",
            "Thought:"
          ]
        },
        {
          "name": "stderr",
          "output_type": "stream",
          "text": [
            "Retrying langchain.llms.openai.completion_with_retry.<locals>._completion_with_retry in 4.0 seconds as it raised RateLimitError: Rate limit reached for default-text-davinci-003 in organization org-88vQ4Ihs2MyMLYzg0wpVnwH2 on requests per min. Limit: 3 / min. Please try again in 20s. Contact us through our help center at help.openai.com if you continue to have issues. Please add a payment method to your account to increase your rate limit. Visit https://platform.openai.com/account/billing to add a payment method..\n",
            "Retrying langchain.llms.openai.completion_with_retry.<locals>._completion_with_retry in 4.0 seconds as it raised RateLimitError: Rate limit reached for default-text-davinci-003 in organization org-88vQ4Ihs2MyMLYzg0wpVnwH2 on requests per min. Limit: 3 / min. Please try again in 20s. Contact us through our help center at help.openai.com if you continue to have issues. Please add a payment method to your account to increase your rate limit. Visit https://platform.openai.com/account/billing to add a payment method..\n",
            "Retrying langchain.llms.openai.completion_with_retry.<locals>._completion_with_retry in 4.0 seconds as it raised RateLimitError: Rate limit reached for default-text-davinci-003 in organization org-88vQ4Ihs2MyMLYzg0wpVnwH2 on requests per min. Limit: 3 / min. Please try again in 20s. Contact us through our help center at help.openai.com if you continue to have issues. Please add a payment method to your account to increase your rate limit. Visit https://platform.openai.com/account/billing to add a payment method..\n"
          ]
        },
        {
          "name": "stdout",
          "output_type": "stream",
          "text": [
            "\u001b[32;1m\u001b[1;3m 이제 데이터를 개수를 세어 답을 찾아보자.\n",
            "Action: python_repl_ast\n",
            "Action Input: len(df[(df['Gender'] == 'F') & (df['City_Category'] == 'A') & (df['Product_Category_1'] != 'nan')])\u001b[0m\n",
            "Observation: \u001b[36;1m\u001b[1;3m35704\u001b[0m\n",
            "Thought:"
          ]
        },
        {
          "name": "stderr",
          "output_type": "stream",
          "text": [
            "Retrying langchain.llms.openai.completion_with_retry.<locals>._completion_with_retry in 4.0 seconds as it raised RateLimitError: Rate limit reached for default-text-davinci-003 in organization org-88vQ4Ihs2MyMLYzg0wpVnwH2 on requests per min. Limit: 3 / min. Please try again in 20s. Contact us through our help center at help.openai.com if you continue to have issues. Please add a payment method to your account to increase your rate limit. Visit https://platform.openai.com/account/billing to add a payment method..\n",
            "Retrying langchain.llms.openai.completion_with_retry.<locals>._completion_with_retry in 4.0 seconds as it raised RateLimitError: Rate limit reached for default-text-davinci-003 in organization org-88vQ4Ihs2MyMLYzg0wpVnwH2 on requests per min. Limit: 3 / min. Please try again in 20s. Contact us through our help center at help.openai.com if you continue to have issues. Please add a payment method to your account to increase your rate limit. Visit https://platform.openai.com/account/billing to add a payment method..\n",
            "Retrying langchain.llms.openai.completion_with_retry.<locals>._completion_with_retry in 4.0 seconds as it raised RateLimitError: Rate limit reached for default-text-davinci-003 in organization org-88vQ4Ihs2MyMLYzg0wpVnwH2 on requests per min. Limit: 3 / min. Please try again in 20s. Contact us through our help center at help.openai.com if you continue to have issues. Please add a payment method to your account to increase your rate limit. Visit https://platform.openai.com/account/billing to add a payment method..\n",
            "Retrying langchain.llms.openai.completion_with_retry.<locals>._completion_with_retry in 8.0 seconds as it raised RateLimitError: Rate limit reached for default-text-davinci-003 in organization org-88vQ4Ihs2MyMLYzg0wpVnwH2 on requests per min. Limit: 3 / min. Please try again in 20s. Contact us through our help center at help.openai.com if you continue to have issues. Please add a payment method to your account to increase your rate limit. Visit https://platform.openai.com/account/billing to add a payment method..\n"
          ]
        },
        {
          "name": "stdout",
          "output_type": "stream",
          "text": [
            "\u001b[32;1m\u001b[1;3m 이제 답을 찾았다.\n",
            "Final Answer: A 지역에서 Product_Category_1을 구매한 여성은 35704명 입니다.\u001b[0m\n",
            "\n",
            "\u001b[1m> Finished chain.\u001b[0m\n"
          ]
        },
        {
          "data": {
            "text/plain": [
              "'A 지역에서 Product_Category_1을 구매한 여성은 35704명 입니다.'"
            ]
          },
          "execution_count": 10,
          "metadata": {},
          "output_type": "execute_result"
        }
      ],
      "source": [
        "agent.run(\"A 지역에서 Product_Category_1을 구매한 여성은 몇 명?\")"
      ]
    },
    {
      "cell_type": "code",
      "execution_count": null,
      "id": "22c31050",
      "metadata": {
        "id": "22c31050",
        "outputId": "e2319dc1-0079-4aa7-c27a-49ed4eb3a604"
      },
      "outputs": [
        {
          "name": "stdout",
          "output_type": "stream",
          "text": [
            "\n",
            "\n",
            "\u001b[1m> Entering new AgentExecutor chain...\u001b[0m\n",
            "\u001b[32;1m\u001b[1;3mThought: 먼저 데이터프레임에서 우리가 찾고자 하는 조건을 만족하는 데이터를 찾아야 합니다.\n",
            "Action: python_repl_ast\n",
            "Action Input: df[(df['City_Category'] == 'B') & (df['Age'] == '0-17') & (df['Gender'] == 'F')]['Product_Category_1'].sum()\u001b[0m\n",
            "Observation: \u001b[36;1m\u001b[1;3m8240\u001b[0m\n",
            "Thought:"
          ]
        },
        {
          "name": "stderr",
          "output_type": "stream",
          "text": [
            "Retrying langchain.llms.openai.completion_with_retry.<locals>._completion_with_retry in 4.0 seconds as it raised RateLimitError: Rate limit reached for default-text-davinci-003 in organization org-88vQ4Ihs2MyMLYzg0wpVnwH2 on requests per min. Limit: 3 / min. Please try again in 20s. Contact us through our help center at help.openai.com if you continue to have issues. Please add a payment method to your account to increase your rate limit. Visit https://platform.openai.com/account/billing to add a payment method..\n",
            "Retrying langchain.llms.openai.completion_with_retry.<locals>._completion_with_retry in 4.0 seconds as it raised RateLimitError: Rate limit reached for default-text-davinci-003 in organization org-88vQ4Ihs2MyMLYzg0wpVnwH2 on requests per min. Limit: 3 / min. Please try again in 20s. Contact us through our help center at help.openai.com if you continue to have issues. Please add a payment method to your account to increase your rate limit. Visit https://platform.openai.com/account/billing to add a payment method..\n"
          ]
        },
        {
          "name": "stdout",
          "output_type": "stream",
          "text": [
            "\u001b[32;1m\u001b[1;3m 이제 총합을 구할 수 있습니다.\n",
            "Final Answer: B 도시의 0-17세 사이의 여성이 구매한 Product_Category_1 수량의 총합은 8240개입니다.\u001b[0m\n",
            "\n",
            "\u001b[1m> Finished chain.\u001b[0m\n"
          ]
        },
        {
          "data": {
            "text/plain": [
              "'B 도시의 0-17세 사이의 여성이 구매한 Product_Category_1 수량의 총합은 8240개입니다.'"
            ]
          },
          "execution_count": 11,
          "metadata": {},
          "output_type": "execute_result"
        }
      ],
      "source": [
        "agent.run(\"B 도시의 0-17세 사이의 여성이 구매한 Product_Category_1 수량의 총합은 몇 개이니?\")"
      ]
    },
    {
      "cell_type": "markdown",
      "id": "062d1d5b",
      "metadata": {
        "id": "062d1d5b"
      },
      "source": [
        "## RFM 분석 : Recency(최근성), Frequency(빈도), Monetary(구매금액)로 고객 가치 분석"
      ]
    },
    {
      "cell_type": "code",
      "execution_count": null,
      "id": "513ff480",
      "metadata": {
        "id": "513ff480",
        "outputId": "4a33bec0-a148-47f7-e257-aded411275c8"
      },
      "outputs": [
        {
          "name": "stdout",
          "output_type": "stream",
          "text": [
            "\n",
            "\n",
            "\u001b[1m> Entering new AgentExecutor chain...\u001b[0m\n"
          ]
        },
        {
          "name": "stderr",
          "output_type": "stream",
          "text": [
            "Retrying langchain.llms.openai.completion_with_retry.<locals>._completion_with_retry in 4.0 seconds as it raised RateLimitError: Rate limit reached for default-text-davinci-003 in organization org-88vQ4Ihs2MyMLYzg0wpVnwH2 on requests per min. Limit: 3 / min. Please try again in 20s. Contact us through our help center at help.openai.com if you continue to have issues. Please add a payment method to your account to increase your rate limit. Visit https://platform.openai.com/account/billing to add a payment method..\n",
            "Retrying langchain.llms.openai.completion_with_retry.<locals>._completion_with_retry in 4.0 seconds as it raised RateLimitError: Rate limit reached for default-text-davinci-003 in organization org-88vQ4Ihs2MyMLYzg0wpVnwH2 on requests per min. Limit: 3 / min. Please try again in 20s. Contact us through our help center at help.openai.com if you continue to have issues. Please add a payment method to your account to increase your rate limit. Visit https://platform.openai.com/account/billing to add a payment method..\n",
            "Retrying langchain.llms.openai.completion_with_retry.<locals>._completion_with_retry in 4.0 seconds as it raised RateLimitError: Rate limit reached for default-text-davinci-003 in organization org-88vQ4Ihs2MyMLYzg0wpVnwH2 on requests per min. Limit: 3 / min. Please try again in 20s. Contact us through our help center at help.openai.com if you continue to have issues. Please add a payment method to your account to increase your rate limit. Visit https://platform.openai.com/account/billing to add a payment method..\n"
          ]
        },
        {
          "name": "stdout",
          "output_type": "stream",
          "text": [
            "\u001b[32;1m\u001b[1;3mThought: I need to calculate the recency, frequency and monetaty value for each customer.\n",
            "Action: python_repl_ast\n",
            "Action Input: df.groupby('User_ID').agg({'Purchase': ['mean', 'count', 'max']})\u001b[0m\n",
            "Observation: \u001b[36;1m\u001b[1;3m             Purchase             \n",
            "                 mean count    max\n",
            "User_ID                           \n",
            "1000001   9545.514286    35  19219\n",
            "1000002  10525.610390    77  20657\n",
            "1000003  11780.517241    29  19631\n",
            "1000004  14747.714286    14  19693\n",
            "1000005   7745.292453   106  21021\n",
            "...               ...   ...    ...\n",
            "1006036   8007.894942   514  23525\n",
            "1006037   9176.540984   122  23714\n",
            "1006038   7502.833333    12  13565\n",
            "1006039   7977.283784    74  23920\n",
            "1006040   9184.994444   180  23251\n",
            "\n",
            "[5891 rows x 3 columns]\u001b[0m\n",
            "Thought:"
          ]
        },
        {
          "name": "stderr",
          "output_type": "stream",
          "text": [
            "Retrying langchain.llms.openai.completion_with_retry.<locals>._completion_with_retry in 4.0 seconds as it raised RateLimitError: Rate limit reached for default-text-davinci-003 in organization org-88vQ4Ihs2MyMLYzg0wpVnwH2 on requests per min. Limit: 3 / min. Please try again in 20s. Contact us through our help center at help.openai.com if you continue to have issues. Please add a payment method to your account to increase your rate limit. Visit https://platform.openai.com/account/billing to add a payment method..\n",
            "Retrying langchain.llms.openai.completion_with_retry.<locals>._completion_with_retry in 4.0 seconds as it raised RateLimitError: Rate limit reached for default-text-davinci-003 in organization org-88vQ4Ihs2MyMLYzg0wpVnwH2 on requests per min. Limit: 3 / min. Please try again in 20s. Contact us through our help center at help.openai.com if you continue to have issues. Please add a payment method to your account to increase your rate limit. Visit https://platform.openai.com/account/billing to add a payment method..\n",
            "Retrying langchain.llms.openai.completion_with_retry.<locals>._completion_with_retry in 4.0 seconds as it raised RateLimitError: Rate limit reached for default-text-davinci-003 in organization org-88vQ4Ihs2MyMLYzg0wpVnwH2 on requests per min. Limit: 3 / min. Please try again in 20s. Contact us through our help center at help.openai.com if you continue to have issues. Please add a payment method to your account to increase your rate limit. Visit https://platform.openai.com/account/billing to add a payment method..\n",
            "Retrying langchain.llms.openai.completion_with_retry.<locals>._completion_with_retry in 8.0 seconds as it raised RateLimitError: Rate limit reached for default-text-davinci-003 in organization org-88vQ4Ihs2MyMLYzg0wpVnwH2 on requests per min. Limit: 3 / min. Please try again in 20s. Contact us through our help center at help.openai.com if you continue to have issues. Please add a payment method to your account to increase your rate limit. Visit https://platform.openai.com/account/billing to add a payment method..\n"
          ]
        },
        {
          "name": "stdout",
          "output_type": "stream",
          "text": [
            "\u001b[32;1m\u001b[1;3m I now know the final answer\n",
            "Final Answer: The recency, frequency and monetaty value for each customer can be calculated by using the groupby and agg functions on the dataframe.\u001b[0m\n",
            "\n",
            "\u001b[1m> Finished chain.\u001b[0m\n"
          ]
        },
        {
          "data": {
            "text/plain": [
              "'The recency, frequency and monetaty value for each customer can be calculated by using the groupby and agg functions on the dataframe.'"
            ]
          },
          "execution_count": 12,
          "metadata": {},
          "output_type": "execute_result"
        }
      ],
      "source": [
        "agent.run(\"Calculate recency, frequency and monetaty value for each customer?\")"
      ]
    },
    {
      "cell_type": "code",
      "execution_count": null,
      "id": "4c416d09",
      "metadata": {
        "id": "4c416d09"
      },
      "outputs": [],
      "source": []
    }
  ],
  "metadata": {
    "kernelspec": {
      "display_name": "Python 3 (ipykernel)",
      "language": "python",
      "name": "python3"
    },
    "language_info": {
      "codemirror_mode": {
        "name": "ipython",
        "version": 3
      },
      "file_extension": ".py",
      "mimetype": "text/x-python",
      "name": "python",
      "nbconvert_exporter": "python",
      "pygments_lexer": "ipython3",
      "version": "3.11.4"
    },
    "colab": {
      "provenance": []
    }
  },
  "nbformat": 4,
  "nbformat_minor": 5
}