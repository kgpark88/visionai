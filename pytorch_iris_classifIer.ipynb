{
  "nbformat": 4,
  "nbformat_minor": 0,
  "metadata": {
    "colab": {
      "provenance": [],
      "include_colab_link": true
    },
    "kernelspec": {
      "name": "python3",
      "display_name": "Python 3"
    },
    "language_info": {
      "name": "python"
    }
  },
  "cells": [
    {
      "cell_type": "markdown",
      "metadata": {
        "id": "view-in-github",
        "colab_type": "text"
      },
      "source": [
        "<a href=\"https://colab.research.google.com/github/kgpark88/visionai/blob/main/pytorch_iris_classifIer.ipynb\" target=\"_parent\"><img src=\"https://colab.research.google.com/assets/colab-badge.svg\" alt=\"Open In Colab\"/></a>"
      ]
    },
    {
      "cell_type": "markdown",
      "metadata": {
        "id": "dW4YPLSfaEy5"
      },
      "source": [
        "# 붓꽃(Iris) 품종 분류 모델"
      ]
    },
    {
      "cell_type": "markdown",
      "metadata": {
        "id": "8JLhjUi-alBy"
      },
      "source": [
        "## 데이터 로드"
      ]
    },
    {
      "cell_type": "code",
      "metadata": {
        "id": "0AqOP3aPVP31"
      },
      "source": [
        "import pandas as pd\n",
        "from sklearn.datasets import load_iris\n",
        "\n",
        "iris = load_iris()\n",
        "X = iris['data']\n",
        "y = iris['target']\n",
        "names = iris['target_names']\n",
        "feature_names = iris['feature_names']"
      ],
      "execution_count": 1,
      "outputs": []
    },
    {
      "cell_type": "code",
      "metadata": {
        "id": "Y6WMiReAXQXH"
      },
      "source": [
        "df = pd.DataFrame(iris.data)\n",
        "df.columns = iris.feature_names\n",
        "df['label'] = iris.target"
      ],
      "execution_count": 2,
      "outputs": []
    },
    {
      "cell_type": "code",
      "metadata": {
        "colab": {
          "base_uri": "https://localhost:8080/",
          "height": 206
        },
        "id": "Cx4ggwXyZYzD",
        "outputId": "9608922c-7a7f-410d-ba61-545acbf10ddf"
      },
      "source": [
        "df.head()"
      ],
      "execution_count": 3,
      "outputs": [
        {
          "output_type": "execute_result",
          "data": {
            "text/plain": [
              "   sepal length (cm)  sepal width (cm)  petal length (cm)  petal width (cm)  \\\n",
              "0                5.1               3.5                1.4               0.2   \n",
              "1                4.9               3.0                1.4               0.2   \n",
              "2                4.7               3.2                1.3               0.2   \n",
              "3                4.6               3.1                1.5               0.2   \n",
              "4                5.0               3.6                1.4               0.2   \n",
              "\n",
              "   label  \n",
              "0      0  \n",
              "1      0  \n",
              "2      0  \n",
              "3      0  \n",
              "4      0  "
            ],
            "text/html": [
              "\n",
              "  <div id=\"df-f96222fe-0f43-426f-a2b4-fd2674da8590\" class=\"colab-df-container\">\n",
              "    <div>\n",
              "<style scoped>\n",
              "    .dataframe tbody tr th:only-of-type {\n",
              "        vertical-align: middle;\n",
              "    }\n",
              "\n",
              "    .dataframe tbody tr th {\n",
              "        vertical-align: top;\n",
              "    }\n",
              "\n",
              "    .dataframe thead th {\n",
              "        text-align: right;\n",
              "    }\n",
              "</style>\n",
              "<table border=\"1\" class=\"dataframe\">\n",
              "  <thead>\n",
              "    <tr style=\"text-align: right;\">\n",
              "      <th></th>\n",
              "      <th>sepal length (cm)</th>\n",
              "      <th>sepal width (cm)</th>\n",
              "      <th>petal length (cm)</th>\n",
              "      <th>petal width (cm)</th>\n",
              "      <th>label</th>\n",
              "    </tr>\n",
              "  </thead>\n",
              "  <tbody>\n",
              "    <tr>\n",
              "      <th>0</th>\n",
              "      <td>5.1</td>\n",
              "      <td>3.5</td>\n",
              "      <td>1.4</td>\n",
              "      <td>0.2</td>\n",
              "      <td>0</td>\n",
              "    </tr>\n",
              "    <tr>\n",
              "      <th>1</th>\n",
              "      <td>4.9</td>\n",
              "      <td>3.0</td>\n",
              "      <td>1.4</td>\n",
              "      <td>0.2</td>\n",
              "      <td>0</td>\n",
              "    </tr>\n",
              "    <tr>\n",
              "      <th>2</th>\n",
              "      <td>4.7</td>\n",
              "      <td>3.2</td>\n",
              "      <td>1.3</td>\n",
              "      <td>0.2</td>\n",
              "      <td>0</td>\n",
              "    </tr>\n",
              "    <tr>\n",
              "      <th>3</th>\n",
              "      <td>4.6</td>\n",
              "      <td>3.1</td>\n",
              "      <td>1.5</td>\n",
              "      <td>0.2</td>\n",
              "      <td>0</td>\n",
              "    </tr>\n",
              "    <tr>\n",
              "      <th>4</th>\n",
              "      <td>5.0</td>\n",
              "      <td>3.6</td>\n",
              "      <td>1.4</td>\n",
              "      <td>0.2</td>\n",
              "      <td>0</td>\n",
              "    </tr>\n",
              "  </tbody>\n",
              "</table>\n",
              "</div>\n",
              "    <div class=\"colab-df-buttons\">\n",
              "\n",
              "  <div class=\"colab-df-container\">\n",
              "    <button class=\"colab-df-convert\" onclick=\"convertToInteractive('df-f96222fe-0f43-426f-a2b4-fd2674da8590')\"\n",
              "            title=\"Convert this dataframe to an interactive table.\"\n",
              "            style=\"display:none;\">\n",
              "\n",
              "  <svg xmlns=\"http://www.w3.org/2000/svg\" height=\"24px\" viewBox=\"0 -960 960 960\">\n",
              "    <path d=\"M120-120v-720h720v720H120Zm60-500h600v-160H180v160Zm220 220h160v-160H400v160Zm0 220h160v-160H400v160ZM180-400h160v-160H180v160Zm440 0h160v-160H620v160ZM180-180h160v-160H180v160Zm440 0h160v-160H620v160Z\"/>\n",
              "  </svg>\n",
              "    </button>\n",
              "\n",
              "  <style>\n",
              "    .colab-df-container {\n",
              "      display:flex;\n",
              "      gap: 12px;\n",
              "    }\n",
              "\n",
              "    .colab-df-convert {\n",
              "      background-color: #E8F0FE;\n",
              "      border: none;\n",
              "      border-radius: 50%;\n",
              "      cursor: pointer;\n",
              "      display: none;\n",
              "      fill: #1967D2;\n",
              "      height: 32px;\n",
              "      padding: 0 0 0 0;\n",
              "      width: 32px;\n",
              "    }\n",
              "\n",
              "    .colab-df-convert:hover {\n",
              "      background-color: #E2EBFA;\n",
              "      box-shadow: 0px 1px 2px rgba(60, 64, 67, 0.3), 0px 1px 3px 1px rgba(60, 64, 67, 0.15);\n",
              "      fill: #174EA6;\n",
              "    }\n",
              "\n",
              "    .colab-df-buttons div {\n",
              "      margin-bottom: 4px;\n",
              "    }\n",
              "\n",
              "    [theme=dark] .colab-df-convert {\n",
              "      background-color: #3B4455;\n",
              "      fill: #D2E3FC;\n",
              "    }\n",
              "\n",
              "    [theme=dark] .colab-df-convert:hover {\n",
              "      background-color: #434B5C;\n",
              "      box-shadow: 0px 1px 3px 1px rgba(0, 0, 0, 0.15);\n",
              "      filter: drop-shadow(0px 1px 2px rgba(0, 0, 0, 0.3));\n",
              "      fill: #FFFFFF;\n",
              "    }\n",
              "  </style>\n",
              "\n",
              "    <script>\n",
              "      const buttonEl =\n",
              "        document.querySelector('#df-f96222fe-0f43-426f-a2b4-fd2674da8590 button.colab-df-convert');\n",
              "      buttonEl.style.display =\n",
              "        google.colab.kernel.accessAllowed ? 'block' : 'none';\n",
              "\n",
              "      async function convertToInteractive(key) {\n",
              "        const element = document.querySelector('#df-f96222fe-0f43-426f-a2b4-fd2674da8590');\n",
              "        const dataTable =\n",
              "          await google.colab.kernel.invokeFunction('convertToInteractive',\n",
              "                                                    [key], {});\n",
              "        if (!dataTable) return;\n",
              "\n",
              "        const docLinkHtml = 'Like what you see? Visit the ' +\n",
              "          '<a target=\"_blank\" href=https://colab.research.google.com/notebooks/data_table.ipynb>data table notebook</a>'\n",
              "          + ' to learn more about interactive tables.';\n",
              "        element.innerHTML = '';\n",
              "        dataTable['output_type'] = 'display_data';\n",
              "        await google.colab.output.renderOutput(dataTable, element);\n",
              "        const docLink = document.createElement('div');\n",
              "        docLink.innerHTML = docLinkHtml;\n",
              "        element.appendChild(docLink);\n",
              "      }\n",
              "    </script>\n",
              "  </div>\n",
              "\n",
              "\n",
              "<div id=\"df-68c39815-040a-4094-b096-916381cb3808\">\n",
              "  <button class=\"colab-df-quickchart\" onclick=\"quickchart('df-68c39815-040a-4094-b096-916381cb3808')\"\n",
              "            title=\"Suggest charts.\"\n",
              "            style=\"display:none;\">\n",
              "\n",
              "<svg xmlns=\"http://www.w3.org/2000/svg\" height=\"24px\"viewBox=\"0 0 24 24\"\n",
              "     width=\"24px\">\n",
              "    <g>\n",
              "        <path d=\"M19 3H5c-1.1 0-2 .9-2 2v14c0 1.1.9 2 2 2h14c1.1 0 2-.9 2-2V5c0-1.1-.9-2-2-2zM9 17H7v-7h2v7zm4 0h-2V7h2v10zm4 0h-2v-4h2v4z\"/>\n",
              "    </g>\n",
              "</svg>\n",
              "  </button>\n",
              "\n",
              "<style>\n",
              "  .colab-df-quickchart {\n",
              "      --bg-color: #E8F0FE;\n",
              "      --fill-color: #1967D2;\n",
              "      --hover-bg-color: #E2EBFA;\n",
              "      --hover-fill-color: #174EA6;\n",
              "      --disabled-fill-color: #AAA;\n",
              "      --disabled-bg-color: #DDD;\n",
              "  }\n",
              "\n",
              "  [theme=dark] .colab-df-quickchart {\n",
              "      --bg-color: #3B4455;\n",
              "      --fill-color: #D2E3FC;\n",
              "      --hover-bg-color: #434B5C;\n",
              "      --hover-fill-color: #FFFFFF;\n",
              "      --disabled-bg-color: #3B4455;\n",
              "      --disabled-fill-color: #666;\n",
              "  }\n",
              "\n",
              "  .colab-df-quickchart {\n",
              "    background-color: var(--bg-color);\n",
              "    border: none;\n",
              "    border-radius: 50%;\n",
              "    cursor: pointer;\n",
              "    display: none;\n",
              "    fill: var(--fill-color);\n",
              "    height: 32px;\n",
              "    padding: 0;\n",
              "    width: 32px;\n",
              "  }\n",
              "\n",
              "  .colab-df-quickchart:hover {\n",
              "    background-color: var(--hover-bg-color);\n",
              "    box-shadow: 0 1px 2px rgba(60, 64, 67, 0.3), 0 1px 3px 1px rgba(60, 64, 67, 0.15);\n",
              "    fill: var(--button-hover-fill-color);\n",
              "  }\n",
              "\n",
              "  .colab-df-quickchart-complete:disabled,\n",
              "  .colab-df-quickchart-complete:disabled:hover {\n",
              "    background-color: var(--disabled-bg-color);\n",
              "    fill: var(--disabled-fill-color);\n",
              "    box-shadow: none;\n",
              "  }\n",
              "\n",
              "  .colab-df-spinner {\n",
              "    border: 2px solid var(--fill-color);\n",
              "    border-color: transparent;\n",
              "    border-bottom-color: var(--fill-color);\n",
              "    animation:\n",
              "      spin 1s steps(1) infinite;\n",
              "  }\n",
              "\n",
              "  @keyframes spin {\n",
              "    0% {\n",
              "      border-color: transparent;\n",
              "      border-bottom-color: var(--fill-color);\n",
              "      border-left-color: var(--fill-color);\n",
              "    }\n",
              "    20% {\n",
              "      border-color: transparent;\n",
              "      border-left-color: var(--fill-color);\n",
              "      border-top-color: var(--fill-color);\n",
              "    }\n",
              "    30% {\n",
              "      border-color: transparent;\n",
              "      border-left-color: var(--fill-color);\n",
              "      border-top-color: var(--fill-color);\n",
              "      border-right-color: var(--fill-color);\n",
              "    }\n",
              "    40% {\n",
              "      border-color: transparent;\n",
              "      border-right-color: var(--fill-color);\n",
              "      border-top-color: var(--fill-color);\n",
              "    }\n",
              "    60% {\n",
              "      border-color: transparent;\n",
              "      border-right-color: var(--fill-color);\n",
              "    }\n",
              "    80% {\n",
              "      border-color: transparent;\n",
              "      border-right-color: var(--fill-color);\n",
              "      border-bottom-color: var(--fill-color);\n",
              "    }\n",
              "    90% {\n",
              "      border-color: transparent;\n",
              "      border-bottom-color: var(--fill-color);\n",
              "    }\n",
              "  }\n",
              "</style>\n",
              "\n",
              "  <script>\n",
              "    async function quickchart(key) {\n",
              "      const quickchartButtonEl =\n",
              "        document.querySelector('#' + key + ' button');\n",
              "      quickchartButtonEl.disabled = true;  // To prevent multiple clicks.\n",
              "      quickchartButtonEl.classList.add('colab-df-spinner');\n",
              "      try {\n",
              "        const charts = await google.colab.kernel.invokeFunction(\n",
              "            'suggestCharts', [key], {});\n",
              "      } catch (error) {\n",
              "        console.error('Error during call to suggestCharts:', error);\n",
              "      }\n",
              "      quickchartButtonEl.classList.remove('colab-df-spinner');\n",
              "      quickchartButtonEl.classList.add('colab-df-quickchart-complete');\n",
              "    }\n",
              "    (() => {\n",
              "      let quickchartButtonEl =\n",
              "        document.querySelector('#df-68c39815-040a-4094-b096-916381cb3808 button');\n",
              "      quickchartButtonEl.style.display =\n",
              "        google.colab.kernel.accessAllowed ? 'block' : 'none';\n",
              "    })();\n",
              "  </script>\n",
              "</div>\n",
              "    </div>\n",
              "  </div>\n"
            ]
          },
          "metadata": {},
          "execution_count": 3
        }
      ]
    },
    {
      "cell_type": "markdown",
      "metadata": {
        "id": "0ZqMRYJRap8o"
      },
      "source": [
        "## 입력데이터(input data)와 레이블(label) 분리"
      ]
    },
    {
      "cell_type": "code",
      "metadata": {
        "id": "wqgceRnRVlJh"
      },
      "source": [
        "X = df.drop('label', axis=1).to_numpy()\n",
        "Y = df['label'].to_numpy().reshape((-1,1))"
      ],
      "execution_count": 4,
      "outputs": []
    },
    {
      "cell_type": "code",
      "metadata": {
        "colab": {
          "base_uri": "https://localhost:8080/"
        },
        "id": "RZmyTIZ_cs5Z",
        "outputId": "be25e30b-23d6-49c0-dcd5-ef216cc5421f"
      },
      "source": [
        "X.shape"
      ],
      "execution_count": 5,
      "outputs": [
        {
          "output_type": "execute_result",
          "data": {
            "text/plain": [
              "(150, 4)"
            ]
          },
          "metadata": {},
          "execution_count": 5
        }
      ]
    },
    {
      "cell_type": "code",
      "metadata": {
        "colab": {
          "base_uri": "https://localhost:8080/"
        },
        "id": "X6aNHoxIc2Xi",
        "outputId": "a12b68fb-fc64-4c94-a105-7f8a0575a779"
      },
      "source": [
        "Y.shape"
      ],
      "execution_count": 6,
      "outputs": [
        {
          "output_type": "execute_result",
          "data": {
            "text/plain": [
              "(150, 1)"
            ]
          },
          "metadata": {},
          "execution_count": 6
        }
      ]
    },
    {
      "cell_type": "markdown",
      "metadata": {
        "id": "pX3Oo6e2bZFs"
      },
      "source": [
        "## 입력 데이터 정규화"
      ]
    },
    {
      "cell_type": "code",
      "metadata": {
        "id": "B4-Coj19V7Gb"
      },
      "source": [
        "from sklearn.preprocessing import StandardScaler\n",
        "\n",
        "scaler = StandardScaler()\n",
        "X_scaled = scaler.fit_transform(X)"
      ],
      "execution_count": 7,
      "outputs": []
    },
    {
      "cell_type": "markdown",
      "metadata": {
        "id": "kLA70PAYbCVI"
      },
      "source": [
        "## 훈련데이터셋과 테스트데이터셋으로 분리"
      ]
    },
    {
      "cell_type": "code",
      "metadata": {
        "id": "2u5KcBw7cHYZ"
      },
      "source": [
        "from sklearn.model_selection import train_test_split\n",
        "\n",
        "X_train, X_test, Y_train, Y_test = train_test_split(X_scaled, y, test_size=0.3, random_state=42)"
      ],
      "execution_count": 8,
      "outputs": []
    },
    {
      "cell_type": "markdown",
      "metadata": {
        "id": "03b5lt2_cJlg"
      },
      "source": [
        "## 데이터셋 클래스"
      ]
    },
    {
      "cell_type": "code",
      "metadata": {
        "id": "49bta2v9V1Gf"
      },
      "source": [
        "import torch\n",
        "from torch import nn, optim\n",
        "import torch.nn.functional as F\n",
        "from torch.utils.data import DataLoader, Dataset\n",
        "\n",
        "class TensorData(Dataset):\n",
        "    def __init__(self, x_data, y_data):\n",
        "        self.x_data = torch.FloatTensor(x_data)\n",
        "        self.y_data = torch.LongTensor(y_data)\n",
        "        self.len = self.y_data.shape[0]\n",
        "\n",
        "    def __getitem__(self, index):\n",
        "        return self.x_data[index], self.y_data[index]\n",
        "\n",
        "    def __len__(self):\n",
        "        return self.len"
      ],
      "execution_count": 9,
      "outputs": []
    },
    {
      "cell_type": "markdown",
      "metadata": {
        "id": "ff_03tN1bl9o"
      },
      "source": [
        "## 데이터 로더"
      ]
    },
    {
      "cell_type": "code",
      "metadata": {
        "id": "4GtysJQHbyyk"
      },
      "source": [
        "train_ds = TensorData(X_train, Y_train)\n",
        "trainloader = torch.utils.data.DataLoader(train_ds, batch_size=16, shuffle=True)\n",
        "\n",
        "test_ds = TensorData(X_test, Y_test)\n",
        "testloader = torch.utils.data.DataLoader(test_ds, batch_size=16, shuffle=False)"
      ],
      "execution_count": 10,
      "outputs": []
    },
    {
      "cell_type": "code",
      "metadata": {
        "id": "NF8dBOLBX3qV",
        "colab": {
          "base_uri": "https://localhost:8080/"
        },
        "outputId": "4be068e7-efd0-4bab-8a5f-38fdcfe7ffd9"
      },
      "source": [
        "test_ds[0]"
      ],
      "execution_count": 11,
      "outputs": [
        {
          "output_type": "execute_result",
          "data": {
            "text/plain": [
              "(tensor([ 0.3110, -0.5924,  0.5354,  0.0009]), tensor(1))"
            ]
          },
          "metadata": {},
          "execution_count": 11
        }
      ]
    },
    {
      "cell_type": "markdown",
      "metadata": {
        "id": "HD9TyJC6jdLQ"
      },
      "source": [
        "## 신경망 모델 아키텍처"
      ]
    },
    {
      "cell_type": "code",
      "metadata": {
        "id": "ho9a-5tfViu6"
      },
      "source": [
        "class Classifier(nn.Module):\n",
        "    def __init__(self):\n",
        "        super(Classifier, self).__init__()\n",
        "        self.fc1 = nn.Linear(4, 200)\n",
        "        self.fc2 = nn.Linear(200, 100)\n",
        "        self.fc3 = nn.Linear(100, 3)\n",
        "        self.softmax = nn.Softmax(dim=1)\n",
        "\n",
        "    def forward(self, X):\n",
        "        X = F.relu(self.fc1(X))\n",
        "        X = self.fc2(X)\n",
        "        X = self.fc3(X)\n",
        "        X = self.softmax(X)\n",
        "        return X"
      ],
      "execution_count": 12,
      "outputs": []
    },
    {
      "cell_type": "markdown",
      "metadata": {
        "id": "yY9rF9_KpvXE"
      },
      "source": [
        "## 신경망 모델 객체 생성"
      ]
    },
    {
      "cell_type": "code",
      "metadata": {
        "id": "IqgpQ5rzpnr4"
      },
      "source": [
        "model = Classifier()"
      ],
      "execution_count": 13,
      "outputs": []
    },
    {
      "cell_type": "markdown",
      "metadata": {
        "id": "MfKnTMpNqQ-G"
      },
      "source": [
        "## 손실 함수"
      ]
    },
    {
      "cell_type": "code",
      "metadata": {
        "id": "esrudwSaqM6t"
      },
      "source": [
        "criterion = nn.CrossEntropyLoss()"
      ],
      "execution_count": 14,
      "outputs": []
    },
    {
      "cell_type": "markdown",
      "metadata": {
        "id": "qLxlJ6luqEzn"
      },
      "source": [
        "## 옵티마이저를 생성하고, 생성한 모델의 파라미터를  최적화 대상으로 등록\n"
      ]
    },
    {
      "cell_type": "code",
      "metadata": {
        "id": "ymEpWZ2SVsn5"
      },
      "source": [
        " optimizer = optim.Adam(model.parameters(), lr=0.001, weight_decay=1e-7)"
      ],
      "execution_count": 15,
      "outputs": []
    },
    {
      "cell_type": "markdown",
      "metadata": {
        "id": "R3Hlf7vIjnif"
      },
      "source": [
        "## 신경망 모델 훈련(학습)"
      ]
    },
    {
      "cell_type": "code",
      "metadata": {
        "id": "HWrxC60iWOGP",
        "colab": {
          "base_uri": "https://localhost:8080/"
        },
        "outputId": "6cd0179c-ca1e-41c9-ccd8-d2a1910795b4"
      },
      "source": [
        "epochs = 10\n",
        "\n",
        "for epoch in range(epochs):\n",
        "    print(f'### epoch {epoch+1} ###############')\n",
        "    for i, data in enumerate(trainloader, 0):\n",
        "        input, target = data\n",
        "        optimizer.zero_grad()\n",
        "        pred = model(input)\n",
        "        loss = criterion(pred, target)\n",
        "        loss.backward()\n",
        "        optimizer.step()\n",
        "        print(f'{i+1} : Loss {loss}')"
      ],
      "execution_count": 16,
      "outputs": [
        {
          "output_type": "stream",
          "name": "stdout",
          "text": [
            "### epoch 1 ###############\n",
            "1 : Loss 1.115409016609192\n",
            "2 : Loss 1.0722088813781738\n",
            "3 : Loss 1.061854600906372\n",
            "4 : Loss 1.0023988485336304\n",
            "5 : Loss 0.9306171536445618\n",
            "6 : Loss 0.9811887145042419\n",
            "7 : Loss 0.9298067092895508\n",
            "### epoch 2 ###############\n",
            "1 : Loss 0.9043833613395691\n",
            "2 : Loss 0.85558021068573\n",
            "3 : Loss 0.867655873298645\n",
            "4 : Loss 0.8547680377960205\n",
            "5 : Loss 0.832449734210968\n",
            "6 : Loss 0.7473430633544922\n",
            "7 : Loss 0.831342339515686\n",
            "### epoch 3 ###############\n",
            "1 : Loss 0.6943833231925964\n",
            "2 : Loss 0.7519823908805847\n",
            "3 : Loss 0.7216482758522034\n",
            "4 : Loss 0.8271784782409668\n",
            "5 : Loss 0.7789612412452698\n",
            "6 : Loss 0.834022581577301\n",
            "7 : Loss 0.7820742726325989\n",
            "### epoch 4 ###############\n",
            "1 : Loss 0.6742343902587891\n",
            "2 : Loss 0.7957671284675598\n",
            "3 : Loss 0.6850881576538086\n",
            "4 : Loss 0.6831865310668945\n",
            "5 : Loss 0.6893842220306396\n",
            "6 : Loss 0.7587785720825195\n",
            "7 : Loss 0.8075346946716309\n",
            "### epoch 5 ###############\n",
            "1 : Loss 0.770237386226654\n",
            "2 : Loss 0.6666763424873352\n",
            "3 : Loss 0.7329469323158264\n",
            "4 : Loss 0.6327753663063049\n",
            "5 : Loss 0.6676557064056396\n",
            "6 : Loss 0.7084958553314209\n",
            "7 : Loss 0.8513455390930176\n",
            "### epoch 6 ###############\n",
            "1 : Loss 0.662858247756958\n",
            "2 : Loss 0.6654435396194458\n",
            "3 : Loss 0.6818850040435791\n",
            "4 : Loss 0.6467138528823853\n",
            "5 : Loss 0.6976813077926636\n",
            "6 : Loss 0.6949942111968994\n",
            "7 : Loss 0.828369677066803\n",
            "### epoch 7 ###############\n",
            "1 : Loss 0.6586788296699524\n",
            "2 : Loss 0.7288355827331543\n",
            "3 : Loss 0.6720555424690247\n",
            "4 : Loss 0.6473380923271179\n",
            "5 : Loss 0.6174425482749939\n",
            "6 : Loss 0.6205319762229919\n",
            "7 : Loss 0.8361464738845825\n",
            "### epoch 8 ###############\n",
            "1 : Loss 0.6738852858543396\n",
            "2 : Loss 0.6170077919960022\n",
            "3 : Loss 0.6687607169151306\n",
            "4 : Loss 0.6365609765052795\n",
            "5 : Loss 0.7162290215492249\n",
            "6 : Loss 0.5962918400764465\n",
            "7 : Loss 0.7098854780197144\n",
            "### epoch 9 ###############\n",
            "1 : Loss 0.6608208417892456\n",
            "2 : Loss 0.6579315066337585\n",
            "3 : Loss 0.5675660371780396\n",
            "4 : Loss 0.666243314743042\n",
            "5 : Loss 0.7018043994903564\n",
            "6 : Loss 0.6023682951927185\n",
            "7 : Loss 0.6708985567092896\n",
            "### epoch 10 ###############\n",
            "1 : Loss 0.7359974384307861\n",
            "2 : Loss 0.6023394465446472\n",
            "3 : Loss 0.6585187911987305\n",
            "4 : Loss 0.6193495988845825\n",
            "5 : Loss 0.6105175614356995\n",
            "6 : Loss 0.5732037425041199\n",
            "7 : Loss 0.6355676651000977\n"
          ]
        }
      ]
    },
    {
      "cell_type": "markdown",
      "metadata": {
        "id": "mMkJWrlckJun"
      },
      "source": [
        "## 신경망 모델 평가"
      ]
    },
    {
      "cell_type": "code",
      "metadata": {
        "id": "TGl8XgyEYDDD",
        "colab": {
          "base_uri": "https://localhost:8080/"
        },
        "outputId": "960026d2-3c26-45ca-9a40-c08fe7123449"
      },
      "source": [
        "correct = 0\n",
        "with torch.no_grad():\n",
        "  for i, data in enumerate(test_ds):\n",
        "    label = data[1].numpy()\n",
        "    output = model.forward(data[0].reshape(1,-1))\n",
        "    pred = output.argmax().item()\n",
        "\n",
        "    if label == pred:\n",
        "        correct += 1\n",
        "\n",
        "print(f'정확도 : {correct/len(test_ds)*100:.2f}%')"
      ],
      "execution_count": 17,
      "outputs": [
        {
          "output_type": "stream",
          "name": "stdout",
          "text": [
            "정확도 : 95.56%\n"
          ]
        }
      ]
    },
    {
      "cell_type": "code",
      "metadata": {
        "id": "YTchqI26Ya7k"
      },
      "source": [],
      "execution_count": null,
      "outputs": []
    }
  ]
}